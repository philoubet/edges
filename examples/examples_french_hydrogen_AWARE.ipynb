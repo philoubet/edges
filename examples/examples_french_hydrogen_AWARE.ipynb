{
 "cells": [
  {
   "cell_type": "markdown",
   "metadata": {},
   "source": [
    "# Use examples of [edges](https://github.com/romainsacchi/edges)\n",
    "\n",
    "Author: [romainsacchi](https://github.com/romainsacchi)\n",
    "\n",
    "This notebook shows examples on how to use `edge` to use location-specific\n",
    "characterization factors in the characterization matrix of `bw2calc`.\n",
    "\n",
    "## Requirements\n",
    "\n",
    "* **Pyhton 3.10 or higher (up to 3.11) is highly recommended**\n",
    "* `bw2calc >= 2.0.0`"
   ]
  },
  {
   "cell_type": "markdown",
   "metadata": {},
   "source": [
    "# Use case with [brightway2](https://brightway.dev/)\n",
    "\n",
    "`brightway2` is an open source LCA framework for Python.\n",
    "To use `premise` from `brightway2`, it requires that you have an activated `brightway2` project with a `biosphere3` database as well as an [ecoinvent](https://ecoinvent.prg) v.3 cut-off or consequential database registered in that project. Please refer to the brightway [documentation](https://brightway.dev) if you do not know how to create a project and install ecoinvent."
   ]
  },
  {
   "cell_type": "code",
   "execution_count": 1,
   "metadata": {
    "ExecuteTime": {
     "end_time": "2025-01-07T08:37:43.662932Z",
     "start_time": "2025-01-07T08:37:40.901892Z"
    }
   },
   "outputs": [],
   "source": [
    "from edges import EdgeLCIA, get_available_methods\n",
    "import bw2data"
   ]
  },
  {
   "cell_type": "markdown",
   "metadata": {},
   "source": [
    "### List of available methods\n"
   ]
  },
  {
   "cell_type": "code",
   "execution_count": 2,
   "metadata": {
    "ExecuteTime": {
     "end_time": "2025-01-07T08:37:48.952963Z",
     "start_time": "2025-01-07T08:37:48.932769Z"
    }
   },
   "outputs": [
    {
     "data": {
      "text/plain": [
       "[('AWARE 1.2c', 'Country', 'irri', 'apr'),\n",
       " ('AWARE 1.2c', 'Country', 'irri', 'aug'),\n",
       " ('AWARE 1.2c', 'Country', 'irri', 'dec'),\n",
       " ('AWARE 1.2c', 'Country', 'irri', 'feb'),\n",
       " ('AWARE 1.2c', 'Country', 'irri', 'jan'),\n",
       " ('AWARE 1.2c', 'Country', 'irri', 'jul'),\n",
       " ('AWARE 1.2c', 'Country', 'irri', 'jun'),\n",
       " ('AWARE 1.2c', 'Country', 'irri', 'mar'),\n",
       " ('AWARE 1.2c', 'Country', 'irri', 'may'),\n",
       " ('AWARE 1.2c', 'Country', 'irri', 'nov'),\n",
       " ('AWARE 1.2c', 'Country', 'irri', 'oct'),\n",
       " ('AWARE 1.2c', 'Country', 'irri', 'sep'),\n",
       " ('AWARE 1.2c', 'Country', 'irri', 'yearly'),\n",
       " ('AWARE 1.2c', 'Country', 'non', 'irri', 'apr'),\n",
       " ('AWARE 1.2c', 'Country', 'non', 'irri', 'aug'),\n",
       " ('AWARE 1.2c', 'Country', 'non', 'irri', 'dec'),\n",
       " ('AWARE 1.2c', 'Country', 'non', 'irri', 'feb'),\n",
       " ('AWARE 1.2c', 'Country', 'non', 'irri', 'jan'),\n",
       " ('AWARE 1.2c', 'Country', 'non', 'irri', 'jul'),\n",
       " ('AWARE 1.2c', 'Country', 'non', 'irri', 'jun'),\n",
       " ('AWARE 1.2c', 'Country', 'non', 'irri', 'mar'),\n",
       " ('AWARE 1.2c', 'Country', 'non', 'irri', 'may'),\n",
       " ('AWARE 1.2c', 'Country', 'non', 'irri', 'nov'),\n",
       " ('AWARE 1.2c', 'Country', 'non', 'irri', 'oct'),\n",
       " ('AWARE 1.2c', 'Country', 'non', 'irri', 'sep'),\n",
       " ('AWARE 1.2c', 'Country', 'non', 'irri', 'yearly'),\n",
       " ('AWARE 1.2c', 'Country', 'unspecified', 'apr'),\n",
       " ('AWARE 1.2c', 'Country', 'unspecified', 'aug'),\n",
       " ('AWARE 1.2c', 'Country', 'unspecified', 'dec'),\n",
       " ('AWARE 1.2c', 'Country', 'unspecified', 'feb'),\n",
       " ('AWARE 1.2c', 'Country', 'unspecified', 'jan'),\n",
       " ('AWARE 1.2c', 'Country', 'unspecified', 'jul'),\n",
       " ('AWARE 1.2c', 'Country', 'unspecified', 'jun'),\n",
       " ('AWARE 1.2c', 'Country', 'unspecified', 'mar'),\n",
       " ('AWARE 1.2c', 'Country', 'unspecified', 'may'),\n",
       " ('AWARE 1.2c', 'Country', 'unspecified', 'nov'),\n",
       " ('AWARE 1.2c', 'Country', 'unspecified', 'oct'),\n",
       " ('AWARE 1.2c', 'Country', 'unspecified', 'sep'),\n",
       " ('AWARE 1.2c', 'Country', 'unspecified', 'yearly'),\n",
       " ('GeoPolRisk', '2024'),\n",
       " ('RELICS', 'copper')]"
      ]
     },
     "execution_count": 2,
     "metadata": {},
     "output_type": "execute_result"
    }
   ],
   "source": [
    "get_available_methods()"
   ]
  },
  {
   "cell_type": "markdown",
   "metadata": {},
   "source": [
    "### Biosphere edges-based LCIA\n",
    "\n",
    "The `EdgeLCIA` class is a subclass of `bw2calc.LCA` that allows for the use of location-specific characterization factors in the characterization matrix of `bw2calc`. `SpatialLCA`can therefore be used as a drop-in replacement for `bw2calc.LCA` in most cases."
   ]
  },
  {
   "cell_type": "code",
   "execution_count": 3,
   "metadata": {
    "ExecuteTime": {
     "end_time": "2025-01-07T08:37:56.569336Z",
     "start_time": "2025-01-07T08:37:56.553160Z"
    }
   },
   "outputs": [],
   "source": [
    "# activate the bw project\n",
    "bw2data.projects.set_current(\"bw25_ei310\")"
   ]
  },
  {
   "cell_type": "code",
   "execution_count": 4,
   "metadata": {
    "ExecuteTime": {
     "end_time": "2025-01-07T08:37:57.262334Z",
     "start_time": "2025-01-07T08:37:57.234394Z"
    }
   },
   "outputs": [
    {
     "data": {
      "text/plain": [
       "'propylene production, from propane dehydrogenation' (kilogram, RoW, None)"
      ]
     },
     "execution_count": 4,
     "metadata": {},
     "output_type": "execute_result"
    }
   ],
   "source": [
    "act = bw2data.Database(\"ecoinvent-3.10-cutoff\").random()\n",
    "act"
   ]
  },
  {
   "cell_type": "code",
   "execution_count": 5,
   "metadata": {
    "ExecuteTime": {
     "end_time": "2025-01-07T08:37:59.994587Z",
     "start_time": "2025-01-07T08:37:59.992397Z"
    }
   },
   "outputs": [],
   "source": [
    "method = ('AWARE 1.2c', 'Country', 'non', 'irri', 'yearly')"
   ]
  },
  {
   "cell_type": "code",
   "execution_count": 6,
   "metadata": {
    "ExecuteTime": {
     "end_time": "2025-01-07T08:38:09.658697Z",
     "start_time": "2025-01-07T08:38:00.604041Z"
    }
   },
   "outputs": [
    {
     "name": "stderr",
     "output_type": "stream",
     "text": [
      "/opt/homebrew/Caskroom/miniforge/base/envs/bw25/lib/python3.11/site-packages/scikits/umfpack/umfpack.py:736: UmfpackWarning: (almost) singular matrix! (estimated cond. number: 1.21e+13)\n",
      "  warnings.warn(msg, UmfpackWarning)\n"
     ]
    },
    {
     "name": "stdout",
     "output_type": "stream",
     "text": [
      "Warning: some locations are not found in the database. Check logs.\n"
     ]
    },
    {
     "data": {
      "text/plain": [
       "0.14365067714572888"
      ]
     },
     "execution_count": 6,
     "metadata": {},
     "output_type": "execute_result"
    }
   ],
   "source": [
    "LCA = EdgeLCIA({act: 1}, method)\n",
    "LCA.lci()\n",
    "LCA.lcia()\n",
    "LCA.score"
   ]
  },
  {
   "cell_type": "code",
   "execution_count": 7,
   "metadata": {
    "ExecuteTime": {
     "end_time": "2025-01-07T08:38:14.786149Z",
     "start_time": "2025-01-07T08:38:14.781226Z"
    }
   },
   "outputs": [
    {
     "data": {
      "text/plain": [
       "set()"
      ]
     },
     "execution_count": 7,
     "metadata": {},
     "output_type": "execute_result"
    }
   ],
   "source": [
    "# let's check locations that have been ignored, if any\n",
    "LCA.ignored_locations"
   ]
  },
  {
   "cell_type": "markdown",
   "metadata": {},
   "source": [
    "### Generate dataframe of characterization factors used\n",
    "\n",
    "The `generate_cf_table` method generates a dataframe of the characterization factors used in the calculation. One can see the characterization factors used for each exchange in the system."
   ]
  },
  {
   "cell_type": "code",
   "execution_count": 8,
   "metadata": {
    "ExecuteTime": {
     "end_time": "2025-01-07T08:38:21.390229Z",
     "start_time": "2025-01-07T08:38:18.710854Z"
    }
   },
   "outputs": [
    {
     "name": "stdout",
     "output_type": "stream",
     "text": [
      "Matrix type: biosphere\n"
     ]
    }
   ],
   "source": [
    "df = LCA.generate_cf_table()"
   ]
  },
  {
   "cell_type": "code",
   "execution_count": 9,
   "metadata": {
    "ExecuteTime": {
     "end_time": "2025-01-07T08:38:22.502033Z",
     "start_time": "2025-01-07T08:38:22.493461Z"
    }
   },
   "outputs": [
    {
     "data": {
      "text/html": [
       "<div>\n",
       "<style scoped>\n",
       "    .dataframe tbody tr th:only-of-type {\n",
       "        vertical-align: middle;\n",
       "    }\n",
       "\n",
       "    .dataframe tbody tr th {\n",
       "        vertical-align: top;\n",
       "    }\n",
       "\n",
       "    .dataframe thead th {\n",
       "        text-align: right;\n",
       "    }\n",
       "</style>\n",
       "<table border=\"1\" class=\"dataframe\">\n",
       "  <thead>\n",
       "    <tr style=\"text-align: right;\">\n",
       "      <th></th>\n",
       "      <th>supplier name</th>\n",
       "      <th>supplier categories</th>\n",
       "      <th>consumer name</th>\n",
       "      <th>consumer reference product</th>\n",
       "      <th>consumer location</th>\n",
       "      <th>amount</th>\n",
       "      <th>CF</th>\n",
       "      <th>impact</th>\n",
       "    </tr>\n",
       "  </thead>\n",
       "  <tbody>\n",
       "    <tr>\n",
       "      <th>0</th>\n",
       "      <td>Water, cooling, unspecified natural origin</td>\n",
       "      <td>(natural resource, in water)</td>\n",
       "      <td>cast iron production</td>\n",
       "      <td>cast iron</td>\n",
       "      <td>RoW</td>\n",
       "      <td>3.229341e-06</td>\n",
       "      <td>19.819034</td>\n",
       "      <td>6.400243e-05</td>\n",
       "    </tr>\n",
       "    <tr>\n",
       "      <th>1</th>\n",
       "      <td>Water, cooling, unspecified natural origin</td>\n",
       "      <td>(natural resource, in water)</td>\n",
       "      <td>polystyrene production, high impact</td>\n",
       "      <td>polystyrene, high impact</td>\n",
       "      <td>RER</td>\n",
       "      <td>1.702067e-06</td>\n",
       "      <td>6.750246</td>\n",
       "      <td>1.148937e-05</td>\n",
       "    </tr>\n",
       "    <tr>\n",
       "      <th>2</th>\n",
       "      <td>Water, cooling, unspecified natural origin</td>\n",
       "      <td>(natural resource, in water)</td>\n",
       "      <td>cast iron milling, average</td>\n",
       "      <td>cast iron removed by milling, average</td>\n",
       "      <td>RoW</td>\n",
       "      <td>7.476405e-12</td>\n",
       "      <td>19.819034</td>\n",
       "      <td>1.481751e-10</td>\n",
       "    </tr>\n",
       "    <tr>\n",
       "      <th>3</th>\n",
       "      <td>Water, cooling, unspecified natural origin</td>\n",
       "      <td>(natural resource, in water)</td>\n",
       "      <td>electricity production, oil</td>\n",
       "      <td>electricity, high voltage</td>\n",
       "      <td>CA-PE</td>\n",
       "      <td>7.266527e-09</td>\n",
       "      <td>1.276723</td>\n",
       "      <td>9.277343e-09</td>\n",
       "    </tr>\n",
       "    <tr>\n",
       "      <th>4</th>\n",
       "      <td>Water, cooling, unspecified natural origin</td>\n",
       "      <td>(natural resource, in water)</td>\n",
       "      <td>polypropylene production, granulate</td>\n",
       "      <td>polypropylene, granulate</td>\n",
       "      <td>RER</td>\n",
       "      <td>1.294188e-07</td>\n",
       "      <td>6.750246</td>\n",
       "      <td>8.736086e-07</td>\n",
       "    </tr>\n",
       "    <tr>\n",
       "      <th>...</th>\n",
       "      <td>...</td>\n",
       "      <td>...</td>\n",
       "      <td>...</td>\n",
       "      <td>...</td>\n",
       "      <td>...</td>\n",
       "      <td>...</td>\n",
       "      <td>...</td>\n",
       "      <td>...</td>\n",
       "    </tr>\n",
       "    <tr>\n",
       "      <th>8872</th>\n",
       "      <td>Water</td>\n",
       "      <td>(water, surface water)</td>\n",
       "      <td>petroleum and gas production, onshore</td>\n",
       "      <td>natural gas, high pressure</td>\n",
       "      <td>TH</td>\n",
       "      <td>2.282288e-07</td>\n",
       "      <td>-3.945516</td>\n",
       "      <td>-9.004803e-07</td>\n",
       "    </tr>\n",
       "    <tr>\n",
       "      <th>8873</th>\n",
       "      <td>Water</td>\n",
       "      <td>(water, surface water)</td>\n",
       "      <td>treatment of waste emulsion paint, municipal i...</td>\n",
       "      <td>waste emulsion paint</td>\n",
       "      <td>CH</td>\n",
       "      <td>1.113877e-10</td>\n",
       "      <td>-0.737323</td>\n",
       "      <td>-8.212873e-11</td>\n",
       "    </tr>\n",
       "    <tr>\n",
       "      <th>8874</th>\n",
       "      <td>Water</td>\n",
       "      <td>(water, surface water)</td>\n",
       "      <td>aluminium production, primary, liquid, prebake</td>\n",
       "      <td>aluminium, primary, liquid</td>\n",
       "      <td>IAI Area, Russia &amp; RER w/o EU27 &amp; EFTA</td>\n",
       "      <td>1.813644e-07</td>\n",
       "      <td>-3.594363</td>\n",
       "      <td>-6.518894e-07</td>\n",
       "    </tr>\n",
       "    <tr>\n",
       "      <th>8875</th>\n",
       "      <td>Water</td>\n",
       "      <td>(water, surface water)</td>\n",
       "      <td>citric acid production</td>\n",
       "      <td>citric acid</td>\n",
       "      <td>RNA</td>\n",
       "      <td>4.691378e-09</td>\n",
       "      <td>-8.711302</td>\n",
       "      <td>-4.086801e-08</td>\n",
       "    </tr>\n",
       "    <tr>\n",
       "      <th>8876</th>\n",
       "      <td>Water</td>\n",
       "      <td>(water, surface water)</td>\n",
       "      <td>treatment of leachate, SLF, refinery sludge, w...</td>\n",
       "      <td>leachate, SLF, refinery sludge</td>\n",
       "      <td>CH</td>\n",
       "      <td>7.841386e-13</td>\n",
       "      <td>-0.737323</td>\n",
       "      <td>-5.781636e-13</td>\n",
       "    </tr>\n",
       "  </tbody>\n",
       "</table>\n",
       "<p>8877 rows × 8 columns</p>\n",
       "</div>"
      ],
      "text/plain": [
       "                                   supplier name  \\\n",
       "0     Water, cooling, unspecified natural origin   \n",
       "1     Water, cooling, unspecified natural origin   \n",
       "2     Water, cooling, unspecified natural origin   \n",
       "3     Water, cooling, unspecified natural origin   \n",
       "4     Water, cooling, unspecified natural origin   \n",
       "...                                          ...   \n",
       "8872                                       Water   \n",
       "8873                                       Water   \n",
       "8874                                       Water   \n",
       "8875                                       Water   \n",
       "8876                                       Water   \n",
       "\n",
       "               supplier categories  \\\n",
       "0     (natural resource, in water)   \n",
       "1     (natural resource, in water)   \n",
       "2     (natural resource, in water)   \n",
       "3     (natural resource, in water)   \n",
       "4     (natural resource, in water)   \n",
       "...                            ...   \n",
       "8872        (water, surface water)   \n",
       "8873        (water, surface water)   \n",
       "8874        (water, surface water)   \n",
       "8875        (water, surface water)   \n",
       "8876        (water, surface water)   \n",
       "\n",
       "                                          consumer name  \\\n",
       "0                                  cast iron production   \n",
       "1                   polystyrene production, high impact   \n",
       "2                            cast iron milling, average   \n",
       "3                           electricity production, oil   \n",
       "4                   polypropylene production, granulate   \n",
       "...                                                 ...   \n",
       "8872              petroleum and gas production, onshore   \n",
       "8873  treatment of waste emulsion paint, municipal i...   \n",
       "8874     aluminium production, primary, liquid, prebake   \n",
       "8875                             citric acid production   \n",
       "8876  treatment of leachate, SLF, refinery sludge, w...   \n",
       "\n",
       "                 consumer reference product  \\\n",
       "0                                 cast iron   \n",
       "1                  polystyrene, high impact   \n",
       "2     cast iron removed by milling, average   \n",
       "3                 electricity, high voltage   \n",
       "4                  polypropylene, granulate   \n",
       "...                                     ...   \n",
       "8872             natural gas, high pressure   \n",
       "8873                   waste emulsion paint   \n",
       "8874             aluminium, primary, liquid   \n",
       "8875                            citric acid   \n",
       "8876         leachate, SLF, refinery sludge   \n",
       "\n",
       "                           consumer location        amount         CF  \\\n",
       "0                                        RoW  3.229341e-06  19.819034   \n",
       "1                                        RER  1.702067e-06   6.750246   \n",
       "2                                        RoW  7.476405e-12  19.819034   \n",
       "3                                      CA-PE  7.266527e-09   1.276723   \n",
       "4                                        RER  1.294188e-07   6.750246   \n",
       "...                                      ...           ...        ...   \n",
       "8872                                      TH  2.282288e-07  -3.945516   \n",
       "8873                                      CH  1.113877e-10  -0.737323   \n",
       "8874  IAI Area, Russia & RER w/o EU27 & EFTA  1.813644e-07  -3.594363   \n",
       "8875                                     RNA  4.691378e-09  -8.711302   \n",
       "8876                                      CH  7.841386e-13  -0.737323   \n",
       "\n",
       "            impact  \n",
       "0     6.400243e-05  \n",
       "1     1.148937e-05  \n",
       "2     1.481751e-10  \n",
       "3     9.277343e-09  \n",
       "4     8.736086e-07  \n",
       "...            ...  \n",
       "8872 -9.004803e-07  \n",
       "8873 -8.212873e-11  \n",
       "8874 -6.518894e-07  \n",
       "8875 -4.086801e-08  \n",
       "8876 -5.781636e-13  \n",
       "\n",
       "[8877 rows x 8 columns]"
      ]
     },
     "execution_count": 9,
     "metadata": {},
     "output_type": "execute_result"
    }
   ],
   "source": [
    "# we can see under the \"CF\" column\n",
    "# the characterization factors used for each exchange in the system\n",
    "df"
   ]
  },
  {
   "cell_type": "code",
   "execution_count": 10,
   "metadata": {
    "ExecuteTime": {
     "end_time": "2025-01-07T08:38:25.283612Z",
     "start_time": "2025-01-07T08:38:25.281289Z"
    }
   },
   "outputs": [],
   "source": [
    "locs = {\n",
    "    \"Auvergne-Rhône-Alpes\": \"FR-ARA\",\n",
    "    \"Nouvelle-Aquitaine\": \"FR-NA\",\n",
    "    \"Occitanie\": \"FR-OC\",\n",
    "    \"Pays de la Loire\": \"FR-PL\",\n",
    "    \"Provence-Alpes-Côte d'Azur\": \"FR-PACA\",\n",
    "    \"Bourgogne-Franche-Comté\": \"FR-BFC\",\n",
    "    \"Bretagne\": \"FR-BR\",\n",
    "    \"Centre-Val de Loire\": \"FR-CVL\",\n",
    "    \"Corse\": \"FR-CO\",\n",
    "    \"Grand Est\": \"FR-GE\",\n",
    "    \"Hauts-de-France\": \"FR-HF\",\n",
    "    \"Île-de-France\": \"FR-IL\",\n",
    "    \"Normandie\": \"FR-NO\"\n",
    "}"
   ]
  },
  {
   "cell_type": "code",
   "execution_count": 20,
   "metadata": {
    "ExecuteTime": {
     "end_time": "2025-01-07T08:48:13.999197Z",
     "start_time": "2025-01-07T08:48:13.985484Z"
    }
   },
   "outputs": [],
   "source": [
    "if \"h2\" in bw2data.databases:\n",
    "    del bw2data.databases[\"h2\"]"
   ]
  },
  {
   "cell_type": "code",
   "execution_count": 21,
   "metadata": {
    "ExecuteTime": {
     "end_time": "2025-01-07T08:48:15.008421Z",
     "start_time": "2025-01-07T08:48:15.002740Z"
    }
   },
   "outputs": [],
   "source": [
    "lci = {\n",
    "    (\"h2\", f\"hydrogen production, from electrolysis {loc}\"): {\n",
    "        \"name\": \"hydrogen production, from electrolysis\",\n",
    "        \"reference product\": \"hydrogen\",\n",
    "        \"location\": loc,\n",
    "        \"unit\": \"kilogram\",\n",
    "        \"classifications\": [\n",
    "            (\"ISIC\", \"Hydrogen production\"),\n",
    "        ],\n",
    "        \"exchanges\": [\n",
    "            {\n",
    "                \"name\": \"hydrogen production, from electrolysis\",\n",
    "                \"reference product\": \"hydrogen\",\n",
    "                \"unit\": \"kilogram\",\n",
    "                \"amount\": 1,\n",
    "                \"location\": loc,\n",
    "                \"type\": \"production\",\n",
    "                \"input\": (\"h2\", f\"hydrogen production, from electrolysis {loc}\"),\n",
    "            },\n",
    "            {\n",
    "                \"name\": \"electricity production, wind, 1-3MW turbine, offshore\",\n",
    "                \"reference product\": \"electricity, high voltage\",\n",
    "                \"unit\": \"kilowatt hour\",\n",
    "                \"amount\": 54,\n",
    "                \"location\": \"FR\",\n",
    "                \"type\": \"technosphere\",\n",
    "                \"input\": ('ecoinvent-3.10-cutoff', '7ba2c49140d98d7c941cef85f6f58d75'),\n",
    "            },\n",
    "            {\n",
    "                \"name\": \"electrolyzer production, 1MWe, PEM, Stack\",\n",
    "                \"reference product\": \"electrolyzer, 1MWe, PEM, Stack\",\n",
    "                \"unit\": \"unit\",\n",
    "                \"amount\": 1.34989E-06,\n",
    "                \"location\": \"RER\",\n",
    "                \"type\": \"technosphere\",\n",
    "                \"input\": ('h2_pem', '7b498745a482ad10549d1d4330c7abf0')\n",
    "            },\n",
    "            {\n",
    "                \"name\": \"electrolyzer production, 1MWe, PEM, Balance of Plant\",\n",
    "                \"reference product\": \"electrolyzer, 1MWe, PEM, Balance of Plant\",\n",
    "                \"unit\": \"unit\",\n",
    "                \"amount\": 3.37473E-07,\n",
    "                \"location\": \"RER\",\n",
    "                \"type\": \"technosphere\",\n",
    "                \"input\": ('h2_pem', 'f3fda92c6f40b652aee44ac8e68053a4')\n",
    "            },\n",
    "            {\n",
    "                \"name\": \"treatment of fuel cell stack, 1MWe, PEM\",\n",
    "                \"reference product\": \"used fuel cell stack, 1MWe, PEM\",\n",
    "                \"unit\": \"unit\",\n",
    "                \"amount\": -1.34989E-06,\n",
    "                \"location\": \"RER\",\n",
    "                \"type\": \"technosphere\",\n",
    "                \"input\": ('h2_pem', 'affe261eea51b2ddb28189f84c7c28b4')\n",
    "            },\n",
    "            {\n",
    "                \"name\": \"treatment of fuel cell balance of plant, 1MWe, PEM\",\n",
    "                \"reference product\": \"used fuel cell balance of plant, 1MWe, PEM\",\n",
    "                \"unit\": \"unit\",\n",
    "                \"amount\": -3.37473E-07,\n",
    "                \"location\": \"RER\",\n",
    "                \"type\": \"technosphere\",\n",
    "                \"input\": ('h2_pem', '937fc767b9547738e849fe73fee8c51f')\n",
    "            },\n",
    "            {\n",
    "                \"name\": \"Water, well, in ground\",\n",
    "                \"categories\": (\"natural resource\", \"water\"),\n",
    "                \"unit\": \"cubic meter\",\n",
    "                \"amount\": 12 / 1000, # 12l per kg of hydrogen\n",
    "                \"type\": \"biosphere\",\n",
    "                \"input\": ('biosphere', '67c40aae-d403-464d-9649-c12695e43ad8')\n",
    "            },\n",
    "            {\n",
    "                # needed for the GLO AWARE to work, because\n",
    "                # it only characterizes evaporation of water\n",
    "                \"name\": \"Water\",\n",
    "                \"categories\": (\"air\",),\n",
    "                \"unit\": \"cubic meter\",\n",
    "                \"amount\": 12 / 1000, # 12l per kg of hydrogen\n",
    "                \"type\": \"biosphere\",\n",
    "                \"input\": ('biosphere', '075e433b-4be4-448e-9510-9a5029c1ce94')\n",
    "            }\n",
    "\n",
    "        ],\n",
    "    } for loc in locs.values()\n",
    "}"
   ]
  },
  {
   "cell_type": "code",
   "execution_count": 22,
   "metadata": {
    "ExecuteTime": {
     "end_time": "2025-01-07T08:48:23.247811Z",
     "start_time": "2025-01-07T08:48:16.294732Z"
    }
   },
   "outputs": [
    {
     "name": "stdout",
     "output_type": "stream",
     "text": [
      "\u001b[2m09:48:16\u001b[0m [\u001b[33m\u001b[1mwarning  \u001b[0m] \u001b[1mNot able to determine geocollections for all datasets. This database is not ready for regionalization.\u001b[0m\n"
     ]
    },
    {
     "name": "stderr",
     "output_type": "stream",
     "text": [
      "100%|██████████| 13/13 [00:00<00:00, 5515.47it/s]"
     ]
    },
    {
     "name": "stdout",
     "output_type": "stream",
     "text": [
      "\u001b[2m09:48:16\u001b[0m [\u001b[32m\u001b[1minfo     \u001b[0m] \u001b[1mVacuuming database            \u001b[0m\n"
     ]
    },
    {
     "name": "stderr",
     "output_type": "stream",
     "text": [
      "\n"
     ]
    }
   ],
   "source": [
    "bw2data.Database(\"h2\").write(lci)"
   ]
  },
  {
   "cell_type": "code",
   "execution_count": 14,
   "metadata": {
    "ExecuteTime": {
     "end_time": "2025-01-07T08:39:31.506102Z",
     "start_time": "2025-01-07T08:39:31.150610Z"
    }
   },
   "outputs": [],
   "source": [
    "from edges.analysis import compare_activities_by_grouped_leaves\n",
    "import bw2data\n",
    "bw2data.projects.set_current(\"bw25_ei310\")"
   ]
  },
  {
   "cell_type": "code",
   "execution_count": 15,
   "metadata": {
    "ExecuteTime": {
     "end_time": "2025-01-07T08:42:31.248548Z",
     "start_time": "2025-01-07T08:39:43.225098Z"
    }
   },
   "outputs": [
    {
     "name": "stderr",
     "output_type": "stream",
     "text": [
      "/opt/homebrew/Caskroom/miniforge/base/envs/bw25/lib/python3.11/site-packages/bw2calc/lca_base.py:127: SparseEfficiencyWarning: splu converted its input to CSC format\n",
      "  self.solver = factorized(self.technosphere_matrix)\n",
      "/opt/homebrew/Caskroom/miniforge/base/envs/bw25/lib/python3.11/site-packages/scikits/umfpack/umfpack.py:736: UmfpackWarning: (almost) singular matrix! (estimated cond. number: 5.51e+12)\n",
      "  warnings.warn(msg, UmfpackWarning)\n"
     ]
    },
    {
     "name": "stdout",
     "output_type": "stream",
     "text": [
      "Warning: some locations are not found in the database. Check logs.\n",
      "Warning: some locations are not found in the database. Check logs.\n",
      "Warning: some locations are not found in the database. Check logs.\n",
      "Warning: some locations are not found in the database. Check logs.\n",
      "Warning: some locations are not found in the database. Check logs.\n",
      "Warning: some locations are not found in the database. Check logs.\n",
      "Omitting activity name common prefix: 'hydrogen production, from '\n",
      "Warning: some locations are not found in the database. Check logs.\n",
      "Warning: some locations are not found in the database. Check logs.\n",
      "Warning: some locations are not found in the database. Check logs.\n",
      "Warning: some locations are not found in the database. Check logs.\n",
      "Warning: some locations are not found in the database. Check logs.\n",
      "Warning: some locations are not found in the database. Check logs.\n",
      "Warning: some locations are not found in the database. Check logs.\n",
      "Warning: some locations are not found in the database. Check logs.\n",
      "Warning: some locations are not found in the database. Check logs.\n",
      "Warning: some locations are not found in the database. Check logs.\n",
      "Warning: some locations are not found in the database. Check logs.\n",
      "Warning: some locations are not found in the database. Check logs.\n",
      "Warning: some locations are not found in the database. Check logs.\n",
      "Warning: some locations are not found in the database. Check logs.\n"
     ]
    }
   ],
   "source": [
    "method = ('AWARE 1.2c', 'Country', 'non', 'irri', 'yearly')\n",
    "FU = [act for act in bw2data.Database(\"h2\")]\n",
    "df = compare_activities_by_grouped_leaves(\n",
    "    FU,\n",
    "    method,\n",
    "    max_level=1,\n",
    "    output_format=\"pandas\",\n",
    "    mode=\"absolute\",\n",
    "    cutoff=1e-2,\n",
    ")"
   ]
  },
  {
   "cell_type": "code",
   "execution_count": 16,
   "metadata": {
    "ExecuteTime": {
     "end_time": "2025-01-07T08:42:31.274042Z",
     "start_time": "2025-01-07T08:42:31.271870Z"
    }
   },
   "outputs": [],
   "source": [
    "df.columns = [\n",
    "    'activity',\n",
    "    'product',\n",
    "    'location',\n",
    "    'unit',\n",
    "    'total',\n",
    "    'impacts directs',\n",
    "    'production électrique',\n",
    "    'fabrication électrolyseur'\n",
    "]"
   ]
  },
  {
   "cell_type": "code",
   "execution_count": 23,
   "metadata": {
    "ExecuteTime": {
     "end_time": "2025-01-07T08:48:30.247128Z",
     "start_time": "2025-01-07T08:48:30.244958Z"
    }
   },
   "outputs": [],
   "source": [
    "# méthode globale\n",
    "globalmethod = ('ecoinvent-3.10',\n",
    "  'EF v3.1 EN15804',\n",
    "  'water use',\n",
    "  'user deprivation potential (deprivation-weighted water consumption)')"
   ]
  },
  {
   "cell_type": "code",
   "execution_count": 24,
   "metadata": {
    "ExecuteTime": {
     "end_time": "2025-01-07T08:48:37.116957Z",
     "start_time": "2025-01-07T08:48:34.206864Z"
    }
   },
   "outputs": [
    {
     "name": "stderr",
     "output_type": "stream",
     "text": [
      "/opt/homebrew/Caskroom/miniforge/base/envs/bw25/lib/python3.11/site-packages/scikits/umfpack/umfpack.py:736: UmfpackWarning: (almost) singular matrix! (estimated cond. number: 1.21e+13)\n",
      "  warnings.warn(msg, UmfpackWarning)\n"
     ]
    },
    {
     "name": "stdout",
     "output_type": "stream",
     "text": [
      "Omitting activity name common prefix: 'hydrogen production, from '\n"
     ]
    }
   ],
   "source": [
    "from bw2analyzer.comparisons import compare_activities_by_grouped_leaves as ac\n",
    "\n",
    "FU = [act for act in bw2data.Database(\"h2\")]\n",
    "df_glo = ac(\n",
    "    FU[:1],\n",
    "    globalmethod,\n",
    "    max_level=1,\n",
    "    output_format=\"pandas\",\n",
    "    mode=\"absolute\",\n",
    "    cutoff=1e-2,\n",
    ")"
   ]
  },
  {
   "cell_type": "code",
   "execution_count": 25,
   "metadata": {
    "ExecuteTime": {
     "end_time": "2025-01-07T08:48:38.007562Z",
     "start_time": "2025-01-07T08:48:38.004377Z"
    }
   },
   "outputs": [],
   "source": [
    "df_glo.columns = [\n",
    "    'activity',\n",
    "    'product',\n",
    "    'location',\n",
    "    'unit',\n",
    "    'total',\n",
    "    'impacts directs',\n",
    "    'production électrique',\n",
    "    'fabrication électrolyseur'\n",
    "]"
   ]
  },
  {
   "cell_type": "code",
   "execution_count": 26,
   "metadata": {
    "ExecuteTime": {
     "end_time": "2025-01-07T08:48:40.499749Z",
     "start_time": "2025-01-07T08:48:40.497107Z"
    }
   },
   "outputs": [],
   "source": [
    "df_glo.loc[:, \"location\"] = \"GLO\""
   ]
  },
  {
   "cell_type": "code",
   "execution_count": 27,
   "metadata": {
    "ExecuteTime": {
     "end_time": "2025-01-07T08:48:41.609732Z",
     "start_time": "2025-01-07T08:48:41.606099Z"
    }
   },
   "outputs": [],
   "source": [
    "# append the global method to the dataframe\n",
    "import pandas as pd\n",
    "df = pd.concat([df, df_glo])"
   ]
  },
  {
   "cell_type": "code",
   "execution_count": 29,
   "metadata": {
    "ExecuteTime": {
     "end_time": "2025-01-07T08:48:57.655762Z",
     "start_time": "2025-01-07T08:48:57.547566Z"
    }
   },
   "outputs": [
    {
     "data": {
      "image/png": "[encoded data removed]",
      "text/plain": [
       "<Figure size 800x400 with 1 Axes>"
      ]
     },
     "metadata": {},
     "output_type": "display_data"
    }
   ],
   "source": [
    "import matplotlib.pyplot as plt\n",
    "# Prepare the data for the stacked bar chart\n",
    "locations = df[\"location\"]\n",
    "values = df.loc[:, \"impacts directs\":]\n",
    "\n",
    "# Plot the stacked bar chart\n",
    "fig, ax = plt.subplots(figsize=(8, 4))\n",
    "values.plot(kind=\"bar\", stacked=True, ax=ax, colormap=\"viridis\")\n",
    "\n",
    "# Set chart details\n",
    "ax.set_xticks(range(len(locations)))\n",
    "ax.set_xticklabels(locations, rotation=0)\n",
    "ax.set_xlabel(\"Région\")\n",
    "ax.set_ylabel(\"$m^3$-éq./kg $H_2$\")\n",
    "ax.set_title(\"Score d'impact AWARE pour la production d'hydrogène par électrolyse en France\")\n",
    "plt.legend(title=\"Sources d'impact\")\n",
    "plt.tight_layout()\n",
    "\n",
    "# Show the plot\n",
    "plt.show()"
   ]
  },
  {
   "cell_type": "code",
   "execution_count": 30,
   "metadata": {
    "ExecuteTime": {
     "end_time": "2025-01-07T08:52:39.804832Z",
     "start_time": "2025-01-07T08:52:39.790675Z"
    }
   },
   "outputs": [
    {
     "data": {
      "text/html": [
       "<div>\n",
       "<style scoped>\n",
       "    .dataframe tbody tr th:only-of-type {\n",
       "        vertical-align: middle;\n",
       "    }\n",
       "\n",
       "    .dataframe tbody tr th {\n",
       "        vertical-align: top;\n",
       "    }\n",
       "\n",
       "    .dataframe thead th {\n",
       "        text-align: right;\n",
       "    }\n",
       "</style>\n",
       "<table border=\"1\" class=\"dataframe\">\n",
       "  <thead>\n",
       "    <tr style=\"text-align: right;\">\n",
       "      <th></th>\n",
       "      <th>activity</th>\n",
       "      <th>product</th>\n",
       "      <th>location</th>\n",
       "      <th>unit</th>\n",
       "      <th>total</th>\n",
       "      <th>impacts directs</th>\n",
       "      <th>production électrique</th>\n",
       "      <th>fabrication électrolyseur</th>\n",
       "    </tr>\n",
       "  </thead>\n",
       "  <tbody>\n",
       "    <tr>\n",
       "      <th>0</th>\n",
       "      <td>electrolysis</td>\n",
       "      <td></td>\n",
       "      <td>FR-BR</td>\n",
       "      <td>kilogram</td>\n",
       "      <td>0.366481</td>\n",
       "      <td>0.166649</td>\n",
       "      <td>0.177083</td>\n",
       "      <td>0.022749</td>\n",
       "    </tr>\n",
       "    <tr>\n",
       "      <th>1</th>\n",
       "      <td>electrolysis</td>\n",
       "      <td></td>\n",
       "      <td>FR-CO</td>\n",
       "      <td>kilogram</td>\n",
       "      <td>0.319975</td>\n",
       "      <td>0.120143</td>\n",
       "      <td>0.177083</td>\n",
       "      <td>0.022749</td>\n",
       "    </tr>\n",
       "    <tr>\n",
       "      <th>2</th>\n",
       "      <td>electrolysis</td>\n",
       "      <td></td>\n",
       "      <td>FR-OC</td>\n",
       "      <td>kilogram</td>\n",
       "      <td>0.268604</td>\n",
       "      <td>0.068772</td>\n",
       "      <td>0.177083</td>\n",
       "      <td>0.022749</td>\n",
       "    </tr>\n",
       "    <tr>\n",
       "      <th>3</th>\n",
       "      <td>electrolysis</td>\n",
       "      <td></td>\n",
       "      <td>FR-PL</td>\n",
       "      <td>kilogram</td>\n",
       "      <td>0.246298</td>\n",
       "      <td>0.046466</td>\n",
       "      <td>0.177083</td>\n",
       "      <td>0.022749</td>\n",
       "    </tr>\n",
       "    <tr>\n",
       "      <th>4</th>\n",
       "      <td>electrolysis</td>\n",
       "      <td></td>\n",
       "      <td>FR-NA</td>\n",
       "      <td>kilogram</td>\n",
       "      <td>0.234564</td>\n",
       "      <td>0.034732</td>\n",
       "      <td>0.177083</td>\n",
       "      <td>0.022749</td>\n",
       "    </tr>\n",
       "    <tr>\n",
       "      <th>5</th>\n",
       "      <td>electrolysis</td>\n",
       "      <td></td>\n",
       "      <td>FR-PACA</td>\n",
       "      <td>kilogram</td>\n",
       "      <td>0.230789</td>\n",
       "      <td>0.030957</td>\n",
       "      <td>0.177083</td>\n",
       "      <td>0.022749</td>\n",
       "    </tr>\n",
       "    <tr>\n",
       "      <th>6</th>\n",
       "      <td>electrolysis</td>\n",
       "      <td></td>\n",
       "      <td>FR-CVL</td>\n",
       "      <td>kilogram</td>\n",
       "      <td>0.228911</td>\n",
       "      <td>0.029079</td>\n",
       "      <td>0.177083</td>\n",
       "      <td>0.022749</td>\n",
       "    </tr>\n",
       "    <tr>\n",
       "      <th>7</th>\n",
       "      <td>electrolysis</td>\n",
       "      <td></td>\n",
       "      <td>FR-IL</td>\n",
       "      <td>kilogram</td>\n",
       "      <td>0.222512</td>\n",
       "      <td>0.022680</td>\n",
       "      <td>0.177083</td>\n",
       "      <td>0.022749</td>\n",
       "    </tr>\n",
       "    <tr>\n",
       "      <th>8</th>\n",
       "      <td>electrolysis</td>\n",
       "      <td></td>\n",
       "      <td>FR-NO</td>\n",
       "      <td>kilogram</td>\n",
       "      <td>0.219393</td>\n",
       "      <td>0.019561</td>\n",
       "      <td>0.177083</td>\n",
       "      <td>0.022749</td>\n",
       "    </tr>\n",
       "    <tr>\n",
       "      <th>9</th>\n",
       "      <td>electrolysis</td>\n",
       "      <td></td>\n",
       "      <td>FR-HF</td>\n",
       "      <td>kilogram</td>\n",
       "      <td>0.215471</td>\n",
       "      <td>0.015639</td>\n",
       "      <td>0.177083</td>\n",
       "      <td>0.022749</td>\n",
       "    </tr>\n",
       "    <tr>\n",
       "      <th>10</th>\n",
       "      <td>electrolysis</td>\n",
       "      <td></td>\n",
       "      <td>FR-BFC</td>\n",
       "      <td>kilogram</td>\n",
       "      <td>0.215301</td>\n",
       "      <td>0.015469</td>\n",
       "      <td>0.177083</td>\n",
       "      <td>0.022740</td>\n",
       "    </tr>\n",
       "    <tr>\n",
       "      <th>11</th>\n",
       "      <td>electrolysis</td>\n",
       "      <td></td>\n",
       "      <td>FR-GE</td>\n",
       "      <td>kilogram</td>\n",
       "      <td>0.211694</td>\n",
       "      <td>0.011862</td>\n",
       "      <td>0.177083</td>\n",
       "      <td>0.022749</td>\n",
       "    </tr>\n",
       "    <tr>\n",
       "      <th>12</th>\n",
       "      <td>electrolysis</td>\n",
       "      <td></td>\n",
       "      <td>FR-ARA</td>\n",
       "      <td>kilogram</td>\n",
       "      <td>0.211669</td>\n",
       "      <td>0.011837</td>\n",
       "      <td>0.177083</td>\n",
       "      <td>0.022749</td>\n",
       "    </tr>\n",
       "    <tr>\n",
       "      <th>0</th>\n",
       "      <td>electrolysis</td>\n",
       "      <td></td>\n",
       "      <td>GLO</td>\n",
       "      <td>kilogram</td>\n",
       "      <td>0.998263</td>\n",
       "      <td>0.515400</td>\n",
       "      <td>0.426871</td>\n",
       "      <td>0.055957</td>\n",
       "    </tr>\n",
       "  </tbody>\n",
       "</table>\n",
       "</div>"
      ],
      "text/plain": [
       "        activity product location      unit     total  impacts directs  \\\n",
       "0   electrolysis            FR-BR  kilogram  0.366481         0.166649   \n",
       "1   electrolysis            FR-CO  kilogram  0.319975         0.120143   \n",
       "2   electrolysis            FR-OC  kilogram  0.268604         0.068772   \n",
       "3   electrolysis            FR-PL  kilogram  0.246298         0.046466   \n",
       "4   electrolysis            FR-NA  kilogram  0.234564         0.034732   \n",
       "5   electrolysis          FR-PACA  kilogram  0.230789         0.030957   \n",
       "6   electrolysis           FR-CVL  kilogram  0.228911         0.029079   \n",
       "7   electrolysis            FR-IL  kilogram  0.222512         0.022680   \n",
       "8   electrolysis            FR-NO  kilogram  0.219393         0.019561   \n",
       "9   electrolysis            FR-HF  kilogram  0.215471         0.015639   \n",
       "10  electrolysis           FR-BFC  kilogram  0.215301         0.015469   \n",
       "11  electrolysis            FR-GE  kilogram  0.211694         0.011862   \n",
       "12  electrolysis           FR-ARA  kilogram  0.211669         0.011837   \n",
       "0   electrolysis              GLO  kilogram  0.998263         0.515400   \n",
       "\n",
       "    production électrique  fabrication électrolyseur  \n",
       "0                0.177083                   0.022749  \n",
       "1                0.177083                   0.022749  \n",
       "2                0.177083                   0.022749  \n",
       "3                0.177083                   0.022749  \n",
       "4                0.177083                   0.022749  \n",
       "5                0.177083                   0.022749  \n",
       "6                0.177083                   0.022749  \n",
       "7                0.177083                   0.022749  \n",
       "8                0.177083                   0.022749  \n",
       "9                0.177083                   0.022749  \n",
       "10               0.177083                   0.022740  \n",
       "11               0.177083                   0.022749  \n",
       "12               0.177083                   0.022749  \n",
       "0                0.426871                   0.055957  "
      ]
     },
     "execution_count": 30,
     "metadata": {},
     "output_type": "execute_result"
    }
   ],
   "source": [
    "df"
   ]
  },
  {
   "cell_type": "code",
   "execution_count": 71,
   "metadata": {
    "ExecuteTime": {
     "end_time": "2024-12-19T11:44:10.088013Z",
     "start_time": "2024-12-19T11:44:10.079853Z"
    }
   },
   "outputs": [
    {
     "data": {
      "text/plain": [
       "'hydrogen production, from electrolysis' (kilogram, FR-PL, None)"
      ]
     },
     "execution_count": 71,
     "metadata": {},
     "output_type": "execute_result"
    }
   ],
   "source": [
    "FU[0]"
   ]
  },
  {
   "cell_type": "code",
   "execution_count": 68,
   "metadata": {
    "ExecuteTime": {
     "end_time": "2024-12-19T11:41:32.679349Z",
     "start_time": "2024-12-19T11:41:23.705189Z"
    }
   },
   "outputs": [
    {
     "name": "stderr",
     "output_type": "stream",
     "text": [
      "/opt/homebrew/Caskroom/miniforge/base/envs/bw25/lib/python3.11/site-packages/scikits/umfpack/umfpack.py:736: UmfpackWarning: (almost) singular matrix! (estimated cond. number: 1.21e+13)\n",
      "  warnings.warn(msg, UmfpackWarning)\n"
     ]
    },
    {
     "name": "stdout",
     "output_type": "stream",
     "text": [
      "Warning: some locations are not found in the database. Check logs.\n"
     ]
    },
    {
     "data": {
      "text/plain": [
       "0.24629847911484148"
      ]
     },
     "execution_count": 68,
     "metadata": {},
     "output_type": "execute_result"
    }
   ],
   "source": [
    "LCA = EdgeLCIA({FU[0]: 1}, method)\n",
    "LCA.lci()\n",
    "LCA.lcia()\n",
    "LCA.score"
   ]
  },
  {
   "cell_type": "code",
   "execution_count": 69,
   "metadata": {
    "ExecuteTime": {
     "end_time": "2024-12-19T11:41:57.897221Z",
     "start_time": "2024-12-19T11:41:54.756802Z"
    }
   },
   "outputs": [
    {
     "name": "stdout",
     "output_type": "stream",
     "text": [
      "Matrix type: biosphere\n"
     ]
    }
   ],
   "source": [
    "df_cf = LCA.generate_cf_table()"
   ]
  },
  {
   "cell_type": "code",
   "execution_count": 73,
   "metadata": {
    "ExecuteTime": {
     "end_time": "2024-12-19T11:45:37.632003Z",
     "start_time": "2024-12-19T11:45:37.624117Z"
    }
   },
   "outputs": [
    {
     "data": {
      "text/html": [
       "<div>\n",
       "<style scoped>\n",
       "    .dataframe tbody tr th:only-of-type {\n",
       "        vertical-align: middle;\n",
       "    }\n",
       "\n",
       "    .dataframe tbody tr th {\n",
       "        vertical-align: top;\n",
       "    }\n",
       "\n",
       "    .dataframe thead th {\n",
       "        text-align: right;\n",
       "    }\n",
       "</style>\n",
       "<table border=\"1\" class=\"dataframe\">\n",
       "  <thead>\n",
       "    <tr style=\"text-align: right;\">\n",
       "      <th></th>\n",
       "      <th>supplier name</th>\n",
       "      <th>supplier categories</th>\n",
       "      <th>consumer name</th>\n",
       "      <th>consumer reference product</th>\n",
       "      <th>consumer location</th>\n",
       "      <th>amount</th>\n",
       "      <th>CF</th>\n",
       "      <th>impact</th>\n",
       "    </tr>\n",
       "  </thead>\n",
       "  <tbody>\n",
       "    <tr>\n",
       "      <th>0</th>\n",
       "      <td>Water, cooling, unspecified natural origin</td>\n",
       "      <td>(natural resource, in water)</td>\n",
       "      <td>cast iron production</td>\n",
       "      <td>cast iron</td>\n",
       "      <td>RoW</td>\n",
       "      <td>6.440555e-05</td>\n",
       "      <td>19.717342</td>\n",
       "      <td>1.269906e-03</td>\n",
       "    </tr>\n",
       "    <tr>\n",
       "      <th>1</th>\n",
       "      <td>Water, cooling, unspecified natural origin</td>\n",
       "      <td>(natural resource, in water)</td>\n",
       "      <td>polystyrene production, high impact</td>\n",
       "      <td>polystyrene, high impact</td>\n",
       "      <td>RER</td>\n",
       "      <td>1.998050e-08</td>\n",
       "      <td>6.750246</td>\n",
       "      <td>1.348733e-07</td>\n",
       "    </tr>\n",
       "    <tr>\n",
       "      <th>2</th>\n",
       "      <td>Water, cooling, unspecified natural origin</td>\n",
       "      <td>(natural resource, in water)</td>\n",
       "      <td>cast iron milling, average</td>\n",
       "      <td>cast iron removed by milling, average</td>\n",
       "      <td>RoW</td>\n",
       "      <td>9.956540e-12</td>\n",
       "      <td>19.717342</td>\n",
       "      <td>1.963165e-10</td>\n",
       "    </tr>\n",
       "    <tr>\n",
       "      <th>3</th>\n",
       "      <td>Water, cooling, unspecified natural origin</td>\n",
       "      <td>(natural resource, in water)</td>\n",
       "      <td>electricity production, oil</td>\n",
       "      <td>electricity, high voltage</td>\n",
       "      <td>CA-PE</td>\n",
       "      <td>4.059619e-09</td>\n",
       "      <td>1.276723</td>\n",
       "      <td>5.183011e-09</td>\n",
       "    </tr>\n",
       "    <tr>\n",
       "      <th>4</th>\n",
       "      <td>Water, cooling, unspecified natural origin</td>\n",
       "      <td>(natural resource, in water)</td>\n",
       "      <td>polypropylene production, granulate</td>\n",
       "      <td>polypropylene, granulate</td>\n",
       "      <td>RER</td>\n",
       "      <td>8.898497e-07</td>\n",
       "      <td>6.750246</td>\n",
       "      <td>6.006704e-06</td>\n",
       "    </tr>\n",
       "    <tr>\n",
       "      <th>...</th>\n",
       "      <td>...</td>\n",
       "      <td>...</td>\n",
       "      <td>...</td>\n",
       "      <td>...</td>\n",
       "      <td>...</td>\n",
       "      <td>...</td>\n",
       "      <td>...</td>\n",
       "      <td>...</td>\n",
       "    </tr>\n",
       "    <tr>\n",
       "      <th>8873</th>\n",
       "      <td>Water</td>\n",
       "      <td>(water, surface water)</td>\n",
       "      <td>petroleum and gas production, onshore</td>\n",
       "      <td>natural gas, high pressure</td>\n",
       "      <td>TH</td>\n",
       "      <td>5.447445e-09</td>\n",
       "      <td>-3.945516</td>\n",
       "      <td>-2.149298e-08</td>\n",
       "    </tr>\n",
       "    <tr>\n",
       "      <th>8874</th>\n",
       "      <td>Water</td>\n",
       "      <td>(water, surface water)</td>\n",
       "      <td>treatment of waste emulsion paint, municipal i...</td>\n",
       "      <td>waste emulsion paint</td>\n",
       "      <td>CH</td>\n",
       "      <td>1.138050e-10</td>\n",
       "      <td>-0.737323</td>\n",
       "      <td>-8.391109e-11</td>\n",
       "    </tr>\n",
       "    <tr>\n",
       "      <th>8875</th>\n",
       "      <td>Water</td>\n",
       "      <td>(water, surface water)</td>\n",
       "      <td>aluminium production, primary, liquid, prebake</td>\n",
       "      <td>aluminium, primary, liquid</td>\n",
       "      <td>IAI Area, Russia &amp; RER w/o EU27 &amp; EFTA</td>\n",
       "      <td>1.240651e-07</td>\n",
       "      <td>-3.594363</td>\n",
       "      <td>-4.459348e-07</td>\n",
       "    </tr>\n",
       "    <tr>\n",
       "      <th>8876</th>\n",
       "      <td>Water</td>\n",
       "      <td>(water, surface water)</td>\n",
       "      <td>citric acid production</td>\n",
       "      <td>citric acid</td>\n",
       "      <td>RNA</td>\n",
       "      <td>1.589354e-09</td>\n",
       "      <td>-8.711302</td>\n",
       "      <td>-1.384534e-08</td>\n",
       "    </tr>\n",
       "    <tr>\n",
       "      <th>8877</th>\n",
       "      <td>Water</td>\n",
       "      <td>(water, surface water)</td>\n",
       "      <td>treatment of leachate, SLF, refinery sludge, w...</td>\n",
       "      <td>leachate, SLF, refinery sludge</td>\n",
       "      <td>CH</td>\n",
       "      <td>4.061160e-13</td>\n",
       "      <td>-0.737323</td>\n",
       "      <td>-2.994388e-13</td>\n",
       "    </tr>\n",
       "  </tbody>\n",
       "</table>\n",
       "<p>8878 rows × 8 columns</p>\n",
       "</div>"
      ],
      "text/plain": [
       "                                   supplier name  \\\n",
       "0     Water, cooling, unspecified natural origin   \n",
       "1     Water, cooling, unspecified natural origin   \n",
       "2     Water, cooling, unspecified natural origin   \n",
       "3     Water, cooling, unspecified natural origin   \n",
       "4     Water, cooling, unspecified natural origin   \n",
       "...                                          ...   \n",
       "8873                                       Water   \n",
       "8874                                       Water   \n",
       "8875                                       Water   \n",
       "8876                                       Water   \n",
       "8877                                       Water   \n",
       "\n",
       "               supplier categories  \\\n",
       "0     (natural resource, in water)   \n",
       "1     (natural resource, in water)   \n",
       "2     (natural resource, in water)   \n",
       "3     (natural resource, in water)   \n",
       "4     (natural resource, in water)   \n",
       "...                            ...   \n",
       "8873        (water, surface water)   \n",
       "8874        (water, surface water)   \n",
       "8875        (water, surface water)   \n",
       "8876        (water, surface water)   \n",
       "8877        (water, surface water)   \n",
       "\n",
       "                                          consumer name  \\\n",
       "0                                  cast iron production   \n",
       "1                   polystyrene production, high impact   \n",
       "2                            cast iron milling, average   \n",
       "3                           electricity production, oil   \n",
       "4                   polypropylene production, granulate   \n",
       "...                                                 ...   \n",
       "8873              petroleum and gas production, onshore   \n",
       "8874  treatment of waste emulsion paint, municipal i...   \n",
       "8875     aluminium production, primary, liquid, prebake   \n",
       "8876                             citric acid production   \n",
       "8877  treatment of leachate, SLF, refinery sludge, w...   \n",
       "\n",
       "                 consumer reference product  \\\n",
       "0                                 cast iron   \n",
       "1                  polystyrene, high impact   \n",
       "2     cast iron removed by milling, average   \n",
       "3                 electricity, high voltage   \n",
       "4                  polypropylene, granulate   \n",
       "...                                     ...   \n",
       "8873             natural gas, high pressure   \n",
       "8874                   waste emulsion paint   \n",
       "8875             aluminium, primary, liquid   \n",
       "8876                            citric acid   \n",
       "8877         leachate, SLF, refinery sludge   \n",
       "\n",
       "                           consumer location        amount         CF  \\\n",
       "0                                        RoW  6.440555e-05  19.717342   \n",
       "1                                        RER  1.998050e-08   6.750246   \n",
       "2                                        RoW  9.956540e-12  19.717342   \n",
       "3                                      CA-PE  4.059619e-09   1.276723   \n",
       "4                                        RER  8.898497e-07   6.750246   \n",
       "...                                      ...           ...        ...   \n",
       "8873                                      TH  5.447445e-09  -3.945516   \n",
       "8874                                      CH  1.138050e-10  -0.737323   \n",
       "8875  IAI Area, Russia & RER w/o EU27 & EFTA  1.240651e-07  -3.594363   \n",
       "8876                                     RNA  1.589354e-09  -8.711302   \n",
       "8877                                      CH  4.061160e-13  -0.737323   \n",
       "\n",
       "            impact  \n",
       "0     1.269906e-03  \n",
       "1     1.348733e-07  \n",
       "2     1.963165e-10  \n",
       "3     5.183011e-09  \n",
       "4     6.006704e-06  \n",
       "...            ...  \n",
       "8873 -2.149298e-08  \n",
       "8874 -8.391109e-11  \n",
       "8875 -4.459348e-07  \n",
       "8876 -1.384534e-08  \n",
       "8877 -2.994388e-13  \n",
       "\n",
       "[8878 rows x 8 columns]"
      ]
     },
     "execution_count": 73,
     "metadata": {},
     "output_type": "execute_result"
    }
   ],
   "source": [
    "df_cf"
   ]
  },
  {
   "cell_type": "code",
   "execution_count": 88,
   "metadata": {
    "ExecuteTime": {
     "end_time": "2024-12-19T11:54:27.334813Z",
     "start_time": "2024-12-19T11:54:26.806027Z"
    }
   },
   "outputs": [],
   "source": [
    "df_cf.to_excel(\"cf_h2.xlsx\")"
   ]
  },
  {
   "cell_type": "code",
   "execution_count": 110,
   "metadata": {
    "ExecuteTime": {
     "end_time": "2024-12-19T12:05:41.434208Z",
     "start_time": "2024-12-19T12:05:41.423781Z"
    }
   },
   "outputs": [
    {
     "data": {
      "text/plain": [
       "consumer location  consumer name                                              \n",
       "AE                 petroleum and gas production, onshore                          0.000000e+00\n",
       "AR                 electricity production, hard coal                              1.349249e-07\n",
       "                   electricity production, hydro, pumped storage                  1.564493e-08\n",
       "                   electricity production, hydro, reservoir, alpine region        1.639440e-05\n",
       "                   electricity production, hydro, reservoir, non-alpine region    1.573278e-05\n",
       "                                                                                      ...     \n",
       "ZA                 treatment of sulfidic tailing, off-site, high gold content    -2.260231e-07\n",
       "                   water production, decarbonised                                 2.513279e-03\n",
       "                   wheat grain production                                        -6.159317e-10\n",
       "                   white spirit production, petroleum refinery operation          5.076116e-11\n",
       "ZM                 copper mine operation and beneficiation, sulfide ore           3.831006e-05\n",
       "Name: impact, Length: 3511, dtype: float64"
      ]
     },
     "execution_count": 110,
     "metadata": {},
     "output_type": "execute_result"
    }
   ],
   "source": [
    "import matplotlib.pyplot as plt\n",
    "\n",
    "# Grouping the data by consumer location and consumer name to sum the impact\n",
    "grouped_data = df_cf.groupby(['consumer location', 'consumer name'])['impact'].sum()\n",
    "grouped_data\n",
    "\n"
   ]
  },
  {
   "cell_type": "code",
   "execution_count": 111,
   "metadata": {
    "ExecuteTime": {
     "end_time": "2024-12-19T12:05:42.492371Z",
     "start_time": "2024-12-19T12:05:42.487967Z"
    }
   },
   "outputs": [],
   "source": [
    "# remove row that contribute less than 1% to the total impact\n",
    "grouped_data = grouped_data[grouped_data > 0.02 * grouped_data.sum()]"
   ]
  },
  {
   "cell_type": "code",
   "execution_count": 113,
   "metadata": {
    "ExecuteTime": {
     "end_time": "2024-12-19T12:06:34.032246Z",
     "start_time": "2024-12-19T12:06:33.851059Z"
    }
   },
   "outputs": [
    {
     "data": {
      "text/plain": [
       "Text(0, 0.5, 'm$^3$-eq/kg H$_2$')"
      ]
     },
     "execution_count": 113,
     "metadata": {},
     "output_type": "execute_result"
    },
    {
     "data": {
      "image/png": "[encoded data removed]",
      "text/plain": [
       "<Figure size 1000x600 with 1 Axes>"
      ]
     },
     "metadata": {},
     "output_type": "display_data"
    }
   ],
   "source": [
    "# make a stacked bar chart to show results per consumer location on teh x-axis and consumer name on the legend\n",
    "fig, ax = plt.subplots(figsize=(10, 6))\n",
    "grouped_data.unstack().plot(kind='bar', stacked=True, ax=ax)\n",
    "# reformat labels on teh x.axis\n",
    "#ax.set_xticklabels(grouped_data.index.levels[0], rotation=45)\n",
    "# set y axis label\n",
    "ax.set_ylabel('m$^3$-eq/kg H$_2$')"
   ]
  },
  {
   "cell_type": "markdown",
   "metadata": {},
   "source": [
    "## Technosphere edges-based LCIA\n",
    "\n",
    "The `EdgeLCIA` class can also be used to calculate LCIA results for technosphere exchanges."
   ]
  },
  {
   "cell_type": "code",
   "execution_count": 3,
   "metadata": {
    "ExecuteTime": {
     "end_time": "2024-12-16T08:19:30.978411Z",
     "start_time": "2024-12-16T08:19:30.951415Z"
    }
   },
   "outputs": [],
   "source": [
    "from edges import EdgeLCIA\n",
    "import bw2data\n",
    "bw2data.projects.set_current(\"bw25_ei310\")"
   ]
  },
  {
   "cell_type": "code",
   "execution_count": 4,
   "metadata": {
    "ExecuteTime": {
     "end_time": "2024-12-16T08:19:32.987853Z",
     "start_time": "2024-12-16T08:19:31.437258Z"
    }
   },
   "outputs": [
    {
     "data": {
      "text/plain": [
       "'battery production, Li-ion, NMC811, rechargeable, prismatic' (kilogram, CN, None)"
      ]
     },
     "execution_count": 4,
     "metadata": {},
     "output_type": "execute_result"
    }
   ],
   "source": [
    "act = [a for a in bw2data.Database(\"ecoinvent-3.10-cutoff\") if \"NMC\" in a[\"name\"]][0]\n",
    "act"
   ]
  },
  {
   "cell_type": "code",
   "execution_count": 6,
   "metadata": {
    "ExecuteTime": {
     "end_time": "2024-12-16T08:20:32.112078Z",
     "start_time": "2024-12-16T08:20:25.341635Z"
    }
   },
   "outputs": [
    {
     "data": {
      "text/plain": [
       "0.21042595441320422"
      ]
     },
     "execution_count": 6,
     "metadata": {},
     "output_type": "execute_result"
    }
   ],
   "source": [
    "method = ('RELICS', 'copper')\n",
    "LCA = EdgeLCIA({act: 1}, method)\n",
    "LCA.lci()\n",
    "LCA.lcia()\n",
    "LCA.score"
   ]
  },
  {
   "cell_type": "markdown",
   "metadata": {},
   "source": [
    "### Using GeoPolRisk (under development)"
   ]
  },
  {
   "cell_type": "code",
   "execution_count": 7,
   "metadata": {
    "ExecuteTime": {
     "end_time": "2024-12-16T08:21:20.979395Z",
     "start_time": "2024-12-16T08:20:47.513609Z"
    }
   },
   "outputs": [
    {
     "name": "stdout",
     "output_type": "stream",
     "text": [
      "2 locations were ignored. Check .ignored_locations attribute.\n"
     ]
    },
    {
     "data": {
      "text/plain": [
       "0.12754066712495815"
      ]
     },
     "execution_count": 7,
     "metadata": {},
     "output_type": "execute_result"
    }
   ],
   "source": [
    "method = ('GeoPolRisk', '2024')\n",
    "LCA = EdgeLCIA({act: 1}, method)\n",
    "LCA.lci()\n",
    "LCA.lcia()\n",
    "LCA.score"
   ]
  },
  {
   "cell_type": "code",
   "execution_count": 8,
   "metadata": {
    "ExecuteTime": {
     "end_time": "2024-12-16T08:21:42.247510Z",
     "start_time": "2024-12-16T08:21:42.047698Z"
    }
   },
   "outputs": [
    {
     "name": "stdout",
     "output_type": "stream",
     "text": [
      "Matrix type: technosphere\n"
     ]
    },
    {
     "data": {
      "text/html": [
       "<div>\n",
       "<style scoped>\n",
       "    .dataframe tbody tr th:only-of-type {\n",
       "        vertical-align: middle;\n",
       "    }\n",
       "\n",
       "    .dataframe tbody tr th {\n",
       "        vertical-align: top;\n",
       "    }\n",
       "\n",
       "    .dataframe thead th {\n",
       "        text-align: right;\n",
       "    }\n",
       "</style>\n",
       "<table border=\"1\" class=\"dataframe\">\n",
       "  <thead>\n",
       "    <tr style=\"text-align: right;\">\n",
       "      <th></th>\n",
       "      <th>supplier name</th>\n",
       "      <th>supplier reference product</th>\n",
       "      <th>supplier location</th>\n",
       "      <th>consumer name</th>\n",
       "      <th>consumer reference product</th>\n",
       "      <th>consumer location</th>\n",
       "      <th>amount</th>\n",
       "      <th>CF</th>\n",
       "      <th>impact</th>\n",
       "    </tr>\n",
       "  </thead>\n",
       "  <tbody>\n",
       "    <tr>\n",
       "      <th>0</th>\n",
       "      <td>petroleum and gas production, onshore</td>\n",
       "      <td>natural gas, high pressure</td>\n",
       "      <td>EC</td>\n",
       "      <td>market for natural gas, high pressure</td>\n",
       "      <td>natural gas, high pressure</td>\n",
       "      <td>EC</td>\n",
       "      <td>0.000081</td>\n",
       "      <td>0.042343</td>\n",
       "      <td>3.414592e-06</td>\n",
       "    </tr>\n",
       "    <tr>\n",
       "      <th>1</th>\n",
       "      <td>petroleum and gas production, onshore</td>\n",
       "      <td>natural gas, high pressure</td>\n",
       "      <td>EC</td>\n",
       "      <td>natural gas, burned in gas turbine</td>\n",
       "      <td>natural gas, burned in gas turbine</td>\n",
       "      <td>EC</td>\n",
       "      <td>0.000001</td>\n",
       "      <td>0.042343</td>\n",
       "      <td>5.490913e-08</td>\n",
       "    </tr>\n",
       "    <tr>\n",
       "      <th>2</th>\n",
       "      <td>hard coal, import from ZA</td>\n",
       "      <td>hard coal</td>\n",
       "      <td>IN</td>\n",
       "      <td>market for hard coal</td>\n",
       "      <td>hard coal</td>\n",
       "      <td>IN</td>\n",
       "      <td>0.009212</td>\n",
       "      <td>0.007686</td>\n",
       "      <td>7.080365e-05</td>\n",
       "    </tr>\n",
       "    <tr>\n",
       "      <th>3</th>\n",
       "      <td>petroleum and gas production, offshore</td>\n",
       "      <td>natural gas, high pressure</td>\n",
       "      <td>MX</td>\n",
       "      <td>natural gas, high pressure, domestic supply wi...</td>\n",
       "      <td>natural gas, high pressure</td>\n",
       "      <td>MX</td>\n",
       "      <td>0.010588</td>\n",
       "      <td>0.059446</td>\n",
       "      <td>6.294032e-04</td>\n",
       "    </tr>\n",
       "    <tr>\n",
       "      <th>4</th>\n",
       "      <td>petroleum and gas production, offshore</td>\n",
       "      <td>natural gas, high pressure</td>\n",
       "      <td>MX</td>\n",
       "      <td>natural gas, high pressure, import from MX</td>\n",
       "      <td>natural gas, high pressure</td>\n",
       "      <td>US</td>\n",
       "      <td>0.000013</td>\n",
       "      <td>0.049182</td>\n",
       "      <td>6.211930e-07</td>\n",
       "    </tr>\n",
       "    <tr>\n",
       "      <th>...</th>\n",
       "      <td>...</td>\n",
       "      <td>...</td>\n",
       "      <td>...</td>\n",
       "      <td>...</td>\n",
       "      <td>...</td>\n",
       "      <td>...</td>\n",
       "      <td>...</td>\n",
       "      <td>...</td>\n",
       "      <td>...</td>\n",
       "    </tr>\n",
       "    <tr>\n",
       "      <th>425</th>\n",
       "      <td>petroleum and gas production, onshore</td>\n",
       "      <td>natural gas, high pressure</td>\n",
       "      <td>TH</td>\n",
       "      <td>market for natural gas, high pressure</td>\n",
       "      <td>natural gas, high pressure</td>\n",
       "      <td>TH</td>\n",
       "      <td>0.002203</td>\n",
       "      <td>0.055233</td>\n",
       "      <td>1.216972e-04</td>\n",
       "    </tr>\n",
       "    <tr>\n",
       "      <th>426</th>\n",
       "      <td>petroleum and gas production, onshore</td>\n",
       "      <td>natural gas, high pressure</td>\n",
       "      <td>TH</td>\n",
       "      <td>natural gas, burned in gas turbine</td>\n",
       "      <td>natural gas, burned in gas turbine</td>\n",
       "      <td>TH</td>\n",
       "      <td>0.000014</td>\n",
       "      <td>0.055233</td>\n",
       "      <td>7.543712e-07</td>\n",
       "    </tr>\n",
       "    <tr>\n",
       "      <th>427</th>\n",
       "      <td>petroleum and gas production, onshore</td>\n",
       "      <td>petroleum</td>\n",
       "      <td>RU</td>\n",
       "      <td>market for petroleum</td>\n",
       "      <td>petroleum</td>\n",
       "      <td>BR</td>\n",
       "      <td>0.000056</td>\n",
       "      <td>0.002997</td>\n",
       "      <td>1.673438e-07</td>\n",
       "    </tr>\n",
       "    <tr>\n",
       "      <th>428</th>\n",
       "      <td>petroleum and gas production, onshore</td>\n",
       "      <td>petroleum</td>\n",
       "      <td>RU</td>\n",
       "      <td>market for petroleum</td>\n",
       "      <td>petroleum</td>\n",
       "      <td>PE</td>\n",
       "      <td>0.000130</td>\n",
       "      <td>0.015157</td>\n",
       "      <td>1.965600e-06</td>\n",
       "    </tr>\n",
       "    <tr>\n",
       "      <th>429</th>\n",
       "      <td>petroleum and gas production, onshore</td>\n",
       "      <td>petroleum</td>\n",
       "      <td>RU</td>\n",
       "      <td>market for petroleum</td>\n",
       "      <td>petroleum</td>\n",
       "      <td>IN</td>\n",
       "      <td>0.000906</td>\n",
       "      <td>0.048872</td>\n",
       "      <td>4.427836e-05</td>\n",
       "    </tr>\n",
       "  </tbody>\n",
       "</table>\n",
       "<p>430 rows × 9 columns</p>\n",
       "</div>"
      ],
      "text/plain": [
       "                              supplier name  supplier reference product  \\\n",
       "0     petroleum and gas production, onshore  natural gas, high pressure   \n",
       "1     petroleum and gas production, onshore  natural gas, high pressure   \n",
       "2                 hard coal, import from ZA                   hard coal   \n",
       "3    petroleum and gas production, offshore  natural gas, high pressure   \n",
       "4    petroleum and gas production, offshore  natural gas, high pressure   \n",
       "..                                      ...                         ...   \n",
       "425   petroleum and gas production, onshore  natural gas, high pressure   \n",
       "426   petroleum and gas production, onshore  natural gas, high pressure   \n",
       "427   petroleum and gas production, onshore                   petroleum   \n",
       "428   petroleum and gas production, onshore                   petroleum   \n",
       "429   petroleum and gas production, onshore                   petroleum   \n",
       "\n",
       "    supplier location                                      consumer name  \\\n",
       "0                  EC              market for natural gas, high pressure   \n",
       "1                  EC                 natural gas, burned in gas turbine   \n",
       "2                  IN                               market for hard coal   \n",
       "3                  MX  natural gas, high pressure, domestic supply wi...   \n",
       "4                  MX         natural gas, high pressure, import from MX   \n",
       "..                ...                                                ...   \n",
       "425                TH              market for natural gas, high pressure   \n",
       "426                TH                 natural gas, burned in gas turbine   \n",
       "427                RU                               market for petroleum   \n",
       "428                RU                               market for petroleum   \n",
       "429                RU                               market for petroleum   \n",
       "\n",
       "             consumer reference product consumer location    amount        CF  \\\n",
       "0            natural gas, high pressure                EC  0.000081  0.042343   \n",
       "1    natural gas, burned in gas turbine                EC  0.000001  0.042343   \n",
       "2                             hard coal                IN  0.009212  0.007686   \n",
       "3            natural gas, high pressure                MX  0.010588  0.059446   \n",
       "4            natural gas, high pressure                US  0.000013  0.049182   \n",
       "..                                  ...               ...       ...       ...   \n",
       "425          natural gas, high pressure                TH  0.002203  0.055233   \n",
       "426  natural gas, burned in gas turbine                TH  0.000014  0.055233   \n",
       "427                           petroleum                BR  0.000056  0.002997   \n",
       "428                           petroleum                PE  0.000130  0.015157   \n",
       "429                           petroleum                IN  0.000906  0.048872   \n",
       "\n",
       "           impact  \n",
       "0    3.414592e-06  \n",
       "1    5.490913e-08  \n",
       "2    7.080365e-05  \n",
       "3    6.294032e-04  \n",
       "4    6.211930e-07  \n",
       "..            ...  \n",
       "425  1.216972e-04  \n",
       "426  7.543712e-07  \n",
       "427  1.673438e-07  \n",
       "428  1.965600e-06  \n",
       "429  4.427836e-05  \n",
       "\n",
       "[430 rows x 9 columns]"
      ]
     },
     "execution_count": 8,
     "metadata": {},
     "output_type": "execute_result"
    }
   ],
   "source": [
    "df = LCA.generate_cf_table()\n",
    "df"
   ]
  },
  {
   "cell_type": "code",
   "execution_count": null,
   "metadata": {},
   "outputs": [],
   "source": []
  }
 ],
 "metadata": {
  "kernelspec": {
   "display_name": "Python 3 (ipykernel)",
   "language": "python",
   "name": "python3"
  },
  "language_info": {
   "codemirror_mode": {
    "name": "ipython",
    "version": 3
   },
   "file_extension": ".py",
   "mimetype": "text/x-python",
   "name": "python",
   "nbconvert_exporter": "python",
   "pygments_lexer": "ipython3",
   "version": "3.11.12"
  }
 },
 "nbformat": 4,
 "nbformat_minor": 4
}
