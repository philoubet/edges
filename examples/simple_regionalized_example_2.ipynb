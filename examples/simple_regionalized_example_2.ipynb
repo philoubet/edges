{
 "cells": [
  {
   "cell_type": "markdown",
   "metadata": {},
   "source": [
    "# Use examples of [edges](https://github.com/romainsacchi/edges)\n",
    "\n",
    "Author: [romainsacchi](https://github.com/romainsacchi)\n",
    "\n",
    "This notebook shows examples on how to use `edge` to use exchange-specific\n",
    "characterization factors in the characterization matrix of `bw2calc`, combining the use of exchange names and locations.\n",
    "\n",
    "## Requirements\n",
    "\n",
    "* **Pyhton 3.10 or higher (up to 3.11) is highly recommended**"
   ]
  },
  {
   "cell_type": "markdown",
   "metadata": {},
   "source": [
    "# Use case with [brightway2](https://brightway.dev/)\n",
    "\n",
    "`brightway2` is an open source LCA framework for Python.\n",
    "To use `premise` from `brightway2`, it requires that you have an activated `brightway2` project with a `biosphere3` database as well as an [ecoinvent](https://ecoinvent.prg) v.3 cut-off or consequential database registered in that project. Please refer to the brightway [documentation](https://brightway.dev) if you do not know how to create a project and install ecoinvent."
   ]
  },
  {
   "cell_type": "code",
   "execution_count": 1,
   "metadata": {
    "ExecuteTime": {
     "end_time": "2025-03-20T10:48:37.425878Z",
     "start_time": "2025-03-20T10:48:36.211980Z"
    }
   },
   "outputs": [],
   "source": [
    "from edges import EdgeLCIA, get_available_methods\n",
    "import bw2data"
   ]
  },
  {
   "cell_type": "markdown",
   "metadata": {},
   "source": [
    "One can simply build its own LCIA file.\n",
    "Let's consider the following LCIA file (saved under `lcia_example_2.json`):"
   ]
  },
  {
   "cell_type": "code",
   "execution_count": 2,
   "metadata": {
    "ExecuteTime": {
     "end_time": "2025-03-17T14:45:20.307990Z",
     "start_time": "2025-03-17T14:45:20.302804Z"
    }
   },
   "outputs": [
    {
     "data": {
      "text/plain": [
       "{'name': 'Example LCIA Method',\n",
       " 'version': '1.0',\n",
       " 'description': 'Example LCIA method for greenhouse gas emissions',\n",
       " 'unit': 'kg CO2e',\n",
       " 'exchanges': [{'supplier': {'name': 'Carbon dioxide',\n",
       "    'operator': 'startswith',\n",
       "    'matrix': 'biosphere'},\n",
       "   'consumer': {'matrix': 'technosphere', 'location': 'CH'},\n",
       "   'value': 1.0},\n",
       "  {'supplier': {'name': 'Carbon dioxide',\n",
       "    'operator': 'startswith',\n",
       "    'matrix': 'biosphere'},\n",
       "   'consumer': {'matrix': 'technosphere', 'location': 'FR'},\n",
       "   'value': 2.0},\n",
       "  {'supplier': {'name': 'Carbon dioxide',\n",
       "    'operator': 'startswith',\n",
       "    'matrix': 'biosphere'},\n",
       "   'consumer': {'matrix': 'technosphere', 'location': 'RER'},\n",
       "   'value': 3.0}]}"
      ]
     },
     "execution_count": 2,
     "metadata": {},
     "output_type": "execute_result"
    }
   ],
   "source": [
    "{\n",
    "  \"name\": \"Example LCIA Method\",\n",
    "  \"version\": \"1.0\",\n",
    "  \"description\": \"Example LCIA method for greenhouse gas emissions\",\n",
    "  \"unit\": \"kg CO2e\",\n",
    "  \"exchanges\": [\n",
    "    {\n",
    "      \"supplier\": {\n",
    "        \"name\": \"Carbon dioxide\",\n",
    "        \"operator\": \"startswith\",\n",
    "        \"matrix\": \"biosphere\"\n",
    "      },\n",
    "      \"consumer\": {\n",
    "        \"matrix\": \"technosphere\",\n",
    "        \"location\": \"CH\"\n",
    "      },\n",
    "      \"value\": 1.0\n",
    "    },\n",
    "    {\n",
    "      \"supplier\": {\n",
    "        \"name\": \"Carbon dioxide\",\n",
    "        \"operator\": \"startswith\",\n",
    "        \"matrix\": \"biosphere\"\n",
    "      },\n",
    "      \"consumer\": {\n",
    "        \"matrix\": \"technosphere\",\n",
    "        \"location\": \"FR\"\n",
    "      },\n",
    "      \"value\": 2.0\n",
    "    },\n",
    "    {\n",
    "      \"supplier\": {\n",
    "        \"name\": \"Carbon dioxide\",\n",
    "        \"operator\": \"startswith\",\n",
    "        \"matrix\": \"biosphere\"\n",
    "      },\n",
    "      \"consumer\": {\n",
    "        \"matrix\": \"technosphere\",\n",
    "        \"location\": \"RER\"\n",
    "      },\n",
    "      \"value\": 3.0\n",
    "    }\n",
    "  ]\n",
    "}\n",
    "\n"
   ]
  },
  {
   "cell_type": "code",
   "execution_count": 3,
   "metadata": {
    "ExecuteTime": {
     "end_time": "2025-03-20T10:48:40.393031Z",
     "start_time": "2025-03-20T10:48:40.151190Z"
    }
   },
   "outputs": [
    {
     "data": {
      "text/plain": [
       "'heat and power co-generation, natural gas, conventional power plant, 100MW electrical' (megajoule, RU, None)"
      ]
     },
     "execution_count": 3,
     "metadata": {},
     "output_type": "execute_result"
    }
   ],
   "source": [
    "# activate the bw project\n",
    "bw2data.projects.set_current(\"ecoinvent-3.10.1-cutoff\")\n",
    "act = bw2data.Database(\"ecoinvent-3.10.1-cutoff\").random()\n",
    "act"
   ]
  },
  {
   "cell_type": "code",
   "execution_count": 4,
   "metadata": {
    "ExecuteTime": {
     "end_time": "2025-03-20T10:08:29.137629Z",
     "start_time": "2025-03-20T10:08:26.937552Z"
    }
   },
   "outputs": [
    {
     "name": "stderr",
     "output_type": "stream",
     "text": [
      "/Users/romain/micromamba/envs/ab/lib/python3.11/site-packages/scikits/umfpack/umfpack.py:736: UmfpackWarning: (almost) singular matrix! (estimated cond. number: 4.83e+13)\n",
      "  warnings.warn(msg, UmfpackWarning)\n"
     ]
    },
    {
     "name": "stdout",
     "output_type": "stream",
     "text": [
      "Identifying eligible exchanges...\n"
     ]
    },
    {
     "name": "stderr",
     "output_type": "stream",
     "text": [
      "100%|█████████████████████████████████████████████| 3/3 [00:00<00:00, 33.73it/s]"
     ]
    },
    {
     "name": "stdout",
     "output_type": "stream",
     "text": [
      "1210 processed biosphere edges\n",
      "0 processed technosphere edges\n"
     ]
    },
    {
     "name": "stderr",
     "output_type": "stream",
     "text": [
      "\n"
     ]
    },
    {
     "data": {
      "text/plain": [
       "0.00016281503408902597"
      ]
     },
     "execution_count": 4,
     "metadata": {},
     "output_type": "execute_result"
    }
   ],
   "source": [
    "LCA = EdgeLCIA(\n",
    "    demand={act: 1},\n",
    "    method=(\"some\", \"method\"),\n",
    "    filepath=\"lcia_example_2.json\"\n",
    ")\n",
    "LCA.lci()\n",
    "\n",
    "LCA.map_exchanges()\n",
    "\n",
    "LCA.evaluate_cfs()\n",
    "LCA.lcia()\n",
    "LCA.score"
   ]
  },
  {
   "cell_type": "markdown",
   "metadata": {},
   "source": [
    "### Generate dataframe of characterization factors used\n",
    "\n",
    "The `generate_cf_table` method generates a dataframe of the characterization factors used in the calculation. One can see the characterization factors used for each exchange in the system."
   ]
  },
  {
   "cell_type": "code",
   "execution_count": 5,
   "metadata": {
    "ExecuteTime": {
     "end_time": "2025-03-20T09:58:03.427070Z",
     "start_time": "2025-03-20T09:58:02.951649Z"
    }
   },
   "outputs": [],
   "source": [
    "df = LCA.generate_cf_table()"
   ]
  },
  {
   "cell_type": "code",
   "execution_count": 6,
   "metadata": {
    "ExecuteTime": {
     "end_time": "2025-03-20T09:58:03.466510Z",
     "start_time": "2025-03-20T09:58:03.449759Z"
    }
   },
   "outputs": [
    {
     "data": {
      "text/html": [
       "<div>\n",
       "<style scoped>\n",
       "    .dataframe tbody tr th:only-of-type {\n",
       "        vertical-align: middle;\n",
       "    }\n",
       "\n",
       "    .dataframe tbody tr th {\n",
       "        vertical-align: top;\n",
       "    }\n",
       "\n",
       "    .dataframe thead th {\n",
       "        text-align: right;\n",
       "    }\n",
       "</style>\n",
       "<table border=\"1\" class=\"dataframe\">\n",
       "  <thead>\n",
       "    <tr style=\"text-align: right;\">\n",
       "      <th></th>\n",
       "      <th>supplier name</th>\n",
       "      <th>supplier categories</th>\n",
       "      <th>consumer name</th>\n",
       "      <th>consumer reference product</th>\n",
       "      <th>consumer location</th>\n",
       "      <th>amount</th>\n",
       "      <th>CF</th>\n",
       "      <th>impact</th>\n",
       "    </tr>\n",
       "  </thead>\n",
       "  <tbody>\n",
       "    <tr>\n",
       "      <th>0</th>\n",
       "      <td>Carbon dioxide, non-fossil</td>\n",
       "      <td>(air, urban air close to ground)</td>\n",
       "      <td>treatment of waste wood, untreated, municipal ...</td>\n",
       "      <td>waste wood, untreated</td>\n",
       "      <td>CH</td>\n",
       "      <td>1.910804e-07</td>\n",
       "      <td>1.0</td>\n",
       "      <td>1.910804e-07</td>\n",
       "    </tr>\n",
       "    <tr>\n",
       "      <th>1</th>\n",
       "      <td>Carbon dioxide, non-fossil</td>\n",
       "      <td>(air, urban air close to ground)</td>\n",
       "      <td>biomethane, low pressure burned in micro gas t...</td>\n",
       "      <td>heat, central or small-scale, other than natur...</td>\n",
       "      <td>CH</td>\n",
       "      <td>6.295395e-21</td>\n",
       "      <td>1.0</td>\n",
       "      <td>6.295395e-21</td>\n",
       "    </tr>\n",
       "    <tr>\n",
       "      <th>2</th>\n",
       "      <td>Carbon dioxide, non-fossil</td>\n",
       "      <td>(air, urban air close to ground)</td>\n",
       "      <td>treatment of digester sludge, municipal incine...</td>\n",
       "      <td>heat, for reuse in municipal waste incineratio...</td>\n",
       "      <td>CH</td>\n",
       "      <td>7.323961e-10</td>\n",
       "      <td>1.0</td>\n",
       "      <td>7.323961e-10</td>\n",
       "    </tr>\n",
       "    <tr>\n",
       "      <th>3</th>\n",
       "      <td>Carbon dioxide, non-fossil</td>\n",
       "      <td>(air, urban air close to ground)</td>\n",
       "      <td>lath, hardwood, raw, kiln drying to u=20%</td>\n",
       "      <td>sawnwood, lath, hardwood, raw, dried (u=20%)</td>\n",
       "      <td>CH</td>\n",
       "      <td>2.838967e-11</td>\n",
       "      <td>1.0</td>\n",
       "      <td>2.838967e-11</td>\n",
       "    </tr>\n",
       "    <tr>\n",
       "      <th>4</th>\n",
       "      <td>Carbon dioxide, non-fossil</td>\n",
       "      <td>(air, urban air close to ground)</td>\n",
       "      <td>beet sugar production</td>\n",
       "      <td>sugar beet pulp</td>\n",
       "      <td>CH</td>\n",
       "      <td>1.623526e-30</td>\n",
       "      <td>1.0</td>\n",
       "      <td>1.623526e-30</td>\n",
       "    </tr>\n",
       "    <tr>\n",
       "      <th>...</th>\n",
       "      <td>...</td>\n",
       "      <td>...</td>\n",
       "      <td>...</td>\n",
       "      <td>...</td>\n",
       "      <td>...</td>\n",
       "      <td>...</td>\n",
       "      <td>...</td>\n",
       "      <td>...</td>\n",
       "    </tr>\n",
       "    <tr>\n",
       "      <th>1205</th>\n",
       "      <td>Carbon dioxide, in air</td>\n",
       "      <td>(natural resource, in air)</td>\n",
       "      <td>rye production</td>\n",
       "      <td>straw</td>\n",
       "      <td>RER</td>\n",
       "      <td>2.353219e-09</td>\n",
       "      <td>3.0</td>\n",
       "      <td>7.059656e-09</td>\n",
       "    </tr>\n",
       "    <tr>\n",
       "      <th>1206</th>\n",
       "      <td>Carbon dioxide, in air</td>\n",
       "      <td>(natural resource, in air)</td>\n",
       "      <td>rye production</td>\n",
       "      <td>rye grain</td>\n",
       "      <td>RER</td>\n",
       "      <td>9.056163e-11</td>\n",
       "      <td>3.0</td>\n",
       "      <td>2.716849e-10</td>\n",
       "    </tr>\n",
       "    <tr>\n",
       "      <th>1207</th>\n",
       "      <td>Carbon dioxide, in air</td>\n",
       "      <td>(natural resource, in air)</td>\n",
       "      <td>anthraquinone production</td>\n",
       "      <td>anthraquinone</td>\n",
       "      <td>RER</td>\n",
       "      <td>2.776034e-12</td>\n",
       "      <td>3.0</td>\n",
       "      <td>8.328101e-12</td>\n",
       "    </tr>\n",
       "    <tr>\n",
       "      <th>1208</th>\n",
       "      <td>Carbon dioxide, in air</td>\n",
       "      <td>(natural resource, in air)</td>\n",
       "      <td>latex production</td>\n",
       "      <td>latex</td>\n",
       "      <td>RER</td>\n",
       "      <td>1.003052e-15</td>\n",
       "      <td>3.0</td>\n",
       "      <td>3.009155e-15</td>\n",
       "    </tr>\n",
       "    <tr>\n",
       "      <th>1209</th>\n",
       "      <td>Carbon dioxide, in air</td>\n",
       "      <td>(natural resource, in air)</td>\n",
       "      <td>particleboard production, cement bonded</td>\n",
       "      <td>particleboard, cement bonded</td>\n",
       "      <td>RER</td>\n",
       "      <td>4.623217e-14</td>\n",
       "      <td>3.0</td>\n",
       "      <td>1.386965e-13</td>\n",
       "    </tr>\n",
       "  </tbody>\n",
       "</table>\n",
       "<p>1210 rows × 8 columns</p>\n",
       "</div>"
      ],
      "text/plain": [
       "                   supplier name               supplier categories  \\\n",
       "0     Carbon dioxide, non-fossil  (air, urban air close to ground)   \n",
       "1     Carbon dioxide, non-fossil  (air, urban air close to ground)   \n",
       "2     Carbon dioxide, non-fossil  (air, urban air close to ground)   \n",
       "3     Carbon dioxide, non-fossil  (air, urban air close to ground)   \n",
       "4     Carbon dioxide, non-fossil  (air, urban air close to ground)   \n",
       "...                          ...                               ...   \n",
       "1205      Carbon dioxide, in air        (natural resource, in air)   \n",
       "1206      Carbon dioxide, in air        (natural resource, in air)   \n",
       "1207      Carbon dioxide, in air        (natural resource, in air)   \n",
       "1208      Carbon dioxide, in air        (natural resource, in air)   \n",
       "1209      Carbon dioxide, in air        (natural resource, in air)   \n",
       "\n",
       "                                          consumer name  \\\n",
       "0     treatment of waste wood, untreated, municipal ...   \n",
       "1     biomethane, low pressure burned in micro gas t...   \n",
       "2     treatment of digester sludge, municipal incine...   \n",
       "3             lath, hardwood, raw, kiln drying to u=20%   \n",
       "4                                 beet sugar production   \n",
       "...                                                 ...   \n",
       "1205                                     rye production   \n",
       "1206                                     rye production   \n",
       "1207                           anthraquinone production   \n",
       "1208                                   latex production   \n",
       "1209            particleboard production, cement bonded   \n",
       "\n",
       "                             consumer reference product consumer location  \\\n",
       "0                                 waste wood, untreated                CH   \n",
       "1     heat, central or small-scale, other than natur...                CH   \n",
       "2     heat, for reuse in municipal waste incineratio...                CH   \n",
       "3          sawnwood, lath, hardwood, raw, dried (u=20%)                CH   \n",
       "4                                       sugar beet pulp                CH   \n",
       "...                                                 ...               ...   \n",
       "1205                                              straw               RER   \n",
       "1206                                          rye grain               RER   \n",
       "1207                                      anthraquinone               RER   \n",
       "1208                                              latex               RER   \n",
       "1209                       particleboard, cement bonded               RER   \n",
       "\n",
       "            amount   CF        impact  \n",
       "0     1.910804e-07  1.0  1.910804e-07  \n",
       "1     6.295395e-21  1.0  6.295395e-21  \n",
       "2     7.323961e-10  1.0  7.323961e-10  \n",
       "3     2.838967e-11  1.0  2.838967e-11  \n",
       "4     1.623526e-30  1.0  1.623526e-30  \n",
       "...            ...  ...           ...  \n",
       "1205  2.353219e-09  3.0  7.059656e-09  \n",
       "1206  9.056163e-11  3.0  2.716849e-10  \n",
       "1207  2.776034e-12  3.0  8.328101e-12  \n",
       "1208  1.003052e-15  3.0  3.009155e-15  \n",
       "1209  4.623217e-14  3.0  1.386965e-13  \n",
       "\n",
       "[1210 rows x 8 columns]"
      ]
     },
     "execution_count": 6,
     "metadata": {},
     "output_type": "execute_result"
    }
   ],
   "source": [
    "# we can see under the \"CF\" column\n",
    "# the characterization factors used for each exchange in the system\n",
    "df"
   ]
  },
  {
   "cell_type": "markdown",
   "metadata": {},
   "source": [
    "As expected, only CH, FR and RER-based consumers have been considered in the calculation."
   ]
  },
  {
   "cell_type": "code",
   "execution_count": 7,
   "metadata": {
    "ExecuteTime": {
     "end_time": "2025-03-20T09:58:06.383792Z",
     "start_time": "2025-03-20T09:58:06.377867Z"
    }
   },
   "outputs": [
    {
     "data": {
      "text/plain": [
       "consumer location\n",
       "CH     1.0\n",
       "FR     2.0\n",
       "RER    3.0\n",
       "Name: CF, dtype: float64"
      ]
     },
     "execution_count": 7,
     "metadata": {},
     "output_type": "execute_result"
    }
   ],
   "source": [
    "df.groupby(\"consumer location\")[\"CF\"].mean()"
   ]
  },
  {
   "cell_type": "markdown",
   "metadata": {},
   "source": [
    "But `statistics()` tells us that many exchanges have been ignored."
   ]
  },
  {
   "cell_type": "code",
   "execution_count": 8,
   "metadata": {
    "ExecuteTime": {
     "end_time": "2025-03-20T09:58:08.835036Z",
     "start_time": "2025-03-20T09:58:08.831316Z"
    }
   },
   "outputs": [
    {
     "name": "stdout",
     "output_type": "stream",
     "text": [
      "+----------------------+--------------------------------------------+\n",
      "|       Activity       | heat and power co-generation, natural gas, |\n",
      "|                      | conventional power plant, 100MW electrical |\n",
      "|     Method name      |             ('some', 'method')             |\n",
      "|      Data file       |               lcia_example_2               |\n",
      "|    CFs in method     |                     3                      |\n",
      "|       CFs used       |                     3                      |\n",
      "|  Exc. characterized  |                    1210                    |\n",
      "| Exc. uncharacterized |                   334699                   |\n",
      "+----------------------+--------------------------------------------+\n"
     ]
    }
   ],
   "source": [
    "LCA.statistics()"
   ]
  },
  {
   "cell_type": "markdown",
   "metadata": {},
   "source": [
    "We can extend the application of CFs to other exchanges, using the helping functions: `map_aggregate_locations`, `map_disaggregate_location`, `map_dynamic_locations` and `map_remaining_locations_to_global`.\n",
    "\n",
    "* `map_aggregate_locations` maps exchanges with aggregate locations (e.g., \"RER\", RLA\", etc.) to weighted-average CFs.\n",
    "* `map_disaggregate_location` maps exchanges with locations that belong to aggregate locations (\"CA-QC\") to CFs of aggregate locations (e.g., \"CA\").\n",
    "* `map_dynamic_locations` maps exchanges with dynamic locations (e.g., \"RoW\", \"RoW\") to CFs calculated as the weighted-average of all locations minus those excluded by dynamic locations' perimeter (e.g., \"GLO minus CH\").\n",
    "* `map_remaining_locations_to_global` maps exchanges with remaining locations to the global CFs."
   ]
  },
  {
   "cell_type": "code",
   "execution_count": 9,
   "metadata": {
    "ExecuteTime": {
     "end_time": "2025-03-20T10:48:56.582217Z",
     "start_time": "2025-03-20T10:48:47.895530Z"
    }
   },
   "outputs": [
    {
     "name": "stderr",
     "output_type": "stream",
     "text": [
      "/Users/romain/micromamba/envs/ab/lib/python3.11/site-packages/scikits/umfpack/umfpack.py:736: UmfpackWarning: (almost) singular matrix! (estimated cond. number: 4.83e+13)\n",
      "  warnings.warn(msg, UmfpackWarning)\n"
     ]
    },
    {
     "name": "stdout",
     "output_type": "stream",
     "text": [
      "Identifying eligible exchanges...\n"
     ]
    },
    {
     "name": "stderr",
     "output_type": "stream",
     "text": [
      "100%|████████████████████████████████████████████| 3/3 [00:00<00:00, 128.22it/s]"
     ]
    },
    {
     "name": "stdout",
     "output_type": "stream",
     "text": [
      "1210 processed biosphere edges\n",
      "0 processed technosphere edges\n",
      "Handling static regions...\n"
     ]
    },
    {
     "name": "stderr",
     "output_type": "stream",
     "text": [
      "\n",
      "Processing static groups (pass 1): 0it [00:00, ?it/s]\n",
      "Processing remaining static edges (pass 2): 100%|█| 96785/96785 [00:00<00:00, 53\n",
      "Processing static groups (pass 1): 0it [00:00, ?it/s]\n",
      "Processing remaining static edges (pass 2): 0it [00:00, ?it/s]\n"
     ]
    },
    {
     "name": "stdout",
     "output_type": "stream",
     "text": [
      "1900 processed biosphere edges\n",
      "0 processed technosphere edges\n",
      "Handling dynamic regions...\n"
     ]
    },
    {
     "name": "stderr",
     "output_type": "stream",
     "text": [
      "Processing remaining dynamic edges (pass 2): 100%|█| 84848/84848 [00:00<00:00, 5\n"
     ]
    },
    {
     "name": "stdout",
     "output_type": "stream",
     "text": [
      "2713 processed biosphere edges\n",
      "0 processed technosphere edges\n",
      "Handling contained locations...\n",
      "2713 processed biosphere edges\n",
      "0 processed technosphere edges\n",
      "Handling remaining exchanges...\n"
     ]
    },
    {
     "name": "stderr",
     "output_type": "stream",
     "text": [
      "Processing remaining global edges (pass 2): 100%|█| 333196/333196 [00:00<00:00, \n"
     ]
    },
    {
     "name": "stdout",
     "output_type": "stream",
     "text": [
      "6462 processed biosphere edges\n",
      "0 processed technosphere edges\n"
     ]
    },
    {
     "data": {
      "text/plain": [
       "0.07194876358318945"
      ]
     },
     "execution_count": 9,
     "metadata": {},
     "output_type": "execute_result"
    }
   ],
   "source": [
    "LCA = EdgeLCIA(\n",
    "    demand={act: 1},\n",
    "    method=(\"some\", \"method\"),\n",
    "    filepath=\"lcia_example_2.json\"\n",
    ")\n",
    "LCA.lci()\n",
    "\n",
    "LCA.map_exchanges()\n",
    "\n",
    "LCA.map_aggregate_locations()\n",
    "LCA.map_dynamic_locations()\n",
    "LCA.map_contained_locations()\n",
    "LCA.map_remaining_locations_to_global()\n",
    "\n",
    "LCA.evaluate_cfs()\n",
    "LCA.lcia()\n",
    "LCA.score"
   ]
  },
  {
   "cell_type": "code",
   "execution_count": 10,
   "metadata": {
    "ExecuteTime": {
     "end_time": "2025-03-20T09:58:47.302715Z",
     "start_time": "2025-03-20T09:58:47.297674Z"
    }
   },
   "outputs": [
    {
     "name": "stdout",
     "output_type": "stream",
     "text": [
      "+----------------------+--------------------------------------------+\n",
      "|       Activity       | heat and power co-generation, natural gas, |\n",
      "|                      | conventional power plant, 100MW electrical |\n",
      "|     Method name      |             ('some', 'method')             |\n",
      "|      Data file       |               lcia_example_2               |\n",
      "|    CFs in method     |                     3                      |\n",
      "|       CFs used       |                    5255                    |\n",
      "|  Exc. characterized  |                    6462                    |\n",
      "| Exc. uncharacterized |                   329447                   |\n",
      "+----------------------+--------------------------------------------+\n"
     ]
    }
   ],
   "source": [
    "LCA.statistics()"
   ]
  },
  {
   "cell_type": "code",
   "execution_count": 11,
   "metadata": {
    "ExecuteTime": {
     "end_time": "2025-03-20T09:58:49.218174Z",
     "start_time": "2025-03-20T09:58:49.214797Z"
    }
   },
   "outputs": [
    {
     "data": {
      "text/plain": [
       "{'CH': 8921981, 'FR': 66548530, 'RER': 0}"
      ]
     },
     "execution_count": 11,
     "metadata": {},
     "output_type": "execute_result"
    }
   ],
   "source": [
    "LCA.weights"
   ]
  },
  {
   "cell_type": "code",
   "execution_count": 12,
   "metadata": {
    "ExecuteTime": {
     "end_time": "2025-03-20T10:49:42.755955Z",
     "start_time": "2025-03-20T10:49:39.991374Z"
    }
   },
   "outputs": [],
   "source": [
    "df = LCA.generate_cf_table()"
   ]
  },
  {
   "cell_type": "code",
   "execution_count": 13,
   "metadata": {
    "ExecuteTime": {
     "end_time": "2025-03-20T09:58:51.289407Z",
     "start_time": "2025-03-20T09:58:51.279424Z"
    }
   },
   "outputs": [
    {
     "data": {
      "text/html": [
       "<div>\n",
       "<style scoped>\n",
       "    .dataframe tbody tr th:only-of-type {\n",
       "        vertical-align: middle;\n",
       "    }\n",
       "\n",
       "    .dataframe tbody tr th {\n",
       "        vertical-align: top;\n",
       "    }\n",
       "\n",
       "    .dataframe thead th {\n",
       "        text-align: right;\n",
       "    }\n",
       "</style>\n",
       "<table border=\"1\" class=\"dataframe\">\n",
       "  <thead>\n",
       "    <tr style=\"text-align: right;\">\n",
       "      <th></th>\n",
       "      <th>supplier name</th>\n",
       "      <th>supplier categories</th>\n",
       "      <th>consumer name</th>\n",
       "      <th>consumer reference product</th>\n",
       "      <th>consumer location</th>\n",
       "      <th>amount</th>\n",
       "      <th>CF</th>\n",
       "      <th>impact</th>\n",
       "    </tr>\n",
       "  </thead>\n",
       "  <tbody>\n",
       "    <tr>\n",
       "      <th>0</th>\n",
       "      <td>Carbon dioxide, non-fossil</td>\n",
       "      <td>(air, urban air close to ground)</td>\n",
       "      <td>treatment of waste wood, untreated, municipal ...</td>\n",
       "      <td>waste wood, untreated</td>\n",
       "      <td>CH</td>\n",
       "      <td>1.910804e-07</td>\n",
       "      <td>1.000000</td>\n",
       "      <td>1.910804e-07</td>\n",
       "    </tr>\n",
       "    <tr>\n",
       "      <th>1</th>\n",
       "      <td>Carbon dioxide, non-fossil</td>\n",
       "      <td>(air, urban air close to ground)</td>\n",
       "      <td>biomethane, low pressure burned in micro gas t...</td>\n",
       "      <td>heat, central or small-scale, other than natur...</td>\n",
       "      <td>CH</td>\n",
       "      <td>6.295395e-21</td>\n",
       "      <td>1.000000</td>\n",
       "      <td>6.295395e-21</td>\n",
       "    </tr>\n",
       "    <tr>\n",
       "      <th>2</th>\n",
       "      <td>Carbon dioxide, non-fossil</td>\n",
       "      <td>(air, urban air close to ground)</td>\n",
       "      <td>treatment of digester sludge, municipal incine...</td>\n",
       "      <td>heat, for reuse in municipal waste incineratio...</td>\n",
       "      <td>CH</td>\n",
       "      <td>7.323961e-10</td>\n",
       "      <td>1.000000</td>\n",
       "      <td>7.323961e-10</td>\n",
       "    </tr>\n",
       "    <tr>\n",
       "      <th>3</th>\n",
       "      <td>Carbon dioxide, non-fossil</td>\n",
       "      <td>(air, urban air close to ground)</td>\n",
       "      <td>lath, hardwood, raw, kiln drying to u=20%</td>\n",
       "      <td>sawnwood, lath, hardwood, raw, dried (u=20%)</td>\n",
       "      <td>CH</td>\n",
       "      <td>2.838967e-11</td>\n",
       "      <td>1.000000</td>\n",
       "      <td>2.838967e-11</td>\n",
       "    </tr>\n",
       "    <tr>\n",
       "      <th>4</th>\n",
       "      <td>Carbon dioxide, non-fossil</td>\n",
       "      <td>(air, urban air close to ground)</td>\n",
       "      <td>beet sugar production</td>\n",
       "      <td>sugar beet pulp</td>\n",
       "      <td>CH</td>\n",
       "      <td>1.623526e-30</td>\n",
       "      <td>1.000000</td>\n",
       "      <td>1.623526e-30</td>\n",
       "    </tr>\n",
       "    <tr>\n",
       "      <th>...</th>\n",
       "      <td>...</td>\n",
       "      <td>...</td>\n",
       "      <td>...</td>\n",
       "      <td>...</td>\n",
       "      <td>...</td>\n",
       "      <td>...</td>\n",
       "      <td>...</td>\n",
       "      <td>...</td>\n",
       "    </tr>\n",
       "    <tr>\n",
       "      <th>6457</th>\n",
       "      <td>Carbon dioxide, non-fossil, resource correction</td>\n",
       "      <td>(natural resource, in air)</td>\n",
       "      <td>sulfate pulp production, from eucalyptus, blea...</td>\n",
       "      <td>sulfate pulp, bleached</td>\n",
       "      <td>RoW</td>\n",
       "      <td>2.903644e-11</td>\n",
       "      <td>1.881782</td>\n",
       "      <td>5.464025e-11</td>\n",
       "    </tr>\n",
       "    <tr>\n",
       "      <th>6458</th>\n",
       "      <td>Carbon dioxide, non-fossil</td>\n",
       "      <td>(air, urban air close to ground)</td>\n",
       "      <td>heat and power co-generation, wood chips, 6667 kW</td>\n",
       "      <td>heat, district or industrial, other than natur...</td>\n",
       "      <td>EE</td>\n",
       "      <td>3.120166e-08</td>\n",
       "      <td>1.881782</td>\n",
       "      <td>5.871472e-08</td>\n",
       "    </tr>\n",
       "    <tr>\n",
       "      <th>6459</th>\n",
       "      <td>Carbon dioxide, from soil or biomass stock</td>\n",
       "      <td>(air, non-urban air or from high stacks)</td>\n",
       "      <td>electricity production, hydro, pumped storage</td>\n",
       "      <td>electricity, high voltage</td>\n",
       "      <td>LU</td>\n",
       "      <td>1.147676e-09</td>\n",
       "      <td>1.881782</td>\n",
       "      <td>2.159676e-09</td>\n",
       "    </tr>\n",
       "    <tr>\n",
       "      <th>6460</th>\n",
       "      <td>Carbon dioxide, fossil</td>\n",
       "      <td>(air,)</td>\n",
       "      <td>electricity production, oil</td>\n",
       "      <td>electricity, high voltage</td>\n",
       "      <td>CN-JS</td>\n",
       "      <td>1.281791e-10</td>\n",
       "      <td>1.881782</td>\n",
       "      <td>2.412050e-10</td>\n",
       "    </tr>\n",
       "    <tr>\n",
       "      <th>6461</th>\n",
       "      <td>Carbon dioxide, fossil</td>\n",
       "      <td>(air, non-urban air or from high stacks)</td>\n",
       "      <td>natural gas, high pressure, domestic supply wi...</td>\n",
       "      <td>natural gas, high pressure</td>\n",
       "      <td>DE</td>\n",
       "      <td>3.760549e-13</td>\n",
       "      <td>1.881782</td>\n",
       "      <td>7.076533e-13</td>\n",
       "    </tr>\n",
       "  </tbody>\n",
       "</table>\n",
       "<p>6462 rows × 8 columns</p>\n",
       "</div>"
      ],
      "text/plain": [
       "                                        supplier name  \\\n",
       "0                          Carbon dioxide, non-fossil   \n",
       "1                          Carbon dioxide, non-fossil   \n",
       "2                          Carbon dioxide, non-fossil   \n",
       "3                          Carbon dioxide, non-fossil   \n",
       "4                          Carbon dioxide, non-fossil   \n",
       "...                                               ...   \n",
       "6457  Carbon dioxide, non-fossil, resource correction   \n",
       "6458                       Carbon dioxide, non-fossil   \n",
       "6459       Carbon dioxide, from soil or biomass stock   \n",
       "6460                           Carbon dioxide, fossil   \n",
       "6461                           Carbon dioxide, fossil   \n",
       "\n",
       "                           supplier categories  \\\n",
       "0             (air, urban air close to ground)   \n",
       "1             (air, urban air close to ground)   \n",
       "2             (air, urban air close to ground)   \n",
       "3             (air, urban air close to ground)   \n",
       "4             (air, urban air close to ground)   \n",
       "...                                        ...   \n",
       "6457                (natural resource, in air)   \n",
       "6458          (air, urban air close to ground)   \n",
       "6459  (air, non-urban air or from high stacks)   \n",
       "6460                                    (air,)   \n",
       "6461  (air, non-urban air or from high stacks)   \n",
       "\n",
       "                                          consumer name  \\\n",
       "0     treatment of waste wood, untreated, municipal ...   \n",
       "1     biomethane, low pressure burned in micro gas t...   \n",
       "2     treatment of digester sludge, municipal incine...   \n",
       "3             lath, hardwood, raw, kiln drying to u=20%   \n",
       "4                                 beet sugar production   \n",
       "...                                                 ...   \n",
       "6457  sulfate pulp production, from eucalyptus, blea...   \n",
       "6458  heat and power co-generation, wood chips, 6667 kW   \n",
       "6459      electricity production, hydro, pumped storage   \n",
       "6460                        electricity production, oil   \n",
       "6461  natural gas, high pressure, domestic supply wi...   \n",
       "\n",
       "                             consumer reference product consumer location  \\\n",
       "0                                 waste wood, untreated                CH   \n",
       "1     heat, central or small-scale, other than natur...                CH   \n",
       "2     heat, for reuse in municipal waste incineratio...                CH   \n",
       "3          sawnwood, lath, hardwood, raw, dried (u=20%)                CH   \n",
       "4                                       sugar beet pulp                CH   \n",
       "...                                                 ...               ...   \n",
       "6457                             sulfate pulp, bleached               RoW   \n",
       "6458  heat, district or industrial, other than natur...                EE   \n",
       "6459                          electricity, high voltage                LU   \n",
       "6460                          electricity, high voltage             CN-JS   \n",
       "6461                         natural gas, high pressure                DE   \n",
       "\n",
       "            amount        CF        impact  \n",
       "0     1.910804e-07  1.000000  1.910804e-07  \n",
       "1     6.295395e-21  1.000000  6.295395e-21  \n",
       "2     7.323961e-10  1.000000  7.323961e-10  \n",
       "3     2.838967e-11  1.000000  2.838967e-11  \n",
       "4     1.623526e-30  1.000000  1.623526e-30  \n",
       "...            ...       ...           ...  \n",
       "6457  2.903644e-11  1.881782  5.464025e-11  \n",
       "6458  3.120166e-08  1.881782  5.871472e-08  \n",
       "6459  1.147676e-09  1.881782  2.159676e-09  \n",
       "6460  1.281791e-10  1.881782  2.412050e-10  \n",
       "6461  3.760549e-13  1.881782  7.076533e-13  \n",
       "\n",
       "[6462 rows x 8 columns]"
      ]
     },
     "execution_count": 13,
     "metadata": {},
     "output_type": "execute_result"
    }
   ],
   "source": [
    "df"
   ]
  },
  {
   "cell_type": "markdown",
   "metadata": {},
   "source": [
    "We can check the weights used:"
   ]
  },
  {
   "cell_type": "code",
   "execution_count": 14,
   "metadata": {
    "ExecuteTime": {
     "end_time": "2025-03-19T11:11:15.944537Z",
     "start_time": "2025-03-19T11:11:15.937896Z"
    }
   },
   "outputs": [
    {
     "data": {
      "text/plain": [
       "{'CH': 8921981, 'FR': 66548530, 'RER': 0}"
      ]
     },
     "execution_count": 14,
     "metadata": {},
     "output_type": "execute_result"
    }
   ],
   "source": [
    "LCA.weights"
   ]
  },
  {
   "cell_type": "markdown",
   "metadata": {},
   "source": [
    "By default, if weights are not provided in the consumer sections of LCIA file, population is used. The other option is GDP. To be specified when calling EdgeLICA()."
   ]
  },
  {
   "cell_type": "markdown",
   "metadata": {},
   "source": [
    "And we can see the weighted-average CFs used:"
   ]
  },
  {
   "cell_type": "code",
   "execution_count": 15,
   "metadata": {
    "ExecuteTime": {
     "end_time": "2025-03-20T10:49:44.993009Z",
     "start_time": "2025-03-20T10:49:44.985743Z"
    }
   },
   "outputs": [
    {
     "data": {
      "text/plain": [
       "consumer location\n",
       "AE        1.881782\n",
       "AR        1.881782\n",
       "AT        1.881782\n",
       "AU        1.881782\n",
       "AU-NSW    1.881782\n",
       "            ...   \n",
       "VE        1.881782\n",
       "VN        1.881782\n",
       "WEU       1.881782\n",
       "ZA        1.881782\n",
       "ZM        1.881782\n",
       "Name: CF, Length: 227, dtype: float64"
      ]
     },
     "execution_count": 15,
     "metadata": {},
     "output_type": "execute_result"
    }
   ],
   "source": [
    "df.groupby(\"consumer location\")[\"CF\"].mean()"
   ]
  },
  {
   "cell_type": "markdown",
   "metadata": {},
   "source": [
    "We have pre-generated LCIA files for specific methods (AWARE, ImpactWorld+, etc.).\n",
    "You can get a list like so:"
   ]
  },
  {
   "cell_type": "code",
   "execution_count": 16,
   "metadata": {
    "ExecuteTime": {
     "end_time": "2025-03-19T10:59:19.307323Z",
     "start_time": "2025-03-19T10:59:19.301721Z"
    }
   },
   "outputs": [
    {
     "data": {
      "text/plain": [
       "[('AWARE 2.0', 'Country', 'all', 'yearly'),\n",
       " ('AWARE 2.0', 'Country', 'irri', 'yearly'),\n",
       " ('AWARE 2.0', 'Country', 'non', 'irri', 'yearly'),\n",
       " ('AWARE 2.0', 'Country', 'unspecified', 'yearly'),\n",
       " ('GeoPolRisk', '2024'),\n",
       " ('GeoPolRisk', 'paired', '2024'),\n",
       " ('ImpactWorld+ 2.1', 'Freshwater acidification', 'damage'),\n",
       " ('ImpactWorld+ 2.1', 'Freshwater acidification', 'midpoint'),\n",
       " ('ImpactWorld+ 2.1', 'Freshwater ecotoxicity', 'damage'),\n",
       " ('ImpactWorld+ 2.1', 'Freshwater ecotoxicity', 'midpoint'),\n",
       " ('ImpactWorld+ 2.1', 'Freshwater ecotoxicity, long term', 'damage'),\n",
       " ('ImpactWorld+ 2.1', 'Freshwater ecotoxicity, long term', 'midpoint'),\n",
       " ('ImpactWorld+ 2.1', 'Freshwater ecotoxicity, short term', 'damage'),\n",
       " ('ImpactWorld+ 2.1', 'Freshwater ecotoxicity, short term', 'midpoint'),\n",
       " ('ImpactWorld+ 2.1', 'Freshwater eutrophication', 'damage'),\n",
       " ('ImpactWorld+ 2.1', 'Freshwater eutrophication', 'midpoint'),\n",
       " ('ImpactWorld+ 2.1', 'Land occupation, biodiversity', 'damage'),\n",
       " ('ImpactWorld+ 2.1', 'Land occupation, biodiversity', 'midpoint'),\n",
       " ('ImpactWorld+ 2.1', 'Land transformation, biodiversity', 'damage'),\n",
       " ('ImpactWorld+ 2.1', 'Land transformation, biodiversity', 'midpoint'),\n",
       " ('ImpactWorld+ 2.1', 'Marine ecotoxicity, long term', 'damage'),\n",
       " ('ImpactWorld+ 2.1', 'Marine ecotoxicity, long term', 'midpoint'),\n",
       " ('ImpactWorld+ 2.1', 'Marine ecotoxicity, short term', 'damage'),\n",
       " ('ImpactWorld+ 2.1', 'Marine ecotoxicity, short term', 'midpoint'),\n",
       " ('ImpactWorld+ 2.1', 'Marine eutrophication', 'damage'),\n",
       " ('ImpactWorld+ 2.1', 'Marine eutrophication', 'midpoint'),\n",
       " ('ImpactWorld+ 2.1', 'Particulate matter formation', 'damage'),\n",
       " ('ImpactWorld+ 2.1', 'Particulate matter formation', 'midpoint'),\n",
       " ('ImpactWorld+ 2.1', 'Photochemical ozone formation', 'damage'),\n",
       " ('ImpactWorld+ 2.1', 'Photochemical ozone formation', 'midpoint'),\n",
       " ('ImpactWorld+ 2.1',\n",
       "  'Photochemical ozone formation, ecosystem quality',\n",
       "  'damage'),\n",
       " ('ImpactWorld+ 2.1',\n",
       "  'Photochemical ozone formation, ecosystem quality',\n",
       "  'midpoint'),\n",
       " ('ImpactWorld+ 2.1', 'Photochemical ozone formation, human health', 'damage'),\n",
       " ('ImpactWorld+ 2.1',\n",
       "  'Photochemical ozone formation, human health',\n",
       "  'midpoint'),\n",
       " ('ImpactWorld+ 2.1', 'Terrestrial acidification', 'damage'),\n",
       " ('ImpactWorld+ 2.1', 'Terrestrial acidification', 'midpoint'),\n",
       " ('ImpactWorld+ 2.1', 'Terrestrial ecotoxicity, long term', 'damage'),\n",
       " ('ImpactWorld+ 2.1', 'Terrestrial ecotoxicity, long term', 'midpoint'),\n",
       " ('ImpactWorld+ 2.1', 'Terrestrial ecotoxicity, short term', 'damage'),\n",
       " ('ImpactWorld+ 2.1', 'Terrestrial ecotoxicity, short term', 'midpoint'),\n",
       " ('ImpactWorld+ 2.1', 'Thermally polluted water', 'damage'),\n",
       " ('ImpactWorld+ 2.1', 'Thermally polluted water', 'midpoint'),\n",
       " ('ImpactWorld+ 2.1', 'Water availability, freshwater ecosystem', 'damage'),\n",
       " ('ImpactWorld+ 2.1', 'Water availability, freshwater ecosystem', 'midpoint'),\n",
       " ('ImpactWorld+ 2.1', 'Water availability, human health', 'damage'),\n",
       " ('ImpactWorld+ 2.1', 'Water availability, human health', 'midpoint'),\n",
       " ('ImpactWorld+ 2.1', 'Water availability, terrestrial ecosystem', 'damage'),\n",
       " ('ImpactWorld+ 2.1', 'Water availability, terrestrial ecosystem', 'midpoint'),\n",
       " ('ImpactWorld+ 2.1', 'Water scarcity', 'damage'),\n",
       " ('ImpactWorld+ 2.1', 'Water scarcity', 'midpoint'),\n",
       " ('LCC 1.0', '2023'),\n",
       " ('RELICS', 'copper'),\n",
       " ('SCP', '1.0')]"
      ]
     },
     "execution_count": 16,
     "metadata": {},
     "output_type": "execute_result"
    }
   ],
   "source": [
    "get_available_methods()"
   ]
  },
  {
   "cell_type": "markdown",
   "metadata": {},
   "source": [
    "Check the other notebooks to see how to use them."
   ]
  },
  {
   "cell_type": "code",
   "execution_count": null,
   "metadata": {},
   "outputs": [],
   "source": []
  }
 ],
 "metadata": {
  "kernelspec": {
   "display_name": "Python 3 (ipykernel)",
   "language": "python",
   "name": "python3"
  },
  "language_info": {
   "codemirror_mode": {
    "name": "ipython",
    "version": 3
   },
   "file_extension": ".py",
   "mimetype": "text/x-python",
   "name": "python",
   "nbconvert_exporter": "python",
   "pygments_lexer": "ipython3",
   "version": "3.11.12"
  }
 },
 "nbformat": 4,
 "nbformat_minor": 4
}
