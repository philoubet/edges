{
 "cells": [
  {
   "cell_type": "markdown",
   "metadata": {},
   "source": [
    "# Use examples of [edges](https://github.com/romainsacchi/edges)\n",
    "\n",
    "Author: [romainsacchi](https://github.com/romainsacchi)\n",
    "\n",
    "This notebook shows examples on how to use `edge` to use exchange-specific\n",
    "characterization factors in the characterization matrix of `bw2calc`.\n",
    "\n",
    "## Requirements\n",
    "\n",
    "* **Pyhton 3.10 or higher (up to 3.11) is highly recommended**"
   ]
  },
  {
   "cell_type": "markdown",
   "metadata": {},
   "source": [
    "# Use case with [brightway2](https://brightway.dev/)\n",
    "\n",
    "`brightway2` is an open source LCA framework for Python.\n",
    "To use `premise` from `brightway2`, it requires that you have an activated `brightway2` project with a `biosphere3` database as well as an [ecoinvent](https://ecoinvent.prg) v.3 cut-off or consequential database registered in that project. Please refer to the brightway [documentation](https://brightway.dev) if you do not know how to create a project and install ecoinvent."
   ]
  },
  {
   "cell_type": "code",
   "execution_count": 1,
   "metadata": {
    "ExecuteTime": {
     "end_time": "2025-03-20T09:57:05.378146Z",
     "start_time": "2025-03-20T09:57:04.218865Z"
    }
   },
   "outputs": [],
   "source": [
    "from edges import EdgeLCIA, get_available_methods\n",
    "import bw2data"
   ]
  },
  {
   "cell_type": "markdown",
   "metadata": {},
   "source": [
    "One can simply build its own LCIA file.\n",
    "Let's consider the following LCIA file (saved under `lcia_example_1.json`):"
   ]
  },
  {
   "cell_type": "code",
   "execution_count": 2,
   "metadata": {
    "ExecuteTime": {
     "end_time": "2025-03-17T14:24:28.111651Z",
     "start_time": "2025-03-17T14:24:28.102477Z"
    }
   },
   "outputs": [
    {
     "data": {
      "text/plain": [
       "{'name': 'Example LCIA Method',\n",
       " 'version': '1.0',\n",
       " 'description': 'Example LCIA method for greenhouse gas emissions',\n",
       " 'unit': 'kg CO2e',\n",
       " 'exchanges': [{'supplier': {'name': 'Carbon dioxide',\n",
       "    'operator': 'startswith',\n",
       "    'matrix': 'biosphere'},\n",
       "   'consumer': {'matrix': 'technosphere', 'type': 'process'},\n",
       "   'value': 1.0},\n",
       "  {'supplier': {'name': 'Methane, fossil',\n",
       "    'operator': 'contains',\n",
       "    'matrix': 'biosphere'},\n",
       "   'consumer': {'matrix': 'technosphere', 'type': 'process'},\n",
       "   'value': 28.0},\n",
       "  {'supplier': {'name': 'Dinitrogen monoxide',\n",
       "    'operator': 'equals',\n",
       "    'matrix': 'biosphere'},\n",
       "   'consumer': {'matrix': 'technosphere', 'type': 'process'},\n",
       "   'value': 265.0}]}"
      ]
     },
     "execution_count": 2,
     "metadata": {},
     "output_type": "execute_result"
    }
   ],
   "source": [
    "{\n",
    "  \"name\": \"Example LCIA Method\",\n",
    "    \"version\": \"1.0\",\n",
    "    \"description\": \"Example LCIA method for greenhouse gas emissions\",\n",
    "    \"unit\": \"kg CO2e\",\n",
    "  \"exchanges\": [\n",
    "    {\n",
    "      \"supplier\": {\n",
    "        \"name\": \"Carbon dioxide\",\n",
    "        \"operator\": \"startswith\",\n",
    "        \"matrix\": \"biosphere\"\n",
    "      },\n",
    "      \"consumer\": {\n",
    "        \"matrix\": \"technosphere\",\n",
    "        \"type\": \"process\"\n",
    "      },\n",
    "      \"value\": 1.0\n",
    "    },\n",
    "    {\n",
    "      \"supplier\": {\n",
    "        \"name\": \"Methane, fossil\",\n",
    "        \"operator\": \"contains\",\n",
    "        \"matrix\": \"biosphere\"\n",
    "      },\n",
    "      \"consumer\": {\n",
    "        \"matrix\": \"technosphere\",\n",
    "        \"type\": \"process\"\n",
    "      },\n",
    "      \"value\": 28.0\n",
    "    },\n",
    "    {\n",
    "      \"supplier\": {\n",
    "        \"name\": \"Dinitrogen monoxide\",\n",
    "        \"operator\": \"equals\",\n",
    "        \"matrix\": \"biosphere\"\n",
    "      },\n",
    "      \"consumer\": {\n",
    "        \"matrix\": \"technosphere\",\n",
    "        \"type\": \"process\"\n",
    "      },\n",
    "      \"value\": 265.0\n",
    "    }\n",
    "  ]\n",
    "}"
   ]
  },
  {
   "cell_type": "code",
   "execution_count": 3,
   "metadata": {
    "ExecuteTime": {
     "end_time": "2025-03-20T09:57:12.238002Z",
     "start_time": "2025-03-20T09:57:12.036195Z"
    }
   },
   "outputs": [],
   "source": [
    "# activate the bw project\n",
    "bw2data.projects.set_current(\"ecoinvent-3.10.1-cutoff\")\n",
    "act = bw2data.Database(\"ecoinvent-3.10.1-cutoff\").random()\n",
    "act"
   ]
  },
  {
   "cell_type": "code",
   "execution_count": 4,
   "metadata": {
    "ExecuteTime": {
     "end_time": "2025-03-20T09:57:12.735173Z",
     "start_time": "2025-03-20T09:57:12.716316Z"
    }
   },
   "outputs": [
    {
     "data": {
      "text/plain": [
       "'transport, pipeline, onshore, long distance, natural gas' (ton kilometer, RO, None)"
      ]
     },
     "execution_count": 4,
     "metadata": {},
     "output_type": "execute_result"
    }
   ],
   "source": []
  },
  {
   "cell_type": "code",
   "execution_count": 5,
   "metadata": {
    "ExecuteTime": {
     "end_time": "2025-03-20T09:57:18.301814Z",
     "start_time": "2025-03-20T09:57:16.050516Z"
    }
   },
   "outputs": [
    {
     "name": "stderr",
     "output_type": "stream",
     "text": [
      "/Users/romain/micromamba/envs/ab/lib/python3.11/site-packages/scikits/umfpack/umfpack.py:736: UmfpackWarning: (almost) singular matrix! (estimated cond. number: 4.83e+13)\n",
      "  warnings.warn(msg, UmfpackWarning)\n"
     ]
    },
    {
     "name": "stdout",
     "output_type": "stream",
     "text": [
      "Identifying eligible exchanges...\n"
     ]
    },
    {
     "name": "stderr",
     "output_type": "stream",
     "text": [
      "100%|█████████████████████████████████████████████| 3/3 [00:00<00:00,  4.33it/s]"
     ]
    },
    {
     "name": "stdout",
     "output_type": "stream",
     "text": [
      "12790 processed biosphere edges\n",
      "0 processed technosphere edges\n"
     ]
    },
    {
     "name": "stderr",
     "output_type": "stream",
     "text": [
      "\n"
     ]
    },
    {
     "data": {
      "text/plain": [
       "0.029431761560977928"
      ]
     },
     "execution_count": 5,
     "metadata": {},
     "output_type": "execute_result"
    }
   ],
   "source": [
    "LCA = EdgeLCIA(\n",
    "    demand={act: 1},\n",
    "    method=(\"some\", \"method\"),\n",
    "    filepath=\"lcia_example_1.json\"\n",
    ")\n",
    "LCA.lci()\n",
    "\n",
    "LCA.map_exchanges()\n",
    "\n",
    "LCA.evaluate_cfs()\n",
    "LCA.lcia()\n",
    "LCA.score"
   ]
  },
  {
   "cell_type": "markdown",
   "metadata": {},
   "source": [
    "We can print some statistics:"
   ]
  },
  {
   "cell_type": "code",
   "execution_count": 6,
   "metadata": {
    "ExecuteTime": {
     "end_time": "2025-03-20T09:57:20.892299Z",
     "start_time": "2025-03-20T09:57:20.885709Z"
    }
   },
   "outputs": [
    {
     "name": "stdout",
     "output_type": "stream",
     "text": [
      "+----------------------+----------------------------------------------+\n",
      "|       Activity       | transport, pipeline, onshore, long distance, |\n",
      "|                      |                 natural gas                  |\n",
      "|     Method name      |              ('some', 'method')              |\n",
      "|      Data file       |                lcia_example_1                |\n",
      "|    CFs in method     |                      3                       |\n",
      "|       CFs used       |                      3                       |\n",
      "|  Exc. characterized  |                    12790                     |\n",
      "| Exc. uncharacterized |                    323128                    |\n",
      "+----------------------+----------------------------------------------+\n"
     ]
    }
   ],
   "source": [
    "LCA.statistics()"
   ]
  },
  {
   "cell_type": "markdown",
   "metadata": {},
   "source": [
    "### Generate dataframe of characterization factors used\n",
    "\n",
    "The `generate_cf_table` method generates a dataframe of the characterization factors used in the calculation. One can see the characterization factors used for each exchange in the system."
   ]
  },
  {
   "cell_type": "code",
   "execution_count": 7,
   "metadata": {
    "ExecuteTime": {
     "end_time": "2025-03-20T09:57:30.295629Z",
     "start_time": "2025-03-20T09:57:25.198277Z"
    }
   },
   "outputs": [],
   "source": [
    "df = LCA.generate_cf_table()"
   ]
  },
  {
   "cell_type": "code",
   "execution_count": 8,
   "metadata": {
    "ExecuteTime": {
     "end_time": "2025-03-20T09:57:30.322113Z",
     "start_time": "2025-03-20T09:57:30.310931Z"
    }
   },
   "outputs": [
    {
     "data": {
      "text/html": [
       "<div>\n",
       "<style scoped>\n",
       "    .dataframe tbody tr th:only-of-type {\n",
       "        vertical-align: middle;\n",
       "    }\n",
       "\n",
       "    .dataframe tbody tr th {\n",
       "        vertical-align: top;\n",
       "    }\n",
       "\n",
       "    .dataframe thead th {\n",
       "        text-align: right;\n",
       "    }\n",
       "</style>\n",
       "<table border=\"1\" class=\"dataframe\">\n",
       "  <thead>\n",
       "    <tr style=\"text-align: right;\">\n",
       "      <th></th>\n",
       "      <th>supplier name</th>\n",
       "      <th>supplier categories</th>\n",
       "      <th>consumer name</th>\n",
       "      <th>consumer reference product</th>\n",
       "      <th>consumer location</th>\n",
       "      <th>amount</th>\n",
       "      <th>CF</th>\n",
       "      <th>impact</th>\n",
       "    </tr>\n",
       "  </thead>\n",
       "  <tbody>\n",
       "    <tr>\n",
       "      <th>0</th>\n",
       "      <td>Carbon dioxide, from soil or biomass stock</td>\n",
       "      <td>(air,)</td>\n",
       "      <td>feldspar production</td>\n",
       "      <td>feldspar</td>\n",
       "      <td>RoW</td>\n",
       "      <td>9.128448e-16</td>\n",
       "      <td>1.0</td>\n",
       "      <td>9.128448e-16</td>\n",
       "    </tr>\n",
       "    <tr>\n",
       "      <th>1</th>\n",
       "      <td>Carbon dioxide, from soil or biomass stock</td>\n",
       "      <td>(air,)</td>\n",
       "      <td>burnt shale production</td>\n",
       "      <td>burnt shale</td>\n",
       "      <td>DE</td>\n",
       "      <td>1.896211e-15</td>\n",
       "      <td>1.0</td>\n",
       "      <td>1.896211e-15</td>\n",
       "    </tr>\n",
       "    <tr>\n",
       "      <th>2</th>\n",
       "      <td>Carbon dioxide, from soil or biomass stock</td>\n",
       "      <td>(air,)</td>\n",
       "      <td>liquid packaging board production</td>\n",
       "      <td>bark</td>\n",
       "      <td>RER</td>\n",
       "      <td>1.017369e-15</td>\n",
       "      <td>1.0</td>\n",
       "      <td>1.017369e-15</td>\n",
       "    </tr>\n",
       "    <tr>\n",
       "      <th>3</th>\n",
       "      <td>Carbon dioxide, from soil or biomass stock</td>\n",
       "      <td>(air,)</td>\n",
       "      <td>sodium perborate production, tetrahydrate, powder</td>\n",
       "      <td>sodium perborate, tetrahydrate, powder</td>\n",
       "      <td>RoW</td>\n",
       "      <td>8.744544e-17</td>\n",
       "      <td>1.0</td>\n",
       "      <td>8.744544e-17</td>\n",
       "    </tr>\n",
       "    <tr>\n",
       "      <th>4</th>\n",
       "      <td>Carbon dioxide, from soil or biomass stock</td>\n",
       "      <td>(air,)</td>\n",
       "      <td>sodium perborate production, tetrahydrate, powder</td>\n",
       "      <td>sodium perborate, tetrahydrate, powder</td>\n",
       "      <td>RER</td>\n",
       "      <td>9.083129e-19</td>\n",
       "      <td>1.0</td>\n",
       "      <td>9.083129e-19</td>\n",
       "    </tr>\n",
       "    <tr>\n",
       "      <th>...</th>\n",
       "      <td>...</td>\n",
       "      <td>...</td>\n",
       "      <td>...</td>\n",
       "      <td>...</td>\n",
       "      <td>...</td>\n",
       "      <td>...</td>\n",
       "      <td>...</td>\n",
       "      <td>...</td>\n",
       "    </tr>\n",
       "    <tr>\n",
       "      <th>12785</th>\n",
       "      <td>Dinitrogen monoxide</td>\n",
       "      <td>(air,)</td>\n",
       "      <td>kerosene production, petroleum refinery operation</td>\n",
       "      <td>kerosene</td>\n",
       "      <td>BR</td>\n",
       "      <td>4.313550e-13</td>\n",
       "      <td>265.0</td>\n",
       "      <td>1.143091e-10</td>\n",
       "    </tr>\n",
       "    <tr>\n",
       "      <th>12786</th>\n",
       "      <td>Dinitrogen monoxide</td>\n",
       "      <td>(air,)</td>\n",
       "      <td>transport, freight, lorry 7.5-16 metric ton, E...</td>\n",
       "      <td>transport, freight, lorry 7.5-16 metric ton, E...</td>\n",
       "      <td>RER</td>\n",
       "      <td>1.775533e-12</td>\n",
       "      <td>265.0</td>\n",
       "      <td>4.705163e-10</td>\n",
       "    </tr>\n",
       "    <tr>\n",
       "      <th>12787</th>\n",
       "      <td>Dinitrogen monoxide</td>\n",
       "      <td>(air,)</td>\n",
       "      <td>market for electricity, high voltage</td>\n",
       "      <td>electricity, high voltage</td>\n",
       "      <td>NE</td>\n",
       "      <td>2.733758e-13</td>\n",
       "      <td>265.0</td>\n",
       "      <td>7.244458e-11</td>\n",
       "    </tr>\n",
       "    <tr>\n",
       "      <th>12788</th>\n",
       "      <td>Dinitrogen monoxide</td>\n",
       "      <td>(air,)</td>\n",
       "      <td>fibreboard production, hard</td>\n",
       "      <td>residual wood, dry</td>\n",
       "      <td>RoW</td>\n",
       "      <td>2.204355e-17</td>\n",
       "      <td>265.0</td>\n",
       "      <td>5.841539e-15</td>\n",
       "    </tr>\n",
       "    <tr>\n",
       "      <th>12789</th>\n",
       "      <td>Dinitrogen monoxide</td>\n",
       "      <td>(air,)</td>\n",
       "      <td>market for electricity, high voltage</td>\n",
       "      <td>electricity, high voltage</td>\n",
       "      <td>IN-Eastern grid</td>\n",
       "      <td>6.341910e-11</td>\n",
       "      <td>265.0</td>\n",
       "      <td>1.680606e-08</td>\n",
       "    </tr>\n",
       "  </tbody>\n",
       "</table>\n",
       "<p>12790 rows × 8 columns</p>\n",
       "</div>"
      ],
      "text/plain": [
       "                                    supplier name supplier categories  \\\n",
       "0      Carbon dioxide, from soil or biomass stock              (air,)   \n",
       "1      Carbon dioxide, from soil or biomass stock              (air,)   \n",
       "2      Carbon dioxide, from soil or biomass stock              (air,)   \n",
       "3      Carbon dioxide, from soil or biomass stock              (air,)   \n",
       "4      Carbon dioxide, from soil or biomass stock              (air,)   \n",
       "...                                           ...                 ...   \n",
       "12785                         Dinitrogen monoxide              (air,)   \n",
       "12786                         Dinitrogen monoxide              (air,)   \n",
       "12787                         Dinitrogen monoxide              (air,)   \n",
       "12788                         Dinitrogen monoxide              (air,)   \n",
       "12789                         Dinitrogen monoxide              (air,)   \n",
       "\n",
       "                                           consumer name  \\\n",
       "0                                    feldspar production   \n",
       "1                                 burnt shale production   \n",
       "2                      liquid packaging board production   \n",
       "3      sodium perborate production, tetrahydrate, powder   \n",
       "4      sodium perborate production, tetrahydrate, powder   \n",
       "...                                                  ...   \n",
       "12785  kerosene production, petroleum refinery operation   \n",
       "12786  transport, freight, lorry 7.5-16 metric ton, E...   \n",
       "12787               market for electricity, high voltage   \n",
       "12788                        fibreboard production, hard   \n",
       "12789               market for electricity, high voltage   \n",
       "\n",
       "                              consumer reference product consumer location  \\\n",
       "0                                               feldspar               RoW   \n",
       "1                                            burnt shale                DE   \n",
       "2                                                   bark               RER   \n",
       "3                 sodium perborate, tetrahydrate, powder               RoW   \n",
       "4                 sodium perborate, tetrahydrate, powder               RER   \n",
       "...                                                  ...               ...   \n",
       "12785                                           kerosene                BR   \n",
       "12786  transport, freight, lorry 7.5-16 metric ton, E...               RER   \n",
       "12787                          electricity, high voltage                NE   \n",
       "12788                                 residual wood, dry               RoW   \n",
       "12789                          electricity, high voltage   IN-Eastern grid   \n",
       "\n",
       "             amount     CF        impact  \n",
       "0      9.128448e-16    1.0  9.128448e-16  \n",
       "1      1.896211e-15    1.0  1.896211e-15  \n",
       "2      1.017369e-15    1.0  1.017369e-15  \n",
       "3      8.744544e-17    1.0  8.744544e-17  \n",
       "4      9.083129e-19    1.0  9.083129e-19  \n",
       "...             ...    ...           ...  \n",
       "12785  4.313550e-13  265.0  1.143091e-10  \n",
       "12786  1.775533e-12  265.0  4.705163e-10  \n",
       "12787  2.733758e-13  265.0  7.244458e-11  \n",
       "12788  2.204355e-17  265.0  5.841539e-15  \n",
       "12789  6.341910e-11  265.0  1.680606e-08  \n",
       "\n",
       "[12790 rows x 8 columns]"
      ]
     },
     "execution_count": 8,
     "metadata": {},
     "output_type": "execute_result"
    }
   ],
   "source": [
    "# we can see under the \"CF\" column\n",
    "# the characterization factors used for each exchange in the system\n",
    "df"
   ]
  },
  {
   "cell_type": "code",
   "execution_count": 8,
   "metadata": {
    "ExecuteTime": {
     "end_time": "2025-03-20T09:57:31.135826Z",
     "start_time": "2025-03-20T09:57:31.126567Z"
    }
   },
   "outputs": [
    {
     "data": {
      "text/plain": [
       "supplier name\n",
       "Carbon dioxide, fossil                               1.0\n",
       "Carbon dioxide, from soil or biomass stock           1.0\n",
       "Carbon dioxide, in air                               1.0\n",
       "Carbon dioxide, non-fossil                           1.0\n",
       "Carbon dioxide, non-fossil, resource correction      1.0\n",
       "Carbon dioxide, to soil or biomass stock             1.0\n",
       "Dinitrogen monoxide                                265.0\n",
       "Methane, fossil                                     28.0\n",
       "Name: CF, dtype: float64"
      ]
     },
     "execution_count": 8,
     "metadata": {},
     "output_type": "execute_result"
    }
   ],
   "source": [
    "df.groupby(\"supplier name\")[\"CF\"].mean()"
   ]
  },
  {
   "cell_type": "code",
   "execution_count": null,
   "metadata": {},
   "outputs": [],
   "source": []
  }
 ],
 "metadata": {
  "kernelspec": {
   "display_name": "Python 3 (ipykernel)",
   "language": "python",
   "name": "python3"
  },
  "language_info": {
   "codemirror_mode": {
    "name": "ipython",
    "version": 3
   },
   "file_extension": ".py",
   "mimetype": "text/x-python",
   "name": "python",
   "nbconvert_exporter": "python",
   "pygments_lexer": "ipython3",
   "version": "3.11.12"
  }
 },
 "nbformat": 4,
 "nbformat_minor": 4
}
