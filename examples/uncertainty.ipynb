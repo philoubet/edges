{
 "cells": [
  {
   "cell_type": "markdown",
   "id": "aad13ef2-19cb-47c0-8191-7a0ad25b7be3",
   "metadata": {},
   "source": [
    "# Use examples of [edges](https://github.com/romainsacchi/edges)\n",
    "\n",
    "Author: [romainsacchi](https://github.com/romainsacchi)\n",
    "\n",
    "This notebook shows examples on how to use `edge` to use exchange-specific\n",
    "characterization factors in the characterization matrix of `bw2calc`, combining the use of exchange names and locations.\n",
    "\n",
    "## Requirements\n",
    "\n",
    "* **Pyhton 3.10 or higher (up to 3.11) is highly recommended**"
   ]
  },
  {
   "cell_type": "markdown",
   "id": "6055bfeb-62a8-469c-8cc7-91356c0c640a",
   "metadata": {},
   "source": [
    "# Use case with [brightway2](https://brightway.dev/)\n",
    "\n",
    "`brightway2` is an open source LCA framework for Python.\n",
    "To use `premise` from `brightway2`, it requires that you have an activated `brightway2` project with a `biosphere3` database as well as an [ecoinvent](https://ecoinvent.prg) v.3 cut-off or consequential database registered in that project. Please refer to the brightway [documentation](https://brightway.dev) if you do not know how to create a project and install ecoinvent."
   ]
  },
  {
   "cell_type": "markdown",
   "id": "c01468fb-51cb-4b53-ac55-1ecb72cf351e",
   "metadata": {},
   "source": [
    "\n",
    "# 📊 Supported Uncertainty Distributions in `edges`\n",
    "\n",
    "The `sample_cf_distribution` function supports several uncertainty distributions used to model variability in characterization factors (CFs). Each distribution type requires specific parameters inside the `uncertainty` dictionary.\n",
    "\n",
    "## 📌 General Structure\n",
    "\n",
    "```json\n",
    "\"uncertainty\": {\n",
    "  \"distribution\": \"<distribution_name>\",\n",
    "  \"parameters\": { ... },\n",
    "  \"negative\": 0 | 1  // Optional: If 1, sampled values are negated\n",
    "}\n",
    "```\n",
    "\n",
    "---\n",
    "\n",
    "## 🎲 Available Distributions and Parameters\n",
    "\n",
    "### 1. `uniform`\n",
    "\n",
    "Samples uniformly between `minimum` and `maximum`.\n",
    "\n",
    "```json\n",
    "{\n",
    "  \"distribution\": \"uniform\",\n",
    "  \"parameters\": {\n",
    "    \"minimum\": 0.5,\n",
    "    \"maximum\": 1.5\n",
    "  }\n",
    "}\n",
    "```\n",
    "\n",
    "---\n",
    "\n",
    "### 2. `triang`\n",
    "\n",
    "Triangular distribution with:\n",
    "- `minimum`: lower bound,\n",
    "- `maximum`: upper bound,\n",
    "- `loc`: mode (peak value).\n",
    "\n",
    "```json\n",
    "{\n",
    "  \"distribution\": \"triang\",\n",
    "  \"parameters\": {\n",
    "    \"minimum\": 0.5,\n",
    "    \"loc\": 1.0,\n",
    "    \"maximum\": 2.0\n",
    "  }\n",
    "}\n",
    "```\n",
    "\n",
    "---\n",
    "\n",
    "### 3. `normal`\n",
    "\n",
    "Normal distribution with:\n",
    "- `loc`: mean,\n",
    "- `scale`: standard deviation,\n",
    "- `minimum`, `maximum`: clipping bounds.\n",
    "\n",
    "```json\n",
    "{\n",
    "  \"distribution\": \"normal\",\n",
    "  \"parameters\": {\n",
    "    \"loc\": 1.0,\n",
    "    \"scale\": 0.2,\n",
    "    \"minimum\": 0.5,\n",
    "    \"maximum\": 1.5\n",
    "  }\n",
    "}\n",
    "```\n",
    "\n",
    "---\n",
    "\n",
    "### 4. `lognorm`\n",
    "\n",
    "Log-normal distribution:\n",
    "- `shape_a`: shape parameter,\n",
    "- `loc`, `scale`: location and scale,\n",
    "- `minimum`, `maximum`: clipping bounds.\n",
    "\n",
    "```json\n",
    "{\n",
    "  \"distribution\": \"lognorm\",\n",
    "  \"parameters\": {\n",
    "    \"shape_a\": 0.5,\n",
    "    \"loc\": 0.0,\n",
    "    \"scale\": 1.0,\n",
    "    \"minimum\": 0.2,\n",
    "    \"maximum\": 5.0\n",
    "  }\n",
    "}\n",
    "```\n",
    "\n",
    "---\n",
    "\n",
    "### 5. `beta`\n",
    "\n",
    "Beta distribution scaled to a range:\n",
    "- `shape_a`, `shape_b`: shape parameters,\n",
    "- `loc`: lower bound,\n",
    "- `scale`: range width,\n",
    "- `minimum`, `maximum`: clipping bounds.\n",
    "\n",
    "```json\n",
    "{\n",
    "  \"distribution\": \"beta\",\n",
    "  \"parameters\": {\n",
    "    \"shape_a\": 2,\n",
    "    \"shape_b\": 5,\n",
    "    \"loc\": 1.0,\n",
    "    \"scale\": 2.0,\n",
    "    \"minimum\": 1.0,\n",
    "    \"maximum\": 3.0\n",
    "  }\n",
    "}\n",
    "```\n",
    "\n",
    "---\n",
    "\n",
    "### 6. `gamma`\n",
    "\n",
    "Gamma distribution:\n",
    "- `shape_a`: shape parameter,\n",
    "- `scale`: scale,\n",
    "- `loc`: location offset,\n",
    "- `minimum`, `maximum`: clipping bounds.\n",
    "\n",
    "```json\n",
    "{\n",
    "  \"distribution\": \"gamma\",\n",
    "  \"parameters\": {\n",
    "    \"shape_a\": 2.0,\n",
    "    \"scale\": 100.0,\n",
    "    \"loc\": 50.0,\n",
    "    \"minimum\": 50.0,\n",
    "    \"maximum\": 300.0\n",
    "  }\n",
    "}\n",
    "```\n",
    "\n",
    "---\n",
    "\n",
    "### 7. `weibull_min`\n",
    "\n",
    "Weibull minimum distribution:\n",
    "- `shape_a`: shape parameter,\n",
    "- `scale`, `loc`: scale and offset,\n",
    "- `minimum`, `maximum`: clipping bounds.\n",
    "\n",
    "```json\n",
    "{\n",
    "  \"distribution\": \"weibull_min\",\n",
    "  \"parameters\": {\n",
    "    \"shape_a\": 1.5,\n",
    "    \"scale\": 100.0,\n",
    "    \"loc\": 900.0,\n",
    "    \"minimum\": 900.0,\n",
    "    \"maximum\": 1300.0\n",
    "  }\n",
    "}\n",
    "```\n",
    "\n",
    "---\n",
    "\n",
    "### 8. `discrete_empirical`\n",
    "\n",
    "Discrete probability distribution over a list of values. Each value may be:\n",
    "- A **number**, or\n",
    "- A **nested distribution** (e.g., a `normal`, `triang`, etc.).\n",
    "\n",
    "```json\n",
    "{\n",
    "  \"distribution\": \"discrete_empirical\",\n",
    "  \"parameters\": {\n",
    "    \"values\": [\n",
    "      0.9,\n",
    "      {\n",
    "        \"distribution\": \"normal\",\n",
    "        \"parameters\": {\n",
    "          \"loc\": 1.1,\n",
    "          \"scale\": 0.1,\n",
    "          \"minimum\": 1.0,\n",
    "          \"maximum\": 1.2\n",
    "        }\n",
    "      }\n",
    "    ],\n",
    "    \"weights\": [0.25, 0.75]\n",
    "  }\n",
    "}\n",
    "```\n",
    "\n",
    "---\n",
    "\n",
    "## ⚠️ Notes\n",
    "\n",
    "- If `use_distributions=False` or `uncertainty` is missing, the constant `value` is used.\n",
    "- If `\"negative\": 1` is set, sampled values are negated.\n",
    "- Nested distributions in `discrete_empirical` are supported recursively.\n",
    "\n",
    "---\n"
   ]
  },
  {
   "cell_type": "markdown",
   "id": "da1ba6fb-44a2-4fe4-a608-c51dded4dbb1",
   "metadata": {},
   "source": [
    "We will be using a simple example contained in `lcia_example_5.json` which looks like this:"
   ]
  },
  {
   "cell_type": "markdown",
   "id": "d3379612-c626-475f-a82a-d92625dcd6a2",
   "metadata": {},
   "source": [
    "## Example 1"
   ]
  },
  {
   "cell_type": "code",
   "execution_count": null,
   "id": "6d24194c-a5e9-4a37-9b63-2b1082dad02d",
   "metadata": {},
   "outputs": [],
   "source": [
    "{\n",
    "    \"name\": \"Some GWP with uncertainty\",\n",
    "    \"unit\": \"kg CO2-eq.\",\n",
    "    \"versions\": \"1.0\",\n",
    "    \"exchanges\": [\n",
    "    {\n",
    "        \"supplier\": {\n",
    "            \"name\": \"Carbon dioxide, fossil\",\n",
    "            \"matrix\": \"biosphere\"\n",
    "        },\n",
    "        \"consumer\": {\"matrix\": \"technosphere\"},\n",
    "        \"value\": 1.0,\n",
    "        \"uncertainty\": {\n",
    "            \"distribution\": \"uniform\",\n",
    "            \"parameters\": {\"minimum\": 0.8, \"maximum\": 1.2}\n",
    "        }\n",
    "    },\n",
    "    {\n",
    "        \"supplier\": {\n",
    "            \"name\": \"Methane, fossil\"\n",
    "            , \"matrix\": \"biosphere\"\n",
    "        },\n",
    "        \"consumer\": {\"matrix\": \"technosphere\"},\n",
    "        \"value\": 25.0,\n",
    "        \"uncertainty\": {\n",
    "            \"distribution\": \"triang\",\n",
    "            \"parameters\": {\"minimum\": 23.0, \"loc\": 25.0, \"maximum\": 28.0}\n",
    "        }\n",
    "    },\n",
    "    {\n",
    "        \"supplier\": {\n",
    "            \"name\": \"Nitrogen monoxide\",\n",
    "            \"matrix\": \"biosphere\"\n",
    "        },\n",
    "        \"consumer\": {\"matrix\": \"technosphere\"},\n",
    "        \"value\": 298.0,\n",
    "        \"uncertainty\": {\n",
    "            \"distribution\": \"normal\",\n",
    "            \"parameters\": {\"loc\": 298.0, \"scale\": 10.0, \"minimum\": 270, \"maximum\": 320}\n",
    "        }\n",
    "    }\n",
    "]\n",
    "}"
   ]
  },
  {
   "cell_type": "code",
   "execution_count": 3,
   "id": "37c7d31f-1702-4975-bde0-347cc1209ceb",
   "metadata": {},
   "outputs": [],
   "source": [
    "from edges import EdgeLCIA, get_available_methods\n",
    "import bw2data"
   ]
  },
  {
   "cell_type": "code",
   "execution_count": 8,
   "id": "4695afe2-4dd3-4cd9-959a-da73eff37b8b",
   "metadata": {},
   "outputs": [
    {
     "name": "stdout",
     "output_type": "stream",
     "text": [
      "'rye production' (kilogram, RoW, None)\n"
     ]
    }
   ],
   "source": [
    "# Select an activity from the LCA database\n",
    "bw2data.projects.set_current(\"ecoinvent-3.10.1-cutoff\")\n",
    "act = bw2data.Database(\"ecoinvent-3.10.1-cutoff\").random()\n",
    "print(act)"
   ]
  },
  {
   "cell_type": "code",
   "execution_count": 9,
   "id": "12629353-c844-4aed-9c2f-b47569b1ab8c",
   "metadata": {},
   "outputs": [
    {
     "name": "stderr",
     "output_type": "stream",
     "text": [
      "100%|█████████████████████████████████████████████| 3/3 [00:00<00:00, 15.72it/s]"
     ]
    },
    {
     "name": "stdout",
     "output_type": "stream",
     "text": [
      "Processed edges: 6975\n"
     ]
    },
    {
     "name": "stderr",
     "output_type": "stream",
     "text": [
      "\n"
     ]
    }
   ],
   "source": [
    "# Initialize LCIA\n",
    "lcia = EdgeLCIA(\n",
    "   demand={act: 1},\n",
    "   filepath=\"lcia_example_5.json\",\n",
    "   use_distributions=True,\n",
    "    iterations=1000\n",
    ")\n",
    "\n",
    "# Perform inventory calculations (once)\n",
    "lcia.lci()\n",
    "\n",
    "# Map exchanges to CF entries (once)\n",
    "lcia.map_exchanges()"
   ]
  },
  {
   "cell_type": "code",
   "execution_count": 10,
   "id": "b537fcdf-b5cb-4751-89a0-9257360fae96",
   "metadata": {},
   "outputs": [],
   "source": [
    "# here, the random saples are generated\n",
    "lcia.evaluate_cfs()\n",
    "lcia.lcia()"
   ]
  },
  {
   "cell_type": "code",
   "execution_count": 11,
   "id": "6b0c53ef-284a-4c95-88a0-40fad4a085b1",
   "metadata": {},
   "outputs": [
    {
     "data": {
      "text/plain": [
       "0.04669026842560458"
      ]
     },
     "execution_count": 11,
     "metadata": {},
     "output_type": "execute_result"
    }
   ],
   "source": [
    "# the mean score\n",
    "lcia.score.mean()"
   ]
  },
  {
   "cell_type": "code",
   "execution_count": 12,
   "id": "c1a8ba35-b3cd-4889-ac48-e75a4e40ba21",
   "metadata": {},
   "outputs": [
    {
     "data": {
      "text/plain": [
       "(array([ 29.,  55., 124., 133., 171., 167., 140.,  91.,  64.,  26.]),\n",
       " array([0.03855846, 0.04020095, 0.04184345, 0.04348594, 0.04512844,\n",
       "        0.04677093, 0.04841342, 0.05005592, 0.05169841, 0.05334091,\n",
       "        0.0549834 ]),\n",
       " <BarContainer object of 10 artists>)"
      ]
     },
     "execution_count": 12,
     "metadata": {},
     "output_type": "execute_result"
    },
    {
     "data": {
      "image/png": "[encoded data removed]",
      "text/plain": [
       "<Figure size 640x480 with 1 Axes>"
      ]
     },
     "metadata": {},
     "output_type": "display_data"
    }
   ],
   "source": [
    "import matplotlib.pyplot as plt\n",
    "plt.hist(lcia.score.data)"
   ]
  },
  {
   "cell_type": "markdown",
   "id": "6db08fab-86cb-47ea-b3fb-3312acfa4937",
   "metadata": {},
   "source": [
    "## Example 2: using nested distributions"
   ]
  },
  {
   "cell_type": "markdown",
   "id": "0752d70c-4c0f-4ac9-9e6a-96eb911c0918",
   "metadata": {},
   "source": [
    "Nested distributions are useful in situations where uncertainty exists at multiple levels. For example:\n",
    "\n",
    "* When assessing the impact on ecosystems, there may be uncertainty about which ecosystem will be affected (e.g. forest, wetland, grassland), and also about the extent of impact within each ecosystem. In this case, we face both discrete uncertainty (which ecosystem?) and continuous uncertainty (how strongly is it affected?).\n",
    "\n",
    "* In the context of the AWARE LCIA method, we may not know from which specific water basin the water will be abstracted (discrete choice), and there is also uncertainty regarding the characterization factor associated with each basin (continuous range).\n",
    "\n",
    "Nested distributions allow us to model these combined uncertainties by first sampling the likely scenario (e.g. affected basin or ecosystem) and then sampling the impact value within that scenario."
   ]
  },
  {
   "cell_type": "markdown",
   "id": "e26cb652-bb2d-44ee-9507-c193d0fdc98f",
   "metadata": {},
   "source": [
    "This example represents a fictitious water scarcity characterization factor that incorporates both inter-basin and intra-basin uncertainty, modeled using a nested discrete_empirical distribution. It simulates a case where water abstraction could occur from one of several potential water basins, each contributing differently to water scarcity. \n",
    "\n",
    "With 25% probability, the water is drawn from a basin with a fixed characterization factor of 2.0. There is a 65% chance it comes from a basin whose scarcity factor is uncertain, represented by a normal distribution centered at 1.1, with a standard deviation of 0.1 and bounds between 1.0 and 1.2. Finally, there is a 10% probability of abstraction from a third basin with even more variability, captured by a triangular distribution ranging from 0.8 to 4.2 and peaking at 3.0. \n",
    "\n",
    "This structure allows for a nuanced representation of uncertainty: it accounts for the unknown location of the water source and for variability in the characterization factor within each basin, offering a more realistic depiction of regional water scarcity impacts."
   ]
  },
  {
   "cell_type": "code",
   "execution_count": 19,
   "id": "cf05bef1-26c1-49c2-8cac-466fb8db7d0c",
   "metadata": {},
   "outputs": [
    {
     "data": {
      "text/plain": [
       "{'name': 'Some fictitious example of water scarcity with uncertainty',\n",
       " 'unit': 'm3 deprived-eq.',\n",
       " 'version': '1.0',\n",
       " 'exchanges': [{'supplier': {'name': 'Water',\n",
       "    'categories': ['natural resource', 'in water'],\n",
       "    'operator': 'startswith',\n",
       "    'matrix': 'biosphere'},\n",
       "   'consumer': {'matrix': 'technosphere'},\n",
       "   'value': 1.5,\n",
       "   'weight': 1.0,\n",
       "   'uncertainty': {'distribution': 'discrete_empirical',\n",
       "    'parameters': {'values': [2.0,\n",
       "      {'distribution': 'normal',\n",
       "       'parameters': {'loc': 1.1,\n",
       "        'scale': 0.1,\n",
       "        'minimum': 1.0,\n",
       "        'maximum': 1.2}},\n",
       "      {'distribution': 'triang',\n",
       "       'parameters': {'minimum': 0.8, 'loc': 3.0, 'maximum': 4.2}}],\n",
       "     'weights': [0.25, 0.65, 0.1],\n",
       "     'negative': 0}}}]}"
      ]
     },
     "execution_count": 19,
     "metadata": {},
     "output_type": "execute_result"
    }
   ],
   "source": [
    "{\n",
    "    \"name\": \"Some fictitious example of water scarcity with uncertainty\",\n",
    "    \"unit\": \"m3 deprived-eq.\",\n",
    "    \"version\": \"1.0\",\n",
    "    \"exchanges\": [\n",
    "        {\n",
    "           \"supplier\": {\n",
    "              \"name\": \"Water\",\n",
    "              \"categories\": [\n",
    "                 \"natural resource\",\n",
    "                 \"in water\"\n",
    "              ],\n",
    "             \"operator\": \"startswith\",\n",
    "              \"matrix\": \"biosphere\"\n",
    "           },\n",
    "           \"consumer\": {\n",
    "              \"matrix\": \"technosphere\"\n",
    "           },\n",
    "           \"value\": 1.5,\n",
    "           \"weight\": 1.0,\n",
    "           \"uncertainty\": {\n",
    "              \"distribution\": \"discrete_empirical\",\n",
    "              \"parameters\": {\n",
    "                 \"values\": [\n",
    "                      2.0,\n",
    "                      {\n",
    "                        \"distribution\": \"normal\",\n",
    "                        \"parameters\": {\n",
    "                          \"loc\": 1.1,\n",
    "                          \"scale\": 0.1,\n",
    "                          \"minimum\": 1.0,\n",
    "                          \"maximum\": 1.2\n",
    "                        }\n",
    "                      },\n",
    "                      {\n",
    "                          \"distribution\": \"triang\",\n",
    "                          \"parameters\": {\n",
    "                          \"minimum\": 0.8,\n",
    "                          \"loc\": 3.0,\n",
    "                          \"maximum\": 4.2\n",
    "                          }\n",
    "                      }\n",
    "                    ],\n",
    "                \"weights\": [0.25, 0.65, 0.1],\n",
    "                \"negative\": 0\n",
    "           }\n",
    "        }\n",
    "      }\n",
    "   ]\n",
    "}"
   ]
  },
  {
   "cell_type": "code",
   "execution_count": 1,
   "id": "1d480498-1956-4152-8e05-85045fd89372",
   "metadata": {},
   "outputs": [],
   "source": [
    "from edges import EdgeLCIA, get_available_methods\n",
    "import bw2data"
   ]
  },
  {
   "cell_type": "code",
   "execution_count": 5,
   "id": "475e59f5-c2c6-4016-bc2a-6f3fda188578",
   "metadata": {},
   "outputs": [
    {
     "name": "stdout",
     "output_type": "stream",
     "text": [
      "'market for water, deionised' (kilogram, RoW, None)\n"
     ]
    }
   ],
   "source": [
    "# Select an activity from the LCA database\n",
    "bw2data.projects.set_current(\"ecoinvent-3.10.1-cutoff\")\n",
    "act = bw2data.Database(\"ecoinvent-3.10.1-cutoff\").random()\n",
    "print(act)"
   ]
  },
  {
   "cell_type": "code",
   "execution_count": 20,
   "id": "28c7bbc9-e4f9-4b1e-8d86-20a82e1f4bba",
   "metadata": {
    "scrolled": true
   },
   "outputs": [
    {
     "name": "stderr",
     "output_type": "stream",
     "text": [
      "/opt/homebrew/Caskroom/miniforge/base/envs/bw2/lib/python3.11/site-packages/scikits/umfpack/umfpack.py:736: UmfpackWarning: (almost) singular matrix! (estimated cond. number: 4.83e+13)\n",
      "  warnings.warn(msg, UmfpackWarning)\n",
      "100%|█████████████████████████████████████████████| 1/1 [00:00<00:00, 29.65it/s]"
     ]
    },
    {
     "name": "stdout",
     "output_type": "stream",
     "text": [
      "Processed edges: 5345\n"
     ]
    },
    {
     "name": "stderr",
     "output_type": "stream",
     "text": [
      "\n"
     ]
    }
   ],
   "source": [
    "# Initialize LCIA\n",
    "lcia = EdgeLCIA(\n",
    "   demand={act: 1},\n",
    "   filepath=\"lcia_example_6.json\",\n",
    "   use_distributions=True,\n",
    "    iterations=1000\n",
    ")\n",
    "\n",
    "# Perform inventory calculations (once)\n",
    "lcia.lci()\n",
    "\n",
    "# Map exchanges to CF entries (once)\n",
    "lcia.map_exchanges()"
   ]
  },
  {
   "cell_type": "code",
   "execution_count": 21,
   "id": "24a796e5-ffda-4bbf-8cd0-0a3bde5a95a5",
   "metadata": {},
   "outputs": [],
   "source": [
    "# here, the random samples are generated\n",
    "lcia.evaluate_cfs()\n",
    "lcia.lcia()"
   ]
  },
  {
   "cell_type": "code",
   "execution_count": 22,
   "id": "44287e20-7e44-47f9-8223-7239f4e5bca4",
   "metadata": {},
   "outputs": [
    {
     "data": {
      "text/plain": [
       "0.005098468070450652"
      ]
     },
     "execution_count": 22,
     "metadata": {},
     "output_type": "execute_result"
    }
   ],
   "source": [
    "# the mean score\n",
    "lcia.score.mean()"
   ]
  },
  {
   "cell_type": "code",
   "execution_count": 24,
   "id": "20acf850-a51d-4af6-b0e4-139e8bffab36",
   "metadata": {},
   "outputs": [
    {
     "data": {
      "text/plain": [
       "(array([220., 165., 143., 111.,   1.,   3.,   1.,   0.,   0.,   0.,   3.,\n",
       "          1.,   1.,   1.,   4.,   5., 264.,   1.,   2.,   2.,   2.,   2.,\n",
       "          2.,   2.,   7.,   2.,   6.,   7.,   2.,   3.,   1.,   3.,   3.,\n",
       "          3.,   1.,   3.,   1.,   6.,   3.,   1.,   0.,   0.,   1.,   5.,\n",
       "          2.,   0.,   2.,   0.,   1.,   1.]),\n",
       " array([0.00341675, 0.00363027, 0.0038438 , 0.00405732, 0.00427085,\n",
       "        0.00448437, 0.0046979 , 0.00491142, 0.00512495, 0.00533847,\n",
       "        0.005552  , 0.00576552, 0.00597905, 0.00619257, 0.0064061 ,\n",
       "        0.00661962, 0.00683315, 0.00704667, 0.0072602 , 0.00747372,\n",
       "        0.00768725, 0.00790077, 0.0081143 , 0.00832782, 0.00854135,\n",
       "        0.00875487, 0.0089684 , 0.00918192, 0.00939544, 0.00960897,\n",
       "        0.00982249, 0.01003602, 0.01024954, 0.01046307, 0.01067659,\n",
       "        0.01089012, 0.01110364, 0.01131717, 0.01153069, 0.01174422,\n",
       "        0.01195774, 0.01217127, 0.01238479, 0.01259832, 0.01281184,\n",
       "        0.01302537, 0.01323889, 0.01345242, 0.01366594, 0.01387947,\n",
       "        0.01409299]),\n",
       " <BarContainer object of 50 artists>)"
      ]
     },
     "execution_count": 24,
     "metadata": {},
     "output_type": "execute_result"
    },
    {
     "data": {
      "image/png": "[encoded data removed]",
      "text/plain": [
       "<Figure size 640x480 with 1 Axes>"
      ]
     },
     "metadata": {},
     "output_type": "display_data"
    }
   ],
   "source": [
    "import matplotlib.pyplot as plt\n",
    "plt.hist(lcia.score.data, bins=50)"
   ]
  },
  {
   "cell_type": "code",
   "execution_count": 14,
   "id": "42bcefbc-0927-4775-a1be-2e98b5438a6f",
   "metadata": {},
   "outputs": [
    {
     "name": "stdout",
     "output_type": "stream",
     "text": [
      "+----------------------+-----------------------------+\n",
      "|       Activity       | market for water, deionised |\n",
      "|     Method name      |             None            |\n",
      "|         Unit         |       m3 deprived-eq.       |\n",
      "|      Data file       |        lcia_example_6       |\n",
      "|    CFs in method     |              1              |\n",
      "|       CFs used       |              1              |\n",
      "|  Exc. characterized  |             5345            |\n",
      "| Exc. uncharacterized |            330564           |\n",
      "+----------------------+-----------------------------+\n"
     ]
    }
   ],
   "source": [
    "lcia.statistics()"
   ]
  },
  {
   "cell_type": "code",
   "execution_count": 25,
   "id": "d51b89d6-b64a-443b-8b3b-63cd04b12b4f",
   "metadata": {},
   "outputs": [],
   "source": [
    "df = lcia.generate_cf_table()"
   ]
  },
  {
   "cell_type": "code",
   "execution_count": 28,
   "id": "426fe490-8505-4c3c-8841-1f9d9b4001c8",
   "metadata": {},
   "outputs": [
    {
     "data": {
      "text/plain": [
       "amount           6.392420e-07\n",
       "CF (mean)        1.492199e+00\n",
       "CF (std)         5.973291e-01\n",
       "CF (min)         1.000000e+00\n",
       "CF (5th)         1.000000e+00\n",
       "CF (25th)        1.074858e+00\n",
       "CF (50th)        1.173265e+00\n",
       "CF (75th)        2.000000e+00\n",
       "CF (95th)        2.662727e+00\n",
       "CF (max)         4.124679e+00\n",
       "impact (mean)    9.538762e-07\n",
       "impact (std)     3.818378e-07\n",
       "impact (min)     6.392420e-07\n",
       "impact (5th)     6.392420e-07\n",
       "impact (25th)    6.870943e-07\n",
       "impact (50th)    7.500002e-07\n",
       "impact (75th)    1.278484e-06\n",
       "impact (95th)    1.702127e-06\n",
       "impact (max)     2.636668e-06\n",
       "dtype: float64"
      ]
     },
     "execution_count": 28,
     "metadata": {},
     "output_type": "execute_result"
    }
   ],
   "source": [
    "df.mean(numeric_only=True)"
   ]
  },
  {
   "cell_type": "code",
   "execution_count": null,
   "id": "1adde4a8-21c5-41e6-a610-08e921b549e2",
   "metadata": {},
   "outputs": [],
   "source": []
  }
 ],
 "metadata": {
  "kernelspec": {
   "display_name": "Python 3 (ipykernel)",
   "language": "python",
   "name": "python3"
  },
  "language_info": {
   "codemirror_mode": {
    "name": "ipython",
    "version": 3
   },
   "file_extension": ".py",
   "mimetype": "text/x-python",
   "name": "python",
   "nbconvert_exporter": "python",
   "pygments_lexer": "ipython3",
   "version": "3.11.11"
  }
 },
 "nbformat": 4,
 "nbformat_minor": 5
}
