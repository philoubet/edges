{
 "cells": [
  {
   "cell_type": "markdown",
   "metadata": {},
   "source": [
    "# Use examples of [edges](https://github.com/romainsacchi/edges)\n",
    "\n",
    "Author: [romainsacchi](https://github.com/romainsacchi)\n",
    "\n",
    "This notebook shows examples on how to use `edge` to use exchange-specific\n",
    "characterization factors in the characterization matrix of `bw2calc`, combining the use of exchange names and custom functions.\n",
    "\n",
    "## Requirements\n",
    "\n",
    "* **Pyhton 3.10 or higher (up to 3.11) is highly recommended**"
   ]
  },
  {
   "cell_type": "markdown",
   "metadata": {},
   "source": [
    "# Use case with [brightway2](https://brightway.dev/)\n",
    "\n",
    "`brightway2` is an open source LCA framework for Python.\n",
    "To use `premise` from `brightway2`, it requires that you have an activated `brightway2` project with a `biosphere3` database as well as an [ecoinvent](https://ecoinvent.prg) v.3 cut-off or consequential database registered in that project. Please refer to the brightway [documentation](https://brightway.dev) if you do not know how to create a project and install ecoinvent."
   ]
  },
  {
   "cell_type": "code",
   "execution_count": 1,
   "metadata": {
    "ExecuteTime": {
     "end_time": "2025-03-24T13:21:11.704219Z",
     "start_time": "2025-03-24T13:21:10.204909Z"
    }
   },
   "outputs": [],
   "source": [
    "from edges import EdgeLCIA, get_available_methods\n",
    "import bw2data"
   ]
  },
  {
   "cell_type": "markdown",
   "metadata": {},
   "source": [
    "In this example, we will consider a more complex use of parameters based on thre previous example (saved under `lcia_example_4.json`) together with user-defined functions.\n",
    "Here, we define the CF for methane and dinitrogen monoxide based on `H` (time horizon) and the gas concentration."
   ]
  },
  {
   "cell_type": "code",
   "execution_count": 2,
   "metadata": {
    "ExecuteTime": {
     "end_time": "2025-03-24T13:21:13.275883Z",
     "start_time": "2025-03-24T13:21:13.269962Z"
    }
   },
   "outputs": [],
   "source": [
    "import numpy as np\n",
    "\n",
    "# Physical constants\n",
    "M_atm = 5.15e18  # kg, total mass of Earth's atmosphere\n",
    "M_air = 28.96    # g/mol, average molar mass of air\n",
    "\n",
    "# Gas-specific molecular weights (g/mol)\n",
    "M_gas = {\n",
    "    'CO2': 44.01,\n",
    "    'CH4': 16.04,\n",
    "    'N2O': 44.013\n",
    "}\n",
    "\n",
    "# IPCC concentration parameters (Myhre et al. 1998 / IPCC AR6)\n",
    "RF_COEFF = {\n",
    "    'CH4': 0.036,  # W·m⁻²·ppb⁻½ for CH4\n",
    "    'N2O': 0.12    # W·m⁻²·ppb⁻½ for N2O\n",
    "}\n",
    "\n",
    "# Reference atmospheric concentrations (IPCC AR6, ~2019)\n",
    "C_REF = {\n",
    "    'CH4': 1866,  # ppb\n",
    "    'N2O': 332    # ppb\n",
    "}\n",
    "\n",
    "# Indirect forcing factor for methane (IPCC AR6)\n",
    "INDIRECT_FACTOR = {\n",
    "    'CH4': 1.65,\n",
    "    'N2O': 1.0\n",
    "}\n",
    "\n",
    "# Gas-specific atmospheric lifetimes (years, IPCC AR6)\n",
    "TAU_GAS = {\n",
    "    'CH4': 11.8,\n",
    "    'N2O': 109\n",
    "}\n",
    "\n",
    "# CO2 impulse response function parameters (IPCC AR5/AR6)\n",
    "CO2_IRF = {\n",
    "    'a0': 0.2173,\n",
    "    'a': [0.2240, 0.2824, 0.2763],\n",
    "    'tau': [394.4, 36.54, 4.304]\n",
    "}\n",
    "\n",
    "# Convert concentration-based radiative efficiency to mass-based (W·m⁻²·kg⁻¹)\n",
    "def convert_ppb_to_mass_rf(a_ppb, gas):\n",
    "    return a_ppb * (M_atm / M_gas[gas]) * (M_air / 1e9)\n",
    "\n",
    "# Calculate concentration-dependent radiative efficiency\n",
    "def radiative_efficiency_concentration(gas, concentration_ppb):\n",
    "    alpha = RF_COEFF[gas]\n",
    "    return (alpha / (2 * np.sqrt(concentration_ppb))) * INDIRECT_FACTOR[gas]\n",
    "\n",
    "# AGWP for CO2 (mass-based)\n",
    "def AGWP_CO2(H):\n",
    "    integral_CO2 = CO2_IRF['a0'] * H + sum(\n",
    "        a * tau * (1 - np.exp(-H / tau))\n",
    "        for a, tau in zip(CO2_IRF['a'], CO2_IRF['tau'])\n",
    "    )\n",
    "    am_CO2 = convert_ppb_to_mass_rf(1.37e-5, 'CO2')  # fixed IPCC radiative efficiency for CO2\n",
    "    return am_CO2 * integral_CO2\n",
    "\n",
    "# AGWP for gas at given concentration\n",
    "def AGWP_gas(gas, H, concentration_ppb):\n",
    "    aa_gas = radiative_efficiency_concentration(gas, concentration_ppb)\n",
    "    am_gas = convert_ppb_to_mass_rf(aa_gas, gas)\n",
    "    tau_gas = TAU_GAS[gas]\n",
    "    return am_gas * tau_gas * (1 - np.exp(-H / tau_gas))\n",
    "\n",
    "# Calculate concentration-dependent GWP\n",
    "def GWP(gas, H, concentration_ppb):\n",
    "    AGWP_g = AGWP_gas(gas, H, concentration_ppb)\n",
    "    AGWP_ref = AGWP_CO2(H)\n",
    "    return AGWP_g / AGWP_ref\n"
   ]
  },
  {
   "cell_type": "code",
   "execution_count": 3,
   "metadata": {
    "ExecuteTime": {
     "end_time": "2025-03-24T13:21:15.297209Z",
     "start_time": "2025-03-24T13:21:15.290880Z"
    }
   },
   "outputs": [
    {
     "data": {
      "text/plain": [
       "30.660731597024444"
      ]
     },
     "execution_count": 3,
     "metadata": {},
     "output_type": "execute_result"
    }
   ],
   "source": [
    "GWP('CH4', 100, 1911)"
   ]
  },
  {
   "cell_type": "markdown",
   "metadata": {},
   "source": [
    "We do not get exactly 28 for H=100, as the IPCC does, because there are some carbon feedback loops and other kind of complex and non-linear interactions that are not considered in this simple model."
   ]
  },
  {
   "cell_type": "markdown",
   "metadata": {},
   "source": [
    "Our JSON file looks like this below. This time, we call `GWP()` and pass it a few parameters (e.g., gas type, time horizon, and gas concentration). Note the presence of a **scenarios** section at the bottom."
   ]
  },
  {
   "cell_type": "code",
   "execution_count": 4,
   "metadata": {
    "ExecuteTime": {
     "end_time": "2025-03-19T11:14:54.205998Z",
     "start_time": "2025-03-19T11:14:54.199900Z"
    }
   },
   "outputs": [
    {
     "data": {
      "text/plain": [
       "{'name': ['Parameterized GWP method'],\n",
       " 'unit': 'kg CO2-eq',\n",
       " 'description': 'Parameterized GWP factors.',\n",
       " 'version': '1.0',\n",
       " 'exchanges': [{'supplier': {'name': 'Carbon dioxide',\n",
       "    'operator': 'startswith',\n",
       "    'matrix': 'biosphere'},\n",
       "   'consumer': {'matrix': 'technosphere', 'type': 'process'},\n",
       "   'value': '1.0'},\n",
       "  {'supplier': {'name': 'Methane, fossil',\n",
       "    'operator': 'contains',\n",
       "    'matrix': 'biosphere'},\n",
       "   'consumer': {'matrix': 'technosphere', 'type': 'process'},\n",
       "   'value': \"GWP('CH4',H, C_CH4)\"},\n",
       "  {'supplier': {'name': 'Dinitrogen monoxide',\n",
       "    'operator': 'equals',\n",
       "    'matrix': 'biosphere'},\n",
       "   'consumer': {'matrix': 'technosphere', 'type': 'process'},\n",
       "   'value': \"GWP('N2O',H, C_N2O)\"}],\n",
       " 'scenarios': {'RCP1.9': {'C_CH4': {'2020': 1866,\n",
       "    '2050': 1428,\n",
       "    '2080': 1150,\n",
       "    '2100': 1036},\n",
       "   'C_N2O': {'2020': 332, '2050': 344, '2080': 350, '2100': 354},\n",
       "   'H': {'2020': 100, '2050': 100, '2080': 100, '2100': 100}}}}"
      ]
     },
     "execution_count": 4,
     "metadata": {},
     "output_type": "execute_result"
    }
   ],
   "source": [
    "{\n",
    "  \"name\": [\n",
    "    \"Parameterized GWP method\"\n",
    "  ],\n",
    "  \"unit\": \"kg CO2-eq\",\n",
    "  \"description\": \"Parameterized GWP factors.\",\n",
    "  \"version\": \"1.0\",\n",
    "  \"exchanges\": [\n",
    "    {\n",
    "      \"supplier\": {\n",
    "        \"name\": \"Carbon dioxide\",\n",
    "        \"operator\": \"startswith\",\n",
    "        \"matrix\": \"biosphere\"\n",
    "      },\n",
    "      \"consumer\": {\n",
    "        \"matrix\": \"technosphere\",\n",
    "        \"type\": \"process\"\n",
    "      },\n",
    "      \"value\": \"1.0\"\n",
    "    },\n",
    "    {\n",
    "        \"supplier\": {\n",
    "          \"name\": \"Methane, fossil\",\n",
    "          \"operator\": \"contains\",\n",
    "          \"matrix\": \"biosphere\"\n",
    "        },\n",
    "        \"consumer\": {\n",
    "          \"matrix\": \"technosphere\",\n",
    "          \"type\": \"process\"\n",
    "        },\n",
    "        \"value\": \"GWP('CH4',H, C_CH4)\"\n",
    "      },\n",
    "    {\n",
    "      \"supplier\": {\n",
    "        \"name\": \"Dinitrogen monoxide\",\n",
    "        \"operator\": \"equals\",\n",
    "        \"matrix\": \"biosphere\"\n",
    "      },\n",
    "      \"consumer\": {\n",
    "        \"matrix\": \"technosphere\",\n",
    "        \"type\": \"process\"\n",
    "      },\n",
    "      \"value\": \"GWP('N2O',H, C_N2O)\"\n",
    "    }\n",
    "  ],\n",
    "  \"scenarios\": {\n",
    "    \"RCP1.9\": {\n",
    "      \"C_CH4\": {\n",
    "        \"2020\": 1866,\n",
    "        \"2050\": 1428,\n",
    "        \"2080\": 1150,\n",
    "        \"2100\": 1036\n",
    "      },\n",
    "      \"C_N2O\": {\n",
    "        \"2020\": 332,\n",
    "        \"2050\": 344,\n",
    "        \"2080\": 350,\n",
    "        \"2100\": 354\n",
    "      },\n",
    "      \"H\": {\n",
    "        \"2020\": 100,\n",
    "        \"2050\": 100,\n",
    "        \"2080\": 100,\n",
    "        \"2100\": 100\n",
    "      }\n",
    "    }\n",
    "  }\n",
    "}"
   ]
  },
  {
   "cell_type": "markdown",
   "metadata": {},
   "source": [
    "We can instantiate the EdgeLCIA() class as usual, except that we need to pass the parameters as a dictionary.\n",
    "Then we proceed to the mapping steps. Finally, we iterate over the scenarios and evaluate the CFs."
   ]
  },
  {
   "cell_type": "code",
   "execution_count": 5,
   "metadata": {},
   "outputs": [
    {
     "data": {
      "text/plain": [
       "'market for natural gas, high pressure' (cubic meter, IT, None)"
      ]
     },
     "execution_count": 5,
     "metadata": {},
     "output_type": "execute_result"
    }
   ],
   "source": [
    "# activate the bw project\n",
    "bw2data.projects.set_current(\"ecoinvent-3.10.1-cutoff\")\n",
    "act = bw2data.Database(\"ecoinvent-3.10.1-cutoff\").random()\n",
    "act"
   ]
  },
  {
   "cell_type": "code",
   "execution_count": 6,
   "metadata": {
    "ExecuteTime": {
     "end_time": "2025-03-24T13:24:20.257247Z",
     "start_time": "2025-03-24T13:24:00.494004Z"
    }
   },
   "outputs": [
    {
     "name": "stderr",
     "output_type": "stream",
     "text": [
      "/Users/romain/micromamba/envs/ab/lib/python3.11/site-packages/scikits/umfpack/umfpack.py:736: UmfpackWarning: (almost) singular matrix! (estimated cond. number: 4.83e+13)\n",
      "  warnings.warn(msg, UmfpackWarning)\n"
     ]
    },
    {
     "name": "stdout",
     "output_type": "stream",
     "text": [
      "Identifying eligible exchanges...\n"
     ]
    },
    {
     "name": "stderr",
     "output_type": "stream",
     "text": [
      "100%|█████████████████████████████████████████████| 3/3 [00:00<00:00,  4.02it/s]\n"
     ]
    },
    {
     "name": "stdout",
     "output_type": "stream",
     "text": [
      "12788 processed biosphere edges\n",
      "0 processed technosphere edges\n",
      "RCP1.9 2020\n",
      "Year 2020 | RCP1.9: Impact = 0.7071294744191221\n",
      "RCP1.9 2050\n",
      "Year 2050 | RCP1.9: Impact = 0.7576945854870091\n",
      "RCP1.9 2080\n",
      "Year 2080 | RCP1.9: Impact = 0.8038844194799897\n",
      "RCP1.9 2100\n",
      "Year 2100 | RCP1.9: Impact = 0.8280048394943881\n",
      "RCP2.6 2020\n",
      "Year 2020 | RCP2.6: Impact = 0.7071294744191221\n",
      "RCP2.6 2050\n",
      "Year 2050 | RCP2.6: Impact = 0.7454024813690878\n",
      "RCP2.6 2080\n",
      "Year 2080 | RCP2.6: Impact = 0.7949573215921886\n",
      "RCP2.6 2100\n",
      "Year 2100 | RCP2.6: Impact = 0.8234903526073307\n",
      "RCP4.5 2020\n",
      "Year 2020 | RCP4.5: Impact = 0.7071294744191221\n",
      "RCP4.5 2050\n",
      "Year 2050 | RCP4.5: Impact = 0.6933240800118989\n",
      "RCP4.5 2080\n",
      "Year 2080 | RCP4.5: Impact = 0.7155682735042111\n",
      "RCP4.5 2100\n",
      "Year 2100 | RCP4.5: Impact = 0.7257424089919026\n",
      "RCP8.5 2020\n",
      "Year 2020 | RCP8.5: Impact = 0.7071294744191221\n",
      "RCP8.5 2050\n",
      "Year 2050 | RCP8.5: Impact = 0.6623158735531743\n",
      "RCP8.5 2080\n",
      "Year 2080 | RCP8.5: Impact = 0.6500295141405903\n",
      "RCP8.5 2100\n",
      "Year 2100 | RCP8.5: Impact = 0.6642139901796544\n"
     ]
    }
   ],
   "source": [
    "import numpy as np\n",
    "\n",
    "# GWP and LCIA setup\n",
    "allowed_funcs = {\"GWP\": GWP}\n",
    "method = ('GWP', 'scenario-dependent', '100 years')\n",
    "\n",
    "all_results = []  # To collect results\n",
    "\n",
    "# Initialize LCIA\n",
    "lcia = EdgeLCIA(\n",
    "    demand={act: 1},\n",
    "    filepath=\"lcia_parameterized_gwp.json\",\n",
    "    scenario=\"RCP1.9\",\n",
    "    allowed_functions=allowed_funcs\n",
    ")\n",
    "\n",
    "# Usual LCIA steps\n",
    "lcia.lci()\n",
    "lcia.map_exchanges()\n",
    "\n",
    "results = []\n",
    "# Loop over scenarios\n",
    "for scenario in [\n",
    "    \"RCP1.9\",\n",
    "    \"RCP2.6\",\n",
    "    \"RCP4.5\",\n",
    "    \"RCP8.5\",\n",
    "]:\n",
    "    for year in [\n",
    "        \"2020\",\n",
    "        \"2050\",\n",
    "        \"2080\",\n",
    "        \"2100\",\n",
    "    ]:\n",
    "        print(scenario, year)\n",
    "        lcia.evaluate_cfs(scenario=scenario, scenario_idx=year)\n",
    "        lcia.lcia()\n",
    "        df = lcia.generate_cf_table()\n",
    "\n",
    "        scenario_result = {\n",
    "            \"year\": int(year),\n",
    "            \"rcp\": scenario,\n",
    "            \"score\": lcia.score,\n",
    "            \"CF_table\": df\n",
    "        }\n",
    "        all_results.append(scenario_result)\n",
    "\n",
    "        print(f\"Year {year} | {scenario}: Impact = {lcia.score}\")"
   ]
  },
  {
   "cell_type": "code",
   "execution_count": 7,
   "metadata": {
    "ExecuteTime": {
     "end_time": "2025-03-24T13:24:26.511363Z",
     "start_time": "2025-03-24T13:24:26.499274Z"
    }
   },
   "outputs": [
    {
     "data": {
      "image/png": "[encoded data removed]",
      "text/plain": [
       "<Figure size 400x600 with 2 Axes>"
      ]
     },
     "metadata": {},
     "output_type": "display_data"
    }
   ],
   "source": [
    "import pandas as pd\n",
    "import matplotlib.pyplot as plt\n",
    "import matplotlib.lines as mlines\n",
    "\n",
    "# Turn all_results into a DataFrame\n",
    "df = pd.DataFrame(all_results)\n",
    "\n",
    "# Make sure year is numeric\n",
    "df[\"year\"] = df[\"year\"].astype(int)\n",
    "\n",
    "# Set up subplots\n",
    "fig, (ax1, ax2) = plt.subplots(2, 1, figsize=(4, 6), sharex=True)\n",
    "\n",
    "# ---- Top plot: GWP factor per gas ----\n",
    "\n",
    "# Gases to track\n",
    "gases_of_interest = [\"Carbon dioxide, fossil\", \"Methane, fossil\", \"Dinitrogen monoxide\"]\n",
    "\n",
    "# Colors per RCP\n",
    "rcp_colors = {\n",
    "    \"RCP1.9\": \"blue\",\n",
    "    \"RCP2.6\": \"green\",\n",
    "    \"RCP4.5\": \"orange\",\n",
    "    #\"RCP6.0\": \"orange\",\n",
    "    \"RCP8.5\": \"red\"\n",
    "}\n",
    "\n",
    "# Create empty dataframe to collect\n",
    "gas_cf_data = []\n",
    "\n",
    "# Loop over results\n",
    "for res in all_results:\n",
    "    year = res[\"year\"]\n",
    "    rcp = res[\"rcp\"]\n",
    "    cf_table = res[\"CF_table\"]\n",
    "    \n",
    "    # Filter for only gases of interest\n",
    "    cf_filtered = cf_table[cf_table[\"supplier name\"].isin(gases_of_interest)]\n",
    "    \n",
    "    # For each gas separately\n",
    "    for gas in gases_of_interest:\n",
    "        cf_gas = cf_filtered[cf_filtered[\"supplier name\"] == gas]\n",
    "        if not cf_gas.empty:\n",
    "            avg_cf = cf_gas[\"CF\"].mean()\n",
    "            gas_cf_data.append({\n",
    "                \"year\": year,\n",
    "                \"rcp\": rcp,\n",
    "                \"gas\": gas,\n",
    "                \"avg_CF\": avg_cf\n",
    "            })\n",
    "\n",
    "# Convert to DataFrame\n",
    "df_gas_cf = pd.DataFrame(gas_cf_data)\n",
    "\n",
    "# Plot: one line per gas and RCP, with RCP color\n",
    "for gas in gases_of_interest:\n",
    "    for rcp in df_gas_cf[\"rcp\"].unique():\n",
    "        df_plot = df_gas_cf[(df_gas_cf[\"gas\"] == gas) & (df_gas_cf[\"rcp\"] == rcp)]\n",
    "        ax1.plot(df_plot[\"year\"], df_plot[\"avg_CF\"], marker='o', color=rcp_colors[rcp])\n",
    "\n",
    "# ---- Add manual annotations for gases ----\n",
    "\n",
    "# Pick a representative point for each gas (e.g., latest year, latest scenario)\n",
    "for gas in gases_of_interest:\n",
    "    df_gas = df_gas_cf[(df_gas_cf[\"gas\"] == gas) & (df_gas_cf[\"rcp\"] == \"RCP8.5\")]  # Pick RCP8.5 to annotate at right\n",
    "    if not df_gas.empty:\n",
    "        latest_point = df_gas[df_gas[\"year\"] == df_gas[\"year\"].max()]\n",
    "        x = latest_point[\"year\"].values[0]\n",
    "        y = latest_point[\"avg_CF\"].values[0]\n",
    "        gas = gas.replace(\", fossil\", \"\")\n",
    "        if gas==\"Dinitrogen monoxide\":\n",
    "            gas = \"$N_2$0\"\n",
    "            ax1.annotate(gas.replace(\" \", \"\\n\"), (x, y),\n",
    "                         textcoords=\"offset points\", xytext=(-40,-10), ha='left', fontsize=9)\n",
    "        elif gas == \"Methane\":\n",
    "            gas = \"$CH_4$\"\n",
    "            ax1.annotate(gas.replace(\" \", \"\\n\"), (x, y),\n",
    "                         textcoords=\"offset points\", xytext=(-40,15), ha='left', fontsize=9)\n",
    "        else:\n",
    "            gas = \"$CO_2$\"\n",
    "            ax1.annotate(gas.replace(\" \", \"\\n\"), (x, y),\n",
    "                         textcoords=\"offset points\", xytext=(-40,5), ha='left', fontsize=9)\n",
    "\n",
    "# ---- Custom legend only for RCPs ----\n",
    "\n",
    "custom_lines = [\n",
    "    mlines.Line2D([], [], color=\"blue\", marker='o', linestyle='-', label=\"RCP1.9\"),\n",
    "    mlines.Line2D([], [], color=\"green\", marker='o', linestyle='-', label=\"RCP2.6\"),\n",
    "    mlines.Line2D([], [], color=\"orange\", marker='o', linestyle='-', label=\"RCP4.5\"),\n",
    "    mlines.Line2D([], [], color=\"red\", marker='o', linestyle='-', label=\"RCP8.5\"),\n",
    "]\n",
    "ax1.legend(handles=custom_lines, title=\"Scenario\", loc=\"center left\")\n",
    "\n",
    "ax1.set_title(\"a) Characterization factor per gas\")\n",
    "ax1.set_ylabel(\"kg $CO_2$-eq./kg\")\n",
    "ax1.grid(True)\n",
    "ax1.set_ylim(bottom=-10)\n",
    "\n",
    "# ---- Bottom plot: LCIA Scores ----\n",
    "\n",
    "for rcp in df[\"rcp\"].unique():\n",
    "    df_rcp = df[df[\"rcp\"] == rcp]\n",
    "    ax2.plot(df_rcp[\"year\"], df_rcp[\"score\"], marker='o', color=rcp_colors[rcp], label=rcp)\n",
    "\n",
    "ax2.set_title(\"b) LCIA score per scenario\")\n",
    "ax2.set_xlabel(\"\")\n",
    "ax2.set_ylabel(\"kg $CO_2$-eq.\")\n",
    "#ax2.set_ylim(1.6, 1.8)\n",
    "ax2.grid(True)\n",
    "ax2.legend(title=\"Scenario\")\n",
    "\n",
    "plt.tight_layout()\n",
    "plt.savefig(\"figure_3.png\", bbox_inches=\"tight\", dpi=150)\n",
    "plt.show()\n"
   ]
  },
  {
   "cell_type": "code",
   "execution_count": null,
   "metadata": {},
   "outputs": [],
   "source": []
  }
 ],
 "metadata": {
  "kernelspec": {
   "display_name": "Python 3 (ipykernel)",
   "language": "python",
   "name": "python3"
  },
  "language_info": {
   "codemirror_mode": {
    "name": "ipython",
    "version": 3
   },
   "file_extension": ".py",
   "mimetype": "text/x-python",
   "name": "python",
   "nbconvert_exporter": "python",
   "pygments_lexer": "ipython3",
   "version": "3.11.12"
  }
 },
 "nbformat": 4,
 "nbformat_minor": 4
}
