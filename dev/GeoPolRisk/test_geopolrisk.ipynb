{
 "cells": [
  {
   "cell_type": "code",
   "execution_count": 1,
   "id": "initial_id",
   "metadata": {
    "ExecuteTime": {
     "end_time": "2025-03-19T08:22:44.210405Z",
     "start_time": "2025-03-19T08:22:42.211983Z"
    }
   },
   "outputs": [],
   "source": [
    "import bw2data, bw2calc, bw2io\n",
    "from brightway2 import projects, Database, LCA\n",
    "from edges import EdgeLCIA, get_available_methods\n",
    "from bw2analyzer.contribution import ContributionAnalysis"
   ]
  },
  {
   "cell_type": "code",
   "execution_count": 3,
   "id": "60fb4583bf7ce4de",
   "metadata": {
    "ExecuteTime": {
     "end_time": "2025-03-19T08:28:28.927751Z",
     "start_time": "2025-03-19T08:28:28.568261Z"
    }
   },
   "outputs": [
    {
     "data": {
      "text/plain": [
       "'beam, hardwood, raw, kiln drying to u=10%' (cubic meter, CH, None)"
      ]
     },
     "execution_count": 3,
     "metadata": {},
     "output_type": "execute_result"
    }
   ],
   "source": [
    "projects.set_current(\"intermediate_flows\")\n",
    "act = bw2data.Database(\"ecoinvent-3.10-cutoff\").random()\n",
    "act"
   ]
  },
  {
   "cell_type": "code",
   "execution_count": 4,
   "id": "69aa2b2fa49ca85b",
   "metadata": {
    "ExecuteTime": {
     "end_time": "2025-03-19T08:28:36.997403Z",
     "start_time": "2025-03-19T08:28:32.065062Z"
    }
   },
   "outputs": [
    {
     "name": "stdout",
     "output_type": "stream",
     "text": [
      "Identifying eligible exchanges...\n"
     ]
    },
    {
     "name": "stderr",
     "output_type": "stream",
     "text": [
      "100%|██████████████████████████████████████████████████████████████████████████| 51932/51932 [00:10<00:00, 4867.85it/s]\n"
     ]
    },
    {
     "name": "stdout",
     "output_type": "stream",
     "text": [
      "0 processed biosphere edges\n",
      "161 processed technosphere edges\n",
      "Handling static regions...\n"
     ]
    },
    {
     "name": "stderr",
     "output_type": "stream",
     "text": [
      "Processing static groups (pass 1): 0it [00:00, ?it/s]\n",
      "Processing remaining static edges (pass 2): 0it [00:00, ?it/s]\n",
      "Processing static groups (pass 1): 100%|█████████████████████████████████████████████████| 6/6 [00:00<00:00, 98.45it/s]\n",
      "Processing remaining static edges (pass 2): 100%|███████████████████████████████| 37645/37645 [04:55<00:00, 127.51it/s]\n"
     ]
    },
    {
     "name": "stdout",
     "output_type": "stream",
     "text": [
      "0 processed biosphere edges\n",
      "227 processed technosphere edges\n",
      "Handling dynamic regions...\n"
     ]
    },
    {
     "name": "stderr",
     "output_type": "stream",
     "text": [
      "Processing remaining dynamic edges (pass 2): 100%|██████████████████████████████| 67916/67916 [09:44<00:00, 116.16it/s]\n"
     ]
    },
    {
     "name": "stdout",
     "output_type": "stream",
     "text": [
      "0 processed biosphere edges\n",
      "309 processed technosphere edges\n",
      "Handling remaining exchanges...\n"
     ]
    },
    {
     "name": "stderr",
     "output_type": "stream",
     "text": [
      "Processing global groups (pass 1): 100%|█████████████████████████████████████████████████| 5/5 [00:00<00:00, 87.93it/s]\n",
      "Processing remaining global edges (pass 2): 100%|█████████████████████████████| 154761/154761 [21:23<00:00, 120.62it/s]\n"
     ]
    },
    {
     "name": "stdout",
     "output_type": "stream",
     "text": [
      "0 processed biosphere edges\n",
      "624 processed technosphere edges\n"
     ]
    }
   ],
   "source": [
    "method = ('GeoPolRisk', 'paired', '2024')\n",
    "LCA = EdgeLCIA({act: 1}, method)\n",
    "LCA.lci()\n",
    "LCA.map_exchanges()\n",
    "LCA.map_aggregate_locations()\n",
    "LCA.map_dynamic_locations()\n",
    "LCA.map_remaining_locations_to_global()\n",
    "LCA.evaluate_cfs()\n",
    "LCA.lcia()"
   ]
  },
  {
   "cell_type": "code",
   "execution_count": 5,
   "id": "b2a3b6f9e9373ccb",
   "metadata": {
    "ExecuteTime": {
     "end_time": "2025-03-19T08:28:40.518931Z",
     "start_time": "2025-03-19T08:28:40.440962Z"
    }
   },
   "outputs": [],
   "source": [
    "df = LCA.generate_cf_table()"
   ]
  },
  {
   "cell_type": "code",
   "execution_count": 14,
   "id": "8302e1f41ff8c048",
   "metadata": {
    "ExecuteTime": {
     "end_time": "2025-03-19T08:28:41.322884Z",
     "start_time": "2025-03-19T08:28:41.319516Z"
    }
   },
   "outputs": [
    {
     "data": {
      "text/plain": [
       "169"
      ]
     },
     "execution_count": 14,
     "metadata": {},
     "output_type": "execute_result"
    }
   ],
   "source": [
    "len(df)"
   ]
  },
  {
   "cell_type": "code",
   "execution_count": 15,
   "id": "167839e9f16b2d8a",
   "metadata": {
    "ExecuteTime": {
     "end_time": "2025-03-19T08:28:48.962720Z",
     "start_time": "2025-03-19T08:28:48.956412Z"
    }
   },
   "outputs": [
    {
     "data": {
      "text/html": [
       "<div>\n",
       "<style scoped>\n",
       "    .dataframe tbody tr th:only-of-type {\n",
       "        vertical-align: middle;\n",
       "    }\n",
       "\n",
       "    .dataframe tbody tr th {\n",
       "        vertical-align: top;\n",
       "    }\n",
       "\n",
       "    .dataframe thead th {\n",
       "        text-align: right;\n",
       "    }\n",
       "</style>\n",
       "<table border=\"1\" class=\"dataframe\">\n",
       "  <thead>\n",
       "    <tr style=\"text-align: right;\">\n",
       "      <th></th>\n",
       "      <th>supplier name</th>\n",
       "      <th>supplier reference product</th>\n",
       "      <th>supplier location</th>\n",
       "      <th>consumer name</th>\n",
       "      <th>consumer reference product</th>\n",
       "      <th>consumer location</th>\n",
       "      <th>amount</th>\n",
       "      <th>CF</th>\n",
       "      <th>impact</th>\n",
       "    </tr>\n",
       "  </thead>\n",
       "  <tbody>\n",
       "    <tr>\n",
       "      <th>0</th>\n",
       "      <td>antimony production</td>\n",
       "      <td>antimony</td>\n",
       "      <td>CN</td>\n",
       "      <td>market for antimony</td>\n",
       "      <td>antimony</td>\n",
       "      <td>GLO</td>\n",
       "      <td>3.984723e-10</td>\n",
       "      <td>3.035590e-02</td>\n",
       "      <td>1.209599e-11</td>\n",
       "    </tr>\n",
       "    <tr>\n",
       "      <th>1</th>\n",
       "      <td>asbestos production, chrysotile type</td>\n",
       "      <td>asbestos, chrysotile type</td>\n",
       "      <td>GLO</td>\n",
       "      <td>market for asbestos, chrysotile type</td>\n",
       "      <td>asbestos, chrysotile type</td>\n",
       "      <td>GLO</td>\n",
       "      <td>1.225771e-07</td>\n",
       "      <td>2.439718e-01</td>\n",
       "      <td>2.990534e-08</td>\n",
       "    </tr>\n",
       "    <tr>\n",
       "      <th>2</th>\n",
       "      <td>boron carbide production</td>\n",
       "      <td>boron carbide</td>\n",
       "      <td>GLO</td>\n",
       "      <td>market for boron carbide</td>\n",
       "      <td>boron carbide</td>\n",
       "      <td>GLO</td>\n",
       "      <td>2.113312e-09</td>\n",
       "      <td>4.938188e+02</td>\n",
       "      <td>1.043593e-06</td>\n",
       "    </tr>\n",
       "    <tr>\n",
       "      <th>3</th>\n",
       "      <td>cadmium production, primary</td>\n",
       "      <td>cadmium</td>\n",
       "      <td>CA-QC</td>\n",
       "      <td>market for cadmium</td>\n",
       "      <td>cadmium</td>\n",
       "      <td>GLO</td>\n",
       "      <td>6.285507e-14</td>\n",
       "      <td>1.158364e-03</td>\n",
       "      <td>7.280906e-17</td>\n",
       "    </tr>\n",
       "    <tr>\n",
       "      <th>4</th>\n",
       "      <td>hard coal preparation plant construction</td>\n",
       "      <td>hard coal preparation plant</td>\n",
       "      <td>GLO</td>\n",
       "      <td>market for hard coal preparation plant</td>\n",
       "      <td>hard coal preparation plant</td>\n",
       "      <td>GLO</td>\n",
       "      <td>1.377996e-13</td>\n",
       "      <td>1.015435e-01</td>\n",
       "      <td>1.399265e-14</td>\n",
       "    </tr>\n",
       "    <tr>\n",
       "      <th>...</th>\n",
       "      <td>...</td>\n",
       "      <td>...</td>\n",
       "      <td>...</td>\n",
       "      <td>...</td>\n",
       "      <td>...</td>\n",
       "      <td>...</td>\n",
       "      <td>...</td>\n",
       "      <td>...</td>\n",
       "      <td>...</td>\n",
       "    </tr>\n",
       "    <tr>\n",
       "      <th>164</th>\n",
       "      <td>gold production</td>\n",
       "      <td>gold</td>\n",
       "      <td>TZ</td>\n",
       "      <td>market for gold</td>\n",
       "      <td>gold</td>\n",
       "      <td>GLO</td>\n",
       "      <td>4.594353e-10</td>\n",
       "      <td>4.526228e-01</td>\n",
       "      <td>2.079509e-10</td>\n",
       "    </tr>\n",
       "    <tr>\n",
       "      <th>165</th>\n",
       "      <td>gypsum quarry operation</td>\n",
       "      <td>gypsum, mineral</td>\n",
       "      <td>CH</td>\n",
       "      <td>market for gypsum, mineral</td>\n",
       "      <td>gypsum, mineral</td>\n",
       "      <td>RER</td>\n",
       "      <td>7.608096e-05</td>\n",
       "      <td>1.983266e-07</td>\n",
       "      <td>1.508888e-11</td>\n",
       "    </tr>\n",
       "    <tr>\n",
       "      <th>166</th>\n",
       "      <td>gypsum quarry operation</td>\n",
       "      <td>gypsum, mineral</td>\n",
       "      <td>ZA</td>\n",
       "      <td>market for gypsum, mineral</td>\n",
       "      <td>gypsum, mineral</td>\n",
       "      <td>ZA</td>\n",
       "      <td>3.834755e-07</td>\n",
       "      <td>9.483511e-05</td>\n",
       "      <td>3.636694e-11</td>\n",
       "    </tr>\n",
       "    <tr>\n",
       "      <th>167</th>\n",
       "      <td>lignite mine operation</td>\n",
       "      <td>lignite</td>\n",
       "      <td>IN</td>\n",
       "      <td>market for lignite</td>\n",
       "      <td>lignite</td>\n",
       "      <td>IN</td>\n",
       "      <td>5.365519e-03</td>\n",
       "      <td>9.089070e-05</td>\n",
       "      <td>4.876757e-07</td>\n",
       "    </tr>\n",
       "    <tr>\n",
       "      <th>168</th>\n",
       "      <td>gypsum quarry operation</td>\n",
       "      <td>gypsum, mineral</td>\n",
       "      <td>IN</td>\n",
       "      <td>market for gypsum, mineral</td>\n",
       "      <td>gypsum, mineral</td>\n",
       "      <td>IN</td>\n",
       "      <td>6.842801e-06</td>\n",
       "      <td>1.412237e-02</td>\n",
       "      <td>9.663657e-08</td>\n",
       "    </tr>\n",
       "  </tbody>\n",
       "</table>\n",
       "<p>169 rows × 9 columns</p>\n",
       "</div>"
      ],
      "text/plain": [
       "                                supplier name   supplier reference product  \\\n",
       "0                         antimony production                     antimony   \n",
       "1        asbestos production, chrysotile type    asbestos, chrysotile type   \n",
       "2                    boron carbide production                boron carbide   \n",
       "3                 cadmium production, primary                      cadmium   \n",
       "4    hard coal preparation plant construction  hard coal preparation plant   \n",
       "..                                        ...                          ...   \n",
       "164                           gold production                         gold   \n",
       "165                   gypsum quarry operation              gypsum, mineral   \n",
       "166                   gypsum quarry operation              gypsum, mineral   \n",
       "167                    lignite mine operation                      lignite   \n",
       "168                   gypsum quarry operation              gypsum, mineral   \n",
       "\n",
       "    supplier location                           consumer name  \\\n",
       "0                  CN                     market for antimony   \n",
       "1                 GLO    market for asbestos, chrysotile type   \n",
       "2                 GLO                market for boron carbide   \n",
       "3               CA-QC                      market for cadmium   \n",
       "4                 GLO  market for hard coal preparation plant   \n",
       "..                ...                                     ...   \n",
       "164                TZ                         market for gold   \n",
       "165                CH              market for gypsum, mineral   \n",
       "166                ZA              market for gypsum, mineral   \n",
       "167                IN                      market for lignite   \n",
       "168                IN              market for gypsum, mineral   \n",
       "\n",
       "      consumer reference product consumer location        amount  \\\n",
       "0                       antimony               GLO  3.984723e-10   \n",
       "1      asbestos, chrysotile type               GLO  1.225771e-07   \n",
       "2                  boron carbide               GLO  2.113312e-09   \n",
       "3                        cadmium               GLO  6.285507e-14   \n",
       "4    hard coal preparation plant               GLO  1.377996e-13   \n",
       "..                           ...               ...           ...   \n",
       "164                         gold               GLO  4.594353e-10   \n",
       "165              gypsum, mineral               RER  7.608096e-05   \n",
       "166              gypsum, mineral                ZA  3.834755e-07   \n",
       "167                      lignite                IN  5.365519e-03   \n",
       "168              gypsum, mineral                IN  6.842801e-06   \n",
       "\n",
       "               CF        impact  \n",
       "0    3.035590e-02  1.209599e-11  \n",
       "1    2.439718e-01  2.990534e-08  \n",
       "2    4.938188e+02  1.043593e-06  \n",
       "3    1.158364e-03  7.280906e-17  \n",
       "4    1.015435e-01  1.399265e-14  \n",
       "..            ...           ...  \n",
       "164  4.526228e-01  2.079509e-10  \n",
       "165  1.983266e-07  1.508888e-11  \n",
       "166  9.483511e-05  3.636694e-11  \n",
       "167  9.089070e-05  4.876757e-07  \n",
       "168  1.412237e-02  9.663657e-08  \n",
       "\n",
       "[169 rows x 9 columns]"
      ]
     },
     "execution_count": 15,
     "metadata": {},
     "output_type": "execute_result"
    }
   ],
   "source": [
    "df"
   ]
  },
  {
   "cell_type": "code",
   "execution_count": 20,
   "id": "1daf91e319d5bbf6",
   "metadata": {
    "ExecuteTime": {
     "end_time": "2025-03-19T08:10:43.286005Z",
     "start_time": "2025-03-19T08:10:43.279978Z"
    }
   },
   "outputs": [
    {
     "data": {
      "text/plain": [
       "supplier location  consumer location\n",
       "AE                 IN                   2.759639e-08\n",
       "                   ZA                   9.305632e-10\n",
       "AR                 IN                   1.088816e-11\n",
       "AU                 GLO                  1.043139e-08\n",
       "AZ                 IN                   1.765720e-10\n",
       "                                            ...     \n",
       "VE                 IN                   6.034604e-09\n",
       "ZA                 GLO                  9.280561e-08\n",
       "                   IN                   2.866718e-09\n",
       "                   ZA                   1.443379e-11\n",
       "ZM                 GLO                  8.038155e-09\n",
       "Name: impact, Length: 89, dtype: float64"
      ]
     },
     "execution_count": 20,
     "metadata": {},
     "output_type": "execute_result"
    }
   ],
   "source": [
    "df.groupby([\"supplier location\", \"consumer location\"])[\"impact\"].mean()"
   ]
  },
  {
   "cell_type": "code",
   "execution_count": 6,
   "id": "a49e1726c5aa554c",
   "metadata": {
    "ExecuteTime": {
     "end_time": "2025-03-19T08:07:58.406538Z",
     "start_time": "2025-03-19T08:07:58.401408Z"
    }
   },
   "outputs": [
    {
     "name": "stdout",
     "output_type": "stream",
     "text": [
      "+----------------------+---------------------------------------+\n",
      "|       Activity       | petroleum and gas production, onshore |\n",
      "|     Method name      |    ('GeoPolRisk', 'paired', '2024')   |\n",
      "|      Data file       |         GeoPolRisk_paired_2024        |\n",
      "| Unique CFs in method |                 49709                 |\n",
      "|   Unique CFs used    |                  102                  |\n",
      "|  Exc. characterized  |                  162                  |\n",
      "| Exc. uncharacterized |                 154768                |\n",
      "+----------------------+---------------------------------------+\n"
     ]
    }
   ],
   "source": [
    "LCA.statistics()"
   ]
  },
  {
   "cell_type": "code",
   "execution_count": 4,
   "id": "9d00bbea6fac2fb4",
   "metadata": {
    "ExecuteTime": {
     "end_time": "2025-03-16T20:12:32.148171Z",
     "start_time": "2025-03-16T20:12:32.141783Z"
    }
   },
   "outputs": [
    {
     "data": {
      "text/plain": [
       "0.0005641326325451241"
      ]
     },
     "execution_count": 4,
     "metadata": {},
     "output_type": "execute_result"
    }
   ],
   "source": [
    "LCA.score"
   ]
  },
  {
   "cell_type": "code",
   "execution_count": 6,
   "id": "587d09d00fa686f5",
   "metadata": {
    "ExecuteTime": {
     "end_time": "2025-03-16T20:04:02.366480Z",
     "start_time": "2025-03-16T20:04:02.263092Z"
    }
   },
   "outputs": [
    {
     "name": "stdout",
     "output_type": "stream",
     "text": [
      "Matrix type: technosphere\n"
     ]
    }
   ],
   "source": [
    "df = LCA.generate_cf_table()"
   ]
  },
  {
   "cell_type": "code",
   "execution_count": 7,
   "id": "f129e5fc4a42bf21",
   "metadata": {
    "ExecuteTime": {
     "end_time": "2025-03-16T20:04:05.921431Z",
     "start_time": "2025-03-16T20:04:05.912183Z"
    }
   },
   "outputs": [
    {
     "data": {
      "text/html": [
       "<div>\n",
       "<style scoped>\n",
       "    .dataframe tbody tr th:only-of-type {\n",
       "        vertical-align: middle;\n",
       "    }\n",
       "\n",
       "    .dataframe tbody tr th {\n",
       "        vertical-align: top;\n",
       "    }\n",
       "\n",
       "    .dataframe thead th {\n",
       "        text-align: right;\n",
       "    }\n",
       "</style>\n",
       "<table border=\"1\" class=\"dataframe\">\n",
       "  <thead>\n",
       "    <tr style=\"text-align: right;\">\n",
       "      <th></th>\n",
       "      <th>supplier name</th>\n",
       "      <th>supplier reference product</th>\n",
       "      <th>supplier location</th>\n",
       "      <th>consumer name</th>\n",
       "      <th>consumer reference product</th>\n",
       "      <th>consumer location</th>\n",
       "      <th>amount</th>\n",
       "      <th>CF</th>\n",
       "      <th>impact</th>\n",
       "    </tr>\n",
       "  </thead>\n",
       "  <tbody>\n",
       "    <tr>\n",
       "      <th>0</th>\n",
       "      <td>petroleum and gas production, offshore</td>\n",
       "      <td>petroleum</td>\n",
       "      <td>ID</td>\n",
       "      <td>market for petroleum</td>\n",
       "      <td>petroleum</td>\n",
       "      <td>IN</td>\n",
       "      <td>-1.129767e-06</td>\n",
       "      <td>6.723977e-05</td>\n",
       "      <td>-7.596530e-11</td>\n",
       "    </tr>\n",
       "    <tr>\n",
       "      <th>1</th>\n",
       "      <td>petroleum and gas production, offshore</td>\n",
       "      <td>petroleum</td>\n",
       "      <td>TH</td>\n",
       "      <td>market for petroleum</td>\n",
       "      <td>petroleum</td>\n",
       "      <td>IN</td>\n",
       "      <td>-1.036919e-06</td>\n",
       "      <td>7.898786e-12</td>\n",
       "      <td>-8.190400e-18</td>\n",
       "    </tr>\n",
       "    <tr>\n",
       "      <th>2</th>\n",
       "      <td>petroleum and gas production, onshore</td>\n",
       "      <td>petroleum</td>\n",
       "      <td>SA</td>\n",
       "      <td>market for petroleum</td>\n",
       "      <td>petroleum</td>\n",
       "      <td>BR</td>\n",
       "      <td>-2.399519e-06</td>\n",
       "      <td>1.227931e-03</td>\n",
       "      <td>-2.946443e-09</td>\n",
       "    </tr>\n",
       "    <tr>\n",
       "      <th>3</th>\n",
       "      <td>petroleum and gas production, onshore</td>\n",
       "      <td>petroleum</td>\n",
       "      <td>SA</td>\n",
       "      <td>market for petroleum</td>\n",
       "      <td>petroleum</td>\n",
       "      <td>ZA</td>\n",
       "      <td>-1.254431e-05</td>\n",
       "      <td>2.285224e-02</td>\n",
       "      <td>-2.866655e-07</td>\n",
       "    </tr>\n",
       "    <tr>\n",
       "      <th>4</th>\n",
       "      <td>petroleum and gas production, onshore</td>\n",
       "      <td>petroleum</td>\n",
       "      <td>SA</td>\n",
       "      <td>market for petroleum</td>\n",
       "      <td>petroleum</td>\n",
       "      <td>PE</td>\n",
       "      <td>-2.068469e-06</td>\n",
       "      <td>6.817011e-04</td>\n",
       "      <td>-1.410077e-09</td>\n",
       "    </tr>\n",
       "    <tr>\n",
       "      <th>...</th>\n",
       "      <td>...</td>\n",
       "      <td>...</td>\n",
       "      <td>...</td>\n",
       "      <td>...</td>\n",
       "      <td>...</td>\n",
       "      <td>...</td>\n",
       "      <td>...</td>\n",
       "      <td>...</td>\n",
       "      <td>...</td>\n",
       "    </tr>\n",
       "    <tr>\n",
       "      <th>194</th>\n",
       "      <td>petroleum and gas production, offshore</td>\n",
       "      <td>petroleum</td>\n",
       "      <td>NO</td>\n",
       "      <td>market for petroleum</td>\n",
       "      <td>petroleum</td>\n",
       "      <td>IN</td>\n",
       "      <td>-5.025072e-06</td>\n",
       "      <td>7.372771e-05</td>\n",
       "      <td>-3.704870e-10</td>\n",
       "    </tr>\n",
       "    <tr>\n",
       "      <th>195</th>\n",
       "      <td>petroleum and gas production, onshore</td>\n",
       "      <td>petroleum</td>\n",
       "      <td>RU</td>\n",
       "      <td>market for petroleum</td>\n",
       "      <td>petroleum</td>\n",
       "      <td>BR</td>\n",
       "      <td>-7.217575e-07</td>\n",
       "      <td>1.456921e-05</td>\n",
       "      <td>-1.051543e-11</td>\n",
       "    </tr>\n",
       "    <tr>\n",
       "      <th>196</th>\n",
       "      <td>petroleum and gas production, onshore</td>\n",
       "      <td>petroleum</td>\n",
       "      <td>RU</td>\n",
       "      <td>market for petroleum</td>\n",
       "      <td>petroleum</td>\n",
       "      <td>Europe without Switzerland</td>\n",
       "      <td>-1.462297e-04</td>\n",
       "      <td>1.301296e-02</td>\n",
       "      <td>-1.902881e-06</td>\n",
       "    </tr>\n",
       "    <tr>\n",
       "      <th>197</th>\n",
       "      <td>petroleum and gas production, onshore</td>\n",
       "      <td>petroleum</td>\n",
       "      <td>RU</td>\n",
       "      <td>market for petroleum</td>\n",
       "      <td>petroleum</td>\n",
       "      <td>IN</td>\n",
       "      <td>-9.013289e-06</td>\n",
       "      <td>3.339948e-03</td>\n",
       "      <td>-3.010392e-08</td>\n",
       "    </tr>\n",
       "    <tr>\n",
       "      <th>198</th>\n",
       "      <td>petroleum and gas production, onshore</td>\n",
       "      <td>petroleum</td>\n",
       "      <td>MY</td>\n",
       "      <td>market for petroleum</td>\n",
       "      <td>petroleum</td>\n",
       "      <td>IN</td>\n",
       "      <td>-2.408949e-08</td>\n",
       "      <td>4.696912e-04</td>\n",
       "      <td>-1.131462e-11</td>\n",
       "    </tr>\n",
       "  </tbody>\n",
       "</table>\n",
       "<p>199 rows × 9 columns</p>\n",
       "</div>"
      ],
      "text/plain": [
       "                              supplier name supplier reference product  \\\n",
       "0    petroleum and gas production, offshore                  petroleum   \n",
       "1    petroleum and gas production, offshore                  petroleum   \n",
       "2     petroleum and gas production, onshore                  petroleum   \n",
       "3     petroleum and gas production, onshore                  petroleum   \n",
       "4     petroleum and gas production, onshore                  petroleum   \n",
       "..                                      ...                        ...   \n",
       "194  petroleum and gas production, offshore                  petroleum   \n",
       "195   petroleum and gas production, onshore                  petroleum   \n",
       "196   petroleum and gas production, onshore                  petroleum   \n",
       "197   petroleum and gas production, onshore                  petroleum   \n",
       "198   petroleum and gas production, onshore                  petroleum   \n",
       "\n",
       "    supplier location         consumer name consumer reference product  \\\n",
       "0                  ID  market for petroleum                  petroleum   \n",
       "1                  TH  market for petroleum                  petroleum   \n",
       "2                  SA  market for petroleum                  petroleum   \n",
       "3                  SA  market for petroleum                  petroleum   \n",
       "4                  SA  market for petroleum                  petroleum   \n",
       "..                ...                   ...                        ...   \n",
       "194                NO  market for petroleum                  petroleum   \n",
       "195                RU  market for petroleum                  petroleum   \n",
       "196                RU  market for petroleum                  petroleum   \n",
       "197                RU  market for petroleum                  petroleum   \n",
       "198                MY  market for petroleum                  petroleum   \n",
       "\n",
       "              consumer location        amount            CF        impact  \n",
       "0                            IN -1.129767e-06  6.723977e-05 -7.596530e-11  \n",
       "1                            IN -1.036919e-06  7.898786e-12 -8.190400e-18  \n",
       "2                            BR -2.399519e-06  1.227931e-03 -2.946443e-09  \n",
       "3                            ZA -1.254431e-05  2.285224e-02 -2.866655e-07  \n",
       "4                            PE -2.068469e-06  6.817011e-04 -1.410077e-09  \n",
       "..                          ...           ...           ...           ...  \n",
       "194                          IN -5.025072e-06  7.372771e-05 -3.704870e-10  \n",
       "195                          BR -7.217575e-07  1.456921e-05 -1.051543e-11  \n",
       "196  Europe without Switzerland -1.462297e-04  1.301296e-02 -1.902881e-06  \n",
       "197                          IN -9.013289e-06  3.339948e-03 -3.010392e-08  \n",
       "198                          IN -2.408949e-08  4.696912e-04 -1.131462e-11  \n",
       "\n",
       "[199 rows x 9 columns]"
      ]
     },
     "execution_count": 7,
     "metadata": {},
     "output_type": "execute_result"
    }
   ],
   "source": [
    "df"
   ]
  },
  {
   "cell_type": "code",
   "execution_count": 5,
   "id": "2fe1fc0887594867",
   "metadata": {
    "ExecuteTime": {
     "end_time": "2025-03-16T20:03:51.537925Z",
     "start_time": "2025-03-16T20:03:51.487389Z"
    }
   },
   "outputs": [
    {
     "name": "stdout",
     "output_type": "stream",
     "text": [
      "+----------------------+--------------------------------------------+\n",
      "|       Activity       | market for bottom ash, MSWI-WWT, rainwater |\n",
      "|                      |            mineral oil storage             |\n",
      "|     Method name      |      ('GeoPolRisk', 'paired', '2024')      |\n",
      "|      Data file       |           GeoPolRisk_paired_2024           |\n",
      "| Unique CFs in method |                   49709                    |\n",
      "|   Unique CFs used    |                    123                     |\n",
      "|  Exc. characterized  |                    200                     |\n",
      "| Exc. uncharacterized |                    119                     |\n",
      "+----------------------+--------------------------------------------+\n"
     ]
    }
   ],
   "source": [
    "LCA.statistics()"
   ]
  },
  {
   "cell_type": "code",
   "execution_count": 10,
   "id": "34fbc8a561ae57cb",
   "metadata": {
    "ExecuteTime": {
     "end_time": "2025-03-19T08:27:21.541570Z",
     "start_time": "2025-03-19T08:27:16.024163Z"
    }
   },
   "outputs": [
    {
     "name": "stdout",
     "output_type": "stream",
     "text": [
      "'hard coal, import from Australia' (kilogram, IN, None)\n"
     ]
    },
    {
     "name": "stderr",
     "output_type": "stream",
     "text": [
      "/opt/homebrew/Caskroom/miniforge/base/envs/bw2/lib/python3.11/site-packages/scikits/umfpack/umfpack.py:736: UmfpackWarning: (almost) singular matrix! (estimated cond. number: 4.83e+13)\n",
      "  warnings.warn(msg, UmfpackWarning)\n"
     ]
    },
    {
     "name": "stdout",
     "output_type": "stream",
     "text": [
      "Identifying eligible exchanges...\n"
     ]
    },
    {
     "name": "stderr",
     "output_type": "stream",
     "text": [
      "100%|██████████| 51074/51074 [00:00<00:00, 142835.25it/s]\n"
     ]
    },
    {
     "name": "stdout",
     "output_type": "stream",
     "text": [
      "Handling static regions...\n"
     ]
    },
    {
     "name": "stderr",
     "output_type": "stream",
     "text": [
      "Processing locations: 0it [00:00, ?it/s]\n",
      "Processing locations: 100%|██████████| 308/308 [00:00<00:00, 1183.55it/s]\n"
     ]
    },
    {
     "name": "stdout",
     "output_type": "stream",
     "text": [
      "Handling dynamic regions...\n"
     ]
    },
    {
     "name": "stderr",
     "output_type": "stream",
     "text": [
      "Processing dynamic edges: 0it [00:00, ?it/s]\n",
      "Processing dynamic edges: 100%|██████████| 154764/154764 [00:00<00:00, 488838.93it/s]\n"
     ]
    },
    {
     "name": "stdout",
     "output_type": "stream",
     "text": [
      "Handling remaining exchanges...\n"
     ]
    },
    {
     "name": "stderr",
     "output_type": "stream",
     "text": [
      "Processing remaining global edges: 0it [00:00, ?it/s]\n",
      "Processing remaining global edges: 100%|██████████| 154764/154764 [00:00<00:00, 355017.77it/s]\n"
     ]
    },
    {
     "data": {
      "image/png": "[encoded data removed]",
      "text/plain": [
       "<Figure size 1000x1200 with 6 Axes>"
      ]
     },
     "metadata": {},
     "output_type": "display_data"
    }
   ],
   "source": [
    "import matplotlib.pyplot as plt\n",
    "methods = [('GeoPolRisk', 'paired', '2024'),]\n",
    "bw2data.projects.set_current(\"ecoinvent-3.10-cutoff\")\n",
    "act = bw2data.Database(\"ecoinvent-3.10.1-cutoff\").random()\n",
    "print(act)\n",
    "for method in methods:\n",
    "    LCA = EdgeLCIA({act: 1}, method)\n",
    "    LCA.lci()\n",
    "    LCA.map_exchanges()\n",
    "    LCA.map_aggregate_locations()\n",
    "    LCA.map_dynamic_locations()\n",
    "    LCA.map_remaining_locations_to_global()\n",
    "    LCA.evaluate_cfs()\n",
    "    LCA.lcia()\n",
    "    df = LCA.generate_cf_table()\n",
    "\n",
    "    cutoff = 0.01\n",
    "\n",
    "    # remove rows for which \"amount\" is below the cutoff\n",
    "    total = df[\"impact\"].sum()\n",
    "    df = df[df[\"impact\"] > cutoff * total]\n",
    "\n",
    "    # Plotting\n",
    "    fig, axes = plt.subplots(3, 2, figsize=(10, 12))\n",
    "\n",
    "    # 1. Bar plot of \"amount\" by \"supplier name\"\n",
    "    df.groupby(\"supplier name\")[\"impact\"].sum().plot(kind=\"bar\", ax=axes[0, 0])\n",
    "    axes[0, 0].set_title(\"Impact by Supplier Name\")\n",
    "    axes[0, 0].set_ylabel(\"Impact\")\n",
    "    axes[0, 0].tick_params(axis=\"x\", rotation=45)\n",
    "\n",
    "    # 2. Bar plot of \"amount\" by \"consumer name\"\n",
    "    df.groupby(\"consumer name\")[\"impact\"].sum().plot(kind=\"bar\", ax=axes[0, 1])\n",
    "    axes[0, 1].set_title(\"Impact by Consumer Name\")\n",
    "    axes[0, 1].set_ylabel(\"Impact\")\n",
    "    axes[0, 1].set_xticklabels(\n",
    "        [label.get_text().replace(\", \", \"\\n\") for label in axes[0, 1].get_xticklabels()],\n",
    "        rotation=45,\n",
    "        ha=\"right\",\n",
    "    )\n",
    "\n",
    "    # 3. Bar plot of \"impact\" by \"consumer location\"\n",
    "    df.groupby(\"consumer location\")[\"impact\"].sum().plot(kind=\"bar\", ax=axes[1, 0])\n",
    "    axes[1, 0].set_title(\"Impact by Consumer Location\")\n",
    "    axes[1, 0].set_ylabel(\"Impact\")\n",
    "    axes[1, 0].tick_params(axis=\"x\", rotation=45)\n",
    "\n",
    "\n",
    "    # 3. Bar plot of \"impact\" by \"supplier location\"\n",
    "    df.groupby(\"supplier location\")[\"impact\"].sum().plot(kind=\"bar\", ax=axes[1, 1])\n",
    "    axes[1, 1].set_title(\"Impact by Supplier Location\")\n",
    "    axes[1, 1].set_ylabel(\"Impact\")\n",
    "    axes[1, 1].tick_params(axis=\"x\", rotation=45)\n",
    "\n",
    "\n",
    "    # 4. Stacked bar plot for \"amount\" by \"consumer name\" and \"consumer location\"\n",
    "    df_grouped = df.groupby([\"supplier name\", \"supplier location\"])[\"impact\"].sum().unstack()\n",
    "    df_grouped.plot(kind=\"bar\", stacked=True, ax=axes[2, 0])\n",
    "    axes[2, 0].set_title(\"Impact by Supplier Name & Location (Stacked)\")\n",
    "    axes[2, 0].set_ylabel(\"Impact\")\n",
    "    axes[2, 0].set_xticklabels(\n",
    "        [label.get_text().replace(\", \", \"\\n\") for label in axes[2, 0].get_xticklabels()],\n",
    "        rotation=45,\n",
    "        ha=\"right\",\n",
    "    )\n",
    "    axes[2, 0].legend(title=\"Supplier Location\", loc=\"center left\", ncol=2)\n",
    "\n",
    "    # 5. Bar plot of average \"CF\" by \"consumer location\"\n",
    "    df.groupby([\"supplier name\", \"supplier location\"])[\"CF\"].mean().plot(kind=\"bar\", ax=axes[2, 1])\n",
    "    axes[2, 1].set_title(\"Average CF by Supplier Location\")\n",
    "    axes[2, 1].set_ylabel(\"CF\")\n",
    "    axes[2, 1].tick_params(axis=\"x\", rotation=45)\n",
    "\n",
    "\n",
    "    plt.tight_layout()\n",
    "    plt.show()\n",
    "\n",
    "    \n",
    "\n",
    "  #LCA.score"
   ]
  },
  {
   "cell_type": "code",
   "execution_count": 8,
   "id": "9c27d5f8-fbf1-469f-8daa-7ce8f5eb4480",
   "metadata": {
    "ExecuteTime": {
     "end_time": "2025-03-19T08:25:07.168564Z",
     "start_time": "2025-03-19T08:25:07.156602Z"
    }
   },
   "outputs": [
    {
     "data": {
      "text/plain": [
       "157    platinum group metal, extraction and refinery ...\n",
       "118                     fluorspar production, 97% purity\n",
       "10                                     cobalt production\n",
       "97                 petroleum and gas production, onshore\n",
       "2                               boron carbide production\n",
       "87                 petroleum and gas production, onshore\n",
       "158    rare earth element mine operation and benefici...\n",
       "67                petroleum and gas production, offshore\n",
       "47                 petroleum and gas production, onshore\n",
       "86                petroleum and gas production, offshore\n",
       "96                petroleum and gas production, offshore\n",
       "Name: supplier name, dtype: object"
      ]
     },
     "execution_count": 8,
     "metadata": {},
     "output_type": "execute_result"
    }
   ],
   "source": [
    "df.sort_values(by=\"impact\", ascending=False).loc[:, \"supplier name\"]"
   ]
  },
  {
   "cell_type": "code",
   "execution_count": 7,
   "id": "2c2841e9-ba9f-4536-82a0-5972d84ba459",
   "metadata": {},
   "outputs": [
    {
     "data": {
      "text/html": [
       "<div>\n",
       "<style scoped>\n",
       "    .dataframe tbody tr th:only-of-type {\n",
       "        vertical-align: middle;\n",
       "    }\n",
       "\n",
       "    .dataframe tbody tr th {\n",
       "        vertical-align: top;\n",
       "    }\n",
       "\n",
       "    .dataframe thead th {\n",
       "        text-align: right;\n",
       "    }\n",
       "</style>\n",
       "<table border=\"1\" class=\"dataframe\">\n",
       "  <thead>\n",
       "    <tr style=\"text-align: right;\">\n",
       "      <th></th>\n",
       "      <th>supplier name</th>\n",
       "      <th>supplier categories</th>\n",
       "      <th>consumer name</th>\n",
       "      <th>consumer reference product</th>\n",
       "      <th>consumer location</th>\n",
       "      <th>amount</th>\n",
       "      <th>CF</th>\n",
       "      <th>impact</th>\n",
       "    </tr>\n",
       "  </thead>\n",
       "  <tbody>\n",
       "    <tr>\n",
       "      <th>1409</th>\n",
       "      <td>Transformation, to annual crop</td>\n",
       "      <td>(natural resource, land)</td>\n",
       "      <td>soybean production</td>\n",
       "      <td>soybean</td>\n",
       "      <td>BR-MT</td>\n",
       "      <td>0.000133</td>\n",
       "      <td>150.878435</td>\n",
       "      <td>0.020124</td>\n",
       "    </tr>\n",
       "    <tr>\n",
       "      <th>1427</th>\n",
       "      <td>Transformation, to annual crop</td>\n",
       "      <td>(natural resource, land)</td>\n",
       "      <td>soybean production</td>\n",
       "      <td>soybean</td>\n",
       "      <td>BR-RS</td>\n",
       "      <td>0.000048</td>\n",
       "      <td>150.878435</td>\n",
       "      <td>0.007286</td>\n",
       "    </tr>\n",
       "    <tr>\n",
       "      <th>1436</th>\n",
       "      <td>Transformation, to annual crop</td>\n",
       "      <td>(natural resource, land)</td>\n",
       "      <td>soybean production</td>\n",
       "      <td>soybean</td>\n",
       "      <td>BR-GO</td>\n",
       "      <td>0.000048</td>\n",
       "      <td>150.878435</td>\n",
       "      <td>0.007317</td>\n",
       "    </tr>\n",
       "    <tr>\n",
       "      <th>1437</th>\n",
       "      <td>Transformation, to annual crop</td>\n",
       "      <td>(natural resource, land)</td>\n",
       "      <td>soybean production</td>\n",
       "      <td>soybean</td>\n",
       "      <td>BR-SP</td>\n",
       "      <td>0.000015</td>\n",
       "      <td>150.878435</td>\n",
       "      <td>0.002307</td>\n",
       "    </tr>\n",
       "    <tr>\n",
       "      <th>1443</th>\n",
       "      <td>Transformation, to annual crop</td>\n",
       "      <td>(natural resource, land)</td>\n",
       "      <td>soybean production</td>\n",
       "      <td>soybean</td>\n",
       "      <td>BR-PI</td>\n",
       "      <td>0.000011</td>\n",
       "      <td>150.878435</td>\n",
       "      <td>0.001602</td>\n",
       "    </tr>\n",
       "    <tr>\n",
       "      <th>1447</th>\n",
       "      <td>Transformation, to annual crop</td>\n",
       "      <td>(natural resource, land)</td>\n",
       "      <td>soybean production</td>\n",
       "      <td>soybean</td>\n",
       "      <td>BR-MS</td>\n",
       "      <td>0.000041</td>\n",
       "      <td>150.878435</td>\n",
       "      <td>0.006151</td>\n",
       "    </tr>\n",
       "    <tr>\n",
       "      <th>1454</th>\n",
       "      <td>Transformation, to annual crop</td>\n",
       "      <td>(natural resource, land)</td>\n",
       "      <td>soybean production</td>\n",
       "      <td>soybean</td>\n",
       "      <td>BR-TO</td>\n",
       "      <td>0.000013</td>\n",
       "      <td>150.878435</td>\n",
       "      <td>0.001909</td>\n",
       "    </tr>\n",
       "    <tr>\n",
       "      <th>1470</th>\n",
       "      <td>Transformation, to annual crop</td>\n",
       "      <td>(natural resource, land)</td>\n",
       "      <td>soybean production</td>\n",
       "      <td>soybean</td>\n",
       "      <td>BR-BA</td>\n",
       "      <td>0.000024</td>\n",
       "      <td>150.878435</td>\n",
       "      <td>0.003546</td>\n",
       "    </tr>\n",
       "  </tbody>\n",
       "</table>\n",
       "</div>"
      ],
      "text/plain": [
       "                       supplier name       supplier categories  \\\n",
       "1409  Transformation, to annual crop  (natural resource, land)   \n",
       "1427  Transformation, to annual crop  (natural resource, land)   \n",
       "1436  Transformation, to annual crop  (natural resource, land)   \n",
       "1437  Transformation, to annual crop  (natural resource, land)   \n",
       "1443  Transformation, to annual crop  (natural resource, land)   \n",
       "1447  Transformation, to annual crop  (natural resource, land)   \n",
       "1454  Transformation, to annual crop  (natural resource, land)   \n",
       "1470  Transformation, to annual crop  (natural resource, land)   \n",
       "\n",
       "           consumer name consumer reference product consumer location  \\\n",
       "1409  soybean production                    soybean             BR-MT   \n",
       "1427  soybean production                    soybean             BR-RS   \n",
       "1436  soybean production                    soybean             BR-GO   \n",
       "1437  soybean production                    soybean             BR-SP   \n",
       "1443  soybean production                    soybean             BR-PI   \n",
       "1447  soybean production                    soybean             BR-MS   \n",
       "1454  soybean production                    soybean             BR-TO   \n",
       "1470  soybean production                    soybean             BR-BA   \n",
       "\n",
       "        amount          CF    impact  \n",
       "1409  0.000133  150.878435  0.020124  \n",
       "1427  0.000048  150.878435  0.007286  \n",
       "1436  0.000048  150.878435  0.007317  \n",
       "1437  0.000015  150.878435  0.002307  \n",
       "1443  0.000011  150.878435  0.001602  \n",
       "1447  0.000041  150.878435  0.006151  \n",
       "1454  0.000013  150.878435  0.001909  \n",
       "1470  0.000024  150.878435  0.003546  "
      ]
     },
     "execution_count": 7,
     "metadata": {},
     "output_type": "execute_result"
    }
   ],
   "source": [
    "df.loc[df[\"consumer name\"] == \"soybean production\"]"
   ]
  },
  {
   "cell_type": "code",
   "execution_count": 10,
   "id": "dc28b7a7-ed66-4e0b-ae43-116ea78b61c4",
   "metadata": {},
   "outputs": [
    {
     "data": {
      "text/html": [
       "<div>\n",
       "<style scoped>\n",
       "    .dataframe tbody tr th:only-of-type {\n",
       "        vertical-align: middle;\n",
       "    }\n",
       "\n",
       "    .dataframe tbody tr th {\n",
       "        vertical-align: top;\n",
       "    }\n",
       "\n",
       "    .dataframe thead th {\n",
       "        text-align: right;\n",
       "    }\n",
       "</style>\n",
       "<table border=\"1\" class=\"dataframe\">\n",
       "  <thead>\n",
       "    <tr style=\"text-align: right;\">\n",
       "      <th></th>\n",
       "      <th>supplier name</th>\n",
       "      <th>supplier categories</th>\n",
       "      <th>consumer name</th>\n",
       "      <th>consumer reference product</th>\n",
       "      <th>consumer location</th>\n",
       "      <th>amount</th>\n",
       "      <th>CF</th>\n",
       "      <th>impact</th>\n",
       "    </tr>\n",
       "  </thead>\n",
       "  <tbody>\n",
       "    <tr>\n",
       "      <th>1790</th>\n",
       "      <td>Transformation, to mineral extraction site</td>\n",
       "      <td>(natural resource, land)</td>\n",
       "      <td>onshore petroleum field infrastructure constru...</td>\n",
       "      <td>onshore petroleum field infrastructure</td>\n",
       "      <td>GLO</td>\n",
       "      <td>0.000138</td>\n",
       "      <td>108.941609</td>\n",
       "      <td>0.015058</td>\n",
       "    </tr>\n",
       "    <tr>\n",
       "      <th>1409</th>\n",
       "      <td>Transformation, to annual crop</td>\n",
       "      <td>(natural resource, land)</td>\n",
       "      <td>soybean production</td>\n",
       "      <td>soybean</td>\n",
       "      <td>BR-MT</td>\n",
       "      <td>0.000133</td>\n",
       "      <td>150.878435</td>\n",
       "      <td>0.020124</td>\n",
       "    </tr>\n",
       "    <tr>\n",
       "      <th>1436</th>\n",
       "      <td>Transformation, to annual crop</td>\n",
       "      <td>(natural resource, land)</td>\n",
       "      <td>soybean production</td>\n",
       "      <td>soybean</td>\n",
       "      <td>BR-GO</td>\n",
       "      <td>0.000048</td>\n",
       "      <td>150.878435</td>\n",
       "      <td>0.007317</td>\n",
       "    </tr>\n",
       "    <tr>\n",
       "      <th>1427</th>\n",
       "      <td>Transformation, to annual crop</td>\n",
       "      <td>(natural resource, land)</td>\n",
       "      <td>soybean production</td>\n",
       "      <td>soybean</td>\n",
       "      <td>BR-RS</td>\n",
       "      <td>0.000048</td>\n",
       "      <td>150.878435</td>\n",
       "      <td>0.007286</td>\n",
       "    </tr>\n",
       "    <tr>\n",
       "      <th>1447</th>\n",
       "      <td>Transformation, to annual crop</td>\n",
       "      <td>(natural resource, land)</td>\n",
       "      <td>soybean production</td>\n",
       "      <td>soybean</td>\n",
       "      <td>BR-MS</td>\n",
       "      <td>0.000041</td>\n",
       "      <td>150.878435</td>\n",
       "      <td>0.006151</td>\n",
       "    </tr>\n",
       "    <tr>\n",
       "      <th>1419</th>\n",
       "      <td>Transformation, to annual crop</td>\n",
       "      <td>(natural resource, land)</td>\n",
       "      <td>pipeline construction, natural gas, high press...</td>\n",
       "      <td>pipeline, natural gas, high pressure distribut...</td>\n",
       "      <td>RoW</td>\n",
       "      <td>0.000031</td>\n",
       "      <td>150.708486</td>\n",
       "      <td>0.004637</td>\n",
       "    </tr>\n",
       "    <tr>\n",
       "      <th>1470</th>\n",
       "      <td>Transformation, to annual crop</td>\n",
       "      <td>(natural resource, land)</td>\n",
       "      <td>soybean production</td>\n",
       "      <td>soybean</td>\n",
       "      <td>BR-BA</td>\n",
       "      <td>0.000024</td>\n",
       "      <td>150.878435</td>\n",
       "      <td>0.003546</td>\n",
       "    </tr>\n",
       "    <tr>\n",
       "      <th>1793</th>\n",
       "      <td>Transformation, to mineral extraction site</td>\n",
       "      <td>(natural resource, land)</td>\n",
       "      <td>onshore well production, oil/gas</td>\n",
       "      <td>onshore well, oil/gas</td>\n",
       "      <td>GLO</td>\n",
       "      <td>0.000023</td>\n",
       "      <td>108.941609</td>\n",
       "      <td>0.002548</td>\n",
       "    </tr>\n",
       "    <tr>\n",
       "      <th>1437</th>\n",
       "      <td>Transformation, to annual crop</td>\n",
       "      <td>(natural resource, land)</td>\n",
       "      <td>soybean production</td>\n",
       "      <td>soybean</td>\n",
       "      <td>BR-SP</td>\n",
       "      <td>0.000015</td>\n",
       "      <td>150.878435</td>\n",
       "      <td>0.002307</td>\n",
       "    </tr>\n",
       "    <tr>\n",
       "      <th>1731</th>\n",
       "      <td>Transformation, to heterogeneous, agricultural</td>\n",
       "      <td>(natural resource, land)</td>\n",
       "      <td>pipeline construction, petroleum</td>\n",
       "      <td>pipeline, petroleum</td>\n",
       "      <td>RER</td>\n",
       "      <td>0.000013</td>\n",
       "      <td>62.932928</td>\n",
       "      <td>0.000828</td>\n",
       "    </tr>\n",
       "    <tr>\n",
       "      <th>1454</th>\n",
       "      <td>Transformation, to annual crop</td>\n",
       "      <td>(natural resource, land)</td>\n",
       "      <td>soybean production</td>\n",
       "      <td>soybean</td>\n",
       "      <td>BR-TO</td>\n",
       "      <td>0.000013</td>\n",
       "      <td>150.878435</td>\n",
       "      <td>0.001909</td>\n",
       "    </tr>\n",
       "    <tr>\n",
       "      <th>1443</th>\n",
       "      <td>Transformation, to annual crop</td>\n",
       "      <td>(natural resource, land)</td>\n",
       "      <td>soybean production</td>\n",
       "      <td>soybean</td>\n",
       "      <td>BR-PI</td>\n",
       "      <td>0.000011</td>\n",
       "      <td>150.878435</td>\n",
       "      <td>0.001602</td>\n",
       "    </tr>\n",
       "    <tr>\n",
       "      <th>1446</th>\n",
       "      <td>Transformation, to annual crop</td>\n",
       "      <td>(natural resource, land)</td>\n",
       "      <td>pipeline construction, natural gas, high press...</td>\n",
       "      <td>pipeline, natural gas, high pressure distribut...</td>\n",
       "      <td>Europe without Switzerland</td>\n",
       "      <td>0.000010</td>\n",
       "      <td>314.374577</td>\n",
       "      <td>0.003210</td>\n",
       "    </tr>\n",
       "    <tr>\n",
       "      <th>1778</th>\n",
       "      <td>Transformation, to mineral extraction site</td>\n",
       "      <td>(natural resource, land)</td>\n",
       "      <td>hard coal mine operation and hard coal prepara...</td>\n",
       "      <td>hard coal</td>\n",
       "      <td>CN</td>\n",
       "      <td>0.000006</td>\n",
       "      <td>166.600686</td>\n",
       "      <td>0.000957</td>\n",
       "    </tr>\n",
       "    <tr>\n",
       "      <th>1872</th>\n",
       "      <td>Transformation, to mineral extraction site</td>\n",
       "      <td>(natural resource, land)</td>\n",
       "      <td>lignite mine operation</td>\n",
       "      <td>lignite</td>\n",
       "      <td>IN</td>\n",
       "      <td>0.000004</td>\n",
       "      <td>170.950818</td>\n",
       "      <td>0.000766</td>\n",
       "    </tr>\n",
       "  </tbody>\n",
       "</table>\n",
       "</div>"
      ],
      "text/plain": [
       "                                       supplier name  \\\n",
       "1790      Transformation, to mineral extraction site   \n",
       "1409                  Transformation, to annual crop   \n",
       "1436                  Transformation, to annual crop   \n",
       "1427                  Transformation, to annual crop   \n",
       "1447                  Transformation, to annual crop   \n",
       "1419                  Transformation, to annual crop   \n",
       "1470                  Transformation, to annual crop   \n",
       "1793      Transformation, to mineral extraction site   \n",
       "1437                  Transformation, to annual crop   \n",
       "1731  Transformation, to heterogeneous, agricultural   \n",
       "1454                  Transformation, to annual crop   \n",
       "1443                  Transformation, to annual crop   \n",
       "1446                  Transformation, to annual crop   \n",
       "1778      Transformation, to mineral extraction site   \n",
       "1872      Transformation, to mineral extraction site   \n",
       "\n",
       "           supplier categories  \\\n",
       "1790  (natural resource, land)   \n",
       "1409  (natural resource, land)   \n",
       "1436  (natural resource, land)   \n",
       "1427  (natural resource, land)   \n",
       "1447  (natural resource, land)   \n",
       "1419  (natural resource, land)   \n",
       "1470  (natural resource, land)   \n",
       "1793  (natural resource, land)   \n",
       "1437  (natural resource, land)   \n",
       "1731  (natural resource, land)   \n",
       "1454  (natural resource, land)   \n",
       "1443  (natural resource, land)   \n",
       "1446  (natural resource, land)   \n",
       "1778  (natural resource, land)   \n",
       "1872  (natural resource, land)   \n",
       "\n",
       "                                          consumer name  \\\n",
       "1790  onshore petroleum field infrastructure constru...   \n",
       "1409                                 soybean production   \n",
       "1436                                 soybean production   \n",
       "1427                                 soybean production   \n",
       "1447                                 soybean production   \n",
       "1419  pipeline construction, natural gas, high press...   \n",
       "1470                                 soybean production   \n",
       "1793                   onshore well production, oil/gas   \n",
       "1437                                 soybean production   \n",
       "1731                   pipeline construction, petroleum   \n",
       "1454                                 soybean production   \n",
       "1443                                 soybean production   \n",
       "1446  pipeline construction, natural gas, high press...   \n",
       "1778  hard coal mine operation and hard coal prepara...   \n",
       "1872                             lignite mine operation   \n",
       "\n",
       "                             consumer reference product  \\\n",
       "1790             onshore petroleum field infrastructure   \n",
       "1409                                            soybean   \n",
       "1436                                            soybean   \n",
       "1427                                            soybean   \n",
       "1447                                            soybean   \n",
       "1419  pipeline, natural gas, high pressure distribut...   \n",
       "1470                                            soybean   \n",
       "1793                              onshore well, oil/gas   \n",
       "1437                                            soybean   \n",
       "1731                                pipeline, petroleum   \n",
       "1454                                            soybean   \n",
       "1443                                            soybean   \n",
       "1446  pipeline, natural gas, high pressure distribut...   \n",
       "1778                                          hard coal   \n",
       "1872                                            lignite   \n",
       "\n",
       "               consumer location    amount          CF    impact  \n",
       "1790                         GLO  0.000138  108.941609  0.015058  \n",
       "1409                       BR-MT  0.000133  150.878435  0.020124  \n",
       "1436                       BR-GO  0.000048  150.878435  0.007317  \n",
       "1427                       BR-RS  0.000048  150.878435  0.007286  \n",
       "1447                       BR-MS  0.000041  150.878435  0.006151  \n",
       "1419                         RoW  0.000031  150.708486  0.004637  \n",
       "1470                       BR-BA  0.000024  150.878435  0.003546  \n",
       "1793                         GLO  0.000023  108.941609  0.002548  \n",
       "1437                       BR-SP  0.000015  150.878435  0.002307  \n",
       "1731                         RER  0.000013   62.932928  0.000828  \n",
       "1454                       BR-TO  0.000013  150.878435  0.001909  \n",
       "1443                       BR-PI  0.000011  150.878435  0.001602  \n",
       "1446  Europe without Switzerland  0.000010  314.374577  0.003210  \n",
       "1778                          CN  0.000006  166.600686  0.000957  \n",
       "1872                          IN  0.000004  170.950818  0.000766  "
      ]
     },
     "execution_count": 10,
     "metadata": {},
     "output_type": "execute_result"
    }
   ],
   "source": [
    "df.sort_values(\"amount\", ascending=False)"
   ]
  },
  {
   "cell_type": "code",
   "execution_count": 8,
   "id": "cf52fe08-b6a8-4c48-9ef0-4a68164c6e12",
   "metadata": {},
   "outputs": [
    {
     "data": {
      "text/plain": [
       "array([150.87843498, 150.70848584, 314.37457713,  62.9329279 ,\n",
       "       166.60068556, 108.9416093 , 170.95081809])"
      ]
     },
     "execution_count": 8,
     "metadata": {},
     "output_type": "execute_result"
    }
   ],
   "source": [
    "df[\"CF\"].unique()"
   ]
  },
  {
   "cell_type": "code",
   "execution_count": 16,
   "id": "b0d04e502fddab85",
   "metadata": {
    "ExecuteTime": {
     "end_time": "2025-03-14T12:57:31.989343Z",
     "start_time": "2025-03-14T12:57:31.985563Z"
    }
   },
   "outputs": [
    {
     "data": {
      "text/plain": [
       "supplier name   consumer location         \n",
       "Sulfur dioxide  Europe without Switzerland     4.368280\n",
       "                GLO                            2.481095\n",
       "                RU                            24.675845\n",
       "Name: CF, dtype: float64"
      ]
     },
     "execution_count": 16,
     "metadata": {},
     "output_type": "execute_result"
    }
   ],
   "source": [
    "df.groupby([\"supplier name\", \"consumer location\"])[\"CF\"].mean()"
   ]
  },
  {
   "cell_type": "code",
   "execution_count": 21,
   "id": "bc3b8566460bf0f",
   "metadata": {
    "ExecuteTime": {
     "end_time": "2025-03-14T12:21:26.350483Z",
     "start_time": "2025-03-14T12:21:26.348120Z"
    }
   },
   "outputs": [
    {
     "data": {
      "text/plain": [
       "124526838126026753"
      ]
     },
     "execution_count": 21,
     "metadata": {},
     "output_type": "execute_result"
    }
   ],
   "source": [
    "list(LCA.demand.keys())[0]"
   ]
  },
  {
   "cell_type": "code",
   "execution_count": 1,
   "id": "10e5992c6e7da7a5",
   "metadata": {
    "ExecuteTime": {
     "end_time": "2025-03-13T18:44:05.856654Z",
     "start_time": "2025-03-13T18:44:05.790055Z"
    }
   },
   "outputs": [
    {
     "data": {
      "text/plain": [
       "['PG', ('ecoinvent', 'UN-MELANESIA'), ('ecoinvent', 'UN-OCEANIA'), 'GLO']"
      ]
     },
     "execution_count": 1,
     "metadata": {},
     "output_type": "execute_result"
    }
   ],
   "source": [
    "from constructive_geometries import geomatcher\n",
    "geo = geomatcher.Geomatcher()\n",
    "\n",
    "geo.within(\"PG\", biggest_first=False)"
   ]
  },
  {
   "cell_type": "code",
   "execution_count": 2,
   "id": "dfb2406d-779e-4dc0-aa90-495c900003b8",
   "metadata": {},
   "outputs": [
    {
     "data": {
      "text/plain": [
       "['PG']"
      ]
     },
     "execution_count": 2,
     "metadata": {},
     "output_type": "execute_result"
    }
   ],
   "source": [
    "geo.contained(\"PG\", biggest_first=False)"
   ]
  },
  {
   "cell_type": "code",
   "execution_count": 6,
   "id": "791d371ddd317c5f",
   "metadata": {
    "ExecuteTime": {
     "end_time": "2025-03-13T11:32:15.968542Z",
     "start_time": "2025-03-13T11:32:15.903143Z"
    }
   },
   "outputs": [
    {
     "data": {
      "text/plain": [
       "{'Water',\n",
       " 'Water, cooling, unspecified natural origin',\n",
       " 'Water, in air',\n",
       " 'Water, lake',\n",
       " 'Water, river',\n",
       " 'Water, turbine use, unspecified natural origin',\n",
       " 'Water, unspecified natural origin',\n",
       " 'Water, well, in ground'}"
      ]
     },
     "execution_count": 6,
     "metadata": {},
     "output_type": "execute_result"
    }
   ],
   "source": [
    "set([x[\"supplier\"][\"name\"] for x in LCA.ignored_method_exchanges])"
   ]
  },
  {
   "cell_type": "code",
   "execution_count": 7,
   "id": "a6184f20f6cb9f89",
   "metadata": {
    "ExecuteTime": {
     "end_time": "2025-03-13T11:24:29.740003Z",
     "start_time": "2025-03-13T11:24:27.371772Z"
    }
   },
   "outputs": [
    {
     "name": "stdout",
     "output_type": "stream",
     "text": [
      "Matrix type: biosphere\n"
     ]
    },
    {
     "data": {
      "text/html": [
       "<div>\n",
       "<style scoped>\n",
       "    .dataframe tbody tr th:only-of-type {\n",
       "        vertical-align: middle;\n",
       "    }\n",
       "\n",
       "    .dataframe tbody tr th {\n",
       "        vertical-align: top;\n",
       "    }\n",
       "\n",
       "    .dataframe thead th {\n",
       "        text-align: right;\n",
       "    }\n",
       "</style>\n",
       "<table border=\"1\" class=\"dataframe\">\n",
       "  <thead>\n",
       "    <tr style=\"text-align: right;\">\n",
       "      <th></th>\n",
       "      <th>supplier name</th>\n",
       "      <th>supplier categories</th>\n",
       "      <th>consumer name</th>\n",
       "      <th>consumer reference product</th>\n",
       "      <th>consumer location</th>\n",
       "      <th>amount</th>\n",
       "      <th>CF</th>\n",
       "      <th>impact</th>\n",
       "    </tr>\n",
       "  </thead>\n",
       "  <tbody>\n",
       "    <tr>\n",
       "      <th>0</th>\n",
       "      <td>Water, cooling, unspecified natural origin</td>\n",
       "      <td>(natural resource, in water)</td>\n",
       "      <td>particleboard production, uncoated, from virgi...</td>\n",
       "      <td>particleboard, uncoated</td>\n",
       "      <td>RoW</td>\n",
       "      <td>6.544631e-11</td>\n",
       "      <td>20.179399</td>\n",
       "      <td>1.320667e-09</td>\n",
       "    </tr>\n",
       "    <tr>\n",
       "      <th>1</th>\n",
       "      <td>Water, cooling, unspecified natural origin</td>\n",
       "      <td>(natural resource, in water)</td>\n",
       "      <td>heat and power co-generation, lignite</td>\n",
       "      <td>electricity, high voltage</td>\n",
       "      <td>SI</td>\n",
       "      <td>1.453419e-07</td>\n",
       "      <td>1.087201</td>\n",
       "      <td>1.580158e-07</td>\n",
       "    </tr>\n",
       "    <tr>\n",
       "      <th>2</th>\n",
       "      <td>Water, cooling, unspecified natural origin</td>\n",
       "      <td>(natural resource, in water)</td>\n",
       "      <td>atrazine production</td>\n",
       "      <td>atrazine</td>\n",
       "      <td>RoW</td>\n",
       "      <td>4.228744e-12</td>\n",
       "      <td>19.819034</td>\n",
       "      <td>8.380961e-11</td>\n",
       "    </tr>\n",
       "    <tr>\n",
       "      <th>3</th>\n",
       "      <td>Water, cooling, unspecified natural origin</td>\n",
       "      <td>(natural resource, in water)</td>\n",
       "      <td>sheet rolling, copper</td>\n",
       "      <td>sheet rolling, copper</td>\n",
       "      <td>RoW</td>\n",
       "      <td>1.290820e-10</td>\n",
       "      <td>19.819034</td>\n",
       "      <td>2.558280e-09</td>\n",
       "    </tr>\n",
       "    <tr>\n",
       "      <th>4</th>\n",
       "      <td>Water, cooling, unspecified natural origin</td>\n",
       "      <td>(natural resource, in water)</td>\n",
       "      <td>phosphoric acid production, dihydrate process</td>\n",
       "      <td>phosphoric acid, fertiliser grade, without wat...</td>\n",
       "      <td>MA</td>\n",
       "      <td>5.123237e-08</td>\n",
       "      <td>54.031045</td>\n",
       "      <td>2.768139e-06</td>\n",
       "    </tr>\n",
       "    <tr>\n",
       "      <th>...</th>\n",
       "      <td>...</td>\n",
       "      <td>...</td>\n",
       "      <td>...</td>\n",
       "      <td>...</td>\n",
       "      <td>...</td>\n",
       "      <td>...</td>\n",
       "      <td>...</td>\n",
       "      <td>...</td>\n",
       "    </tr>\n",
       "    <tr>\n",
       "      <th>4923</th>\n",
       "      <td>Water, in air</td>\n",
       "      <td>(natural resource, in air)</td>\n",
       "      <td>soy-based resin production</td>\n",
       "      <td>polyester resin, unsaturated</td>\n",
       "      <td>US</td>\n",
       "      <td>4.729868e-16</td>\n",
       "      <td>9.087076</td>\n",
       "      <td>4.298067e-15</td>\n",
       "    </tr>\n",
       "    <tr>\n",
       "      <th>4924</th>\n",
       "      <td>Water, in air</td>\n",
       "      <td>(natural resource, in air)</td>\n",
       "      <td>soy-based resin production</td>\n",
       "      <td>polyester resin, unsaturated</td>\n",
       "      <td>RoW</td>\n",
       "      <td>1.378576e-15</td>\n",
       "      <td>20.175187</td>\n",
       "      <td>2.781303e-14</td>\n",
       "    </tr>\n",
       "    <tr>\n",
       "      <th>4925</th>\n",
       "      <td>Water, in air</td>\n",
       "      <td>(natural resource, in air)</td>\n",
       "      <td>clinker production</td>\n",
       "      <td>clinker</td>\n",
       "      <td>RoW</td>\n",
       "      <td>1.625316e-09</td>\n",
       "      <td>20.627229</td>\n",
       "      <td>3.352577e-08</td>\n",
       "    </tr>\n",
       "    <tr>\n",
       "      <th>4926</th>\n",
       "      <td>Water, in air</td>\n",
       "      <td>(natural resource, in air)</td>\n",
       "      <td>particleboard production, cement bonded</td>\n",
       "      <td>particleboard, cement bonded</td>\n",
       "      <td>RER</td>\n",
       "      <td>8.635607e-19</td>\n",
       "      <td>6.750246</td>\n",
       "      <td>5.829247e-18</td>\n",
       "    </tr>\n",
       "    <tr>\n",
       "      <th>4927</th>\n",
       "      <td>Water, in air</td>\n",
       "      <td>(natural resource, in air)</td>\n",
       "      <td>liquid packaging board production</td>\n",
       "      <td>bark</td>\n",
       "      <td>RoW</td>\n",
       "      <td>2.185130e-18</td>\n",
       "      <td>19.819034</td>\n",
       "      <td>4.330716e-17</td>\n",
       "    </tr>\n",
       "  </tbody>\n",
       "</table>\n",
       "<p>4928 rows × 8 columns</p>\n",
       "</div>"
      ],
      "text/plain": [
       "                                   supplier name  \\\n",
       "0     Water, cooling, unspecified natural origin   \n",
       "1     Water, cooling, unspecified natural origin   \n",
       "2     Water, cooling, unspecified natural origin   \n",
       "3     Water, cooling, unspecified natural origin   \n",
       "4     Water, cooling, unspecified natural origin   \n",
       "...                                          ...   \n",
       "4923                               Water, in air   \n",
       "4924                               Water, in air   \n",
       "4925                               Water, in air   \n",
       "4926                               Water, in air   \n",
       "4927                               Water, in air   \n",
       "\n",
       "               supplier categories  \\\n",
       "0     (natural resource, in water)   \n",
       "1     (natural resource, in water)   \n",
       "2     (natural resource, in water)   \n",
       "3     (natural resource, in water)   \n",
       "4     (natural resource, in water)   \n",
       "...                            ...   \n",
       "4923    (natural resource, in air)   \n",
       "4924    (natural resource, in air)   \n",
       "4925    (natural resource, in air)   \n",
       "4926    (natural resource, in air)   \n",
       "4927    (natural resource, in air)   \n",
       "\n",
       "                                          consumer name  \\\n",
       "0     particleboard production, uncoated, from virgi...   \n",
       "1                 heat and power co-generation, lignite   \n",
       "2                                   atrazine production   \n",
       "3                                 sheet rolling, copper   \n",
       "4         phosphoric acid production, dihydrate process   \n",
       "...                                                 ...   \n",
       "4923                         soy-based resin production   \n",
       "4924                         soy-based resin production   \n",
       "4925                                 clinker production   \n",
       "4926            particleboard production, cement bonded   \n",
       "4927                  liquid packaging board production   \n",
       "\n",
       "                             consumer reference product consumer location  \\\n",
       "0                               particleboard, uncoated               RoW   \n",
       "1                             electricity, high voltage                SI   \n",
       "2                                              atrazine               RoW   \n",
       "3                                 sheet rolling, copper               RoW   \n",
       "4     phosphoric acid, fertiliser grade, without wat...                MA   \n",
       "...                                                 ...               ...   \n",
       "4923                       polyester resin, unsaturated                US   \n",
       "4924                       polyester resin, unsaturated               RoW   \n",
       "4925                                            clinker               RoW   \n",
       "4926                       particleboard, cement bonded               RER   \n",
       "4927                                               bark               RoW   \n",
       "\n",
       "            amount         CF        impact  \n",
       "0     6.544631e-11  20.179399  1.320667e-09  \n",
       "1     1.453419e-07   1.087201  1.580158e-07  \n",
       "2     4.228744e-12  19.819034  8.380961e-11  \n",
       "3     1.290820e-10  19.819034  2.558280e-09  \n",
       "4     5.123237e-08  54.031045  2.768139e-06  \n",
       "...            ...        ...           ...  \n",
       "4923  4.729868e-16   9.087076  4.298067e-15  \n",
       "4924  1.378576e-15  20.175187  2.781303e-14  \n",
       "4925  1.625316e-09  20.627229  3.352577e-08  \n",
       "4926  8.635607e-19   6.750246  5.829247e-18  \n",
       "4927  2.185130e-18  19.819034  4.330716e-17  \n",
       "\n",
       "[4928 rows x 8 columns]"
      ]
     },
     "execution_count": 7,
     "metadata": {},
     "output_type": "execute_result"
    }
   ],
   "source": [
    "LCA.generate_cf_table()"
   ]
  },
  {
   "cell_type": "code",
   "execution_count": 7,
   "id": "7961940618b7aca6",
   "metadata": {
    "ExecuteTime": {
     "end_time": "2024-12-15T17:50:34.701932Z",
     "start_time": "2024-12-15T17:50:34.696160Z"
    }
   },
   "outputs": [
    {
     "data": {
      "text/plain": [
       "set()"
      ]
     },
     "execution_count": 7,
     "metadata": {},
     "output_type": "execute_result"
    }
   ],
   "source": [
    "LCA.ignored_locations"
   ]
  },
  {
   "cell_type": "code",
   "execution_count": 9,
   "id": "92b1b43be6023d7a",
   "metadata": {
    "ExecuteTime": {
     "end_time": "2025-03-12T15:31:19.780115Z",
     "start_time": "2025-03-12T15:31:19.775152Z"
    }
   },
   "outputs": [],
   "source": [
    "method = ('AWARE 1.2c', 'Country', 'mixed', 'yearly')\n",
    "convmethod = (\n",
    "  # 'ecoinvent-3.10',\n",
    "  'EF v3.1 EN15804',\n",
    "  'water use',\n",
    "  'user deprivation potential (deprivation-weighted water consumption)')"
   ]
  },
  {
   "cell_type": "code",
   "execution_count": 10,
   "id": "e4bc7f7d309a36bf",
   "metadata": {
    "ExecuteTime": {
     "end_time": "2025-03-12T15:31:21.118432Z",
     "start_time": "2025-03-12T15:31:20.271537Z"
    }
   },
   "outputs": [
    {
     "name": "stderr",
     "output_type": "stream",
     "text": [
      "/opt/homebrew/Caskroom/miniforge/base/envs/bw2/lib/python3.11/site-packages/scikits/umfpack/umfpack.py:736: UmfpackWarning: (almost) singular matrix! (estimated cond. number: 4.83e+13)\n",
      "  warnings.warn(msg, UmfpackWarning)\n"
     ]
    },
    {
     "data": {
      "text/plain": [
       "0.06176615560312869"
      ]
     },
     "execution_count": 10,
     "metadata": {},
     "output_type": "execute_result"
    }
   ],
   "source": [
    "import bw2calc\n",
    "\n",
    "convLCA = bw2calc.LCA({act: 1}, convmethod)\n",
    "convLCA.lci()\n",
    "convLCA.lcia()\n",
    "convLCA.score"
   ]
  },
  {
   "cell_type": "code",
   "execution_count": null,
   "id": "693d8b4bbb10bedb",
   "metadata": {},
   "outputs": [],
   "source": []
  }
 ],
 "metadata": {
  "kernelspec": {
   "display_name": "Python 3 (ipykernel)",
   "language": "python",
   "name": "python3"
  },
  "language_info": {
   "codemirror_mode": {
    "name": "ipython",
    "version": 3
   },
   "file_extension": ".py",
   "mimetype": "text/x-python",
   "name": "python",
   "nbconvert_exporter": "python",
   "pygments_lexer": "ipython3",
   "version": "3.11.11"
  }
 },
 "nbformat": 4,
 "nbformat_minor": 5
}
