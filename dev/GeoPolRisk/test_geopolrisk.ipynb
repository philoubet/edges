{
 "cells": [
  {
   "cell_type": "code",
   "execution_count": 1,
   "id": "initial_id",
   "metadata": {
    "ExecuteTime": {
     "end_time": "2025-03-19T08:22:44.210405Z",
     "start_time": "2025-03-19T08:22:42.211983Z"
    }
   },
   "outputs": [],
   "source": [
    "import bw2data, bw2calc, bw2io\n",
    "from brightway2 import projects, Database, LCA\n",
    "from edges import EdgeLCIA, get_available_methods\n",
    "from bw2analyzer.contribution import ContributionAnalysis"
   ]
  },
  {
   "cell_type": "code",
   "execution_count": 2,
   "id": "60fb4583bf7ce4de",
   "metadata": {
    "ExecuteTime": {
     "end_time": "2025-03-19T08:28:28.927751Z",
     "start_time": "2025-03-19T08:28:28.568261Z"
    }
   },
   "outputs": [
    {
     "data": {
      "text/plain": [
       "'road maintenance' (meter-year, Europe without Switzerland, None)"
      ]
     },
     "execution_count": 2,
     "metadata": {},
     "output_type": "execute_result"
    }
   ],
   "source": [
    "projects.set_current(\"intermediate_flows\")\n",
    "act = bw2data.Database(\"ecoinvent-3.10-cutoff\").random()\n",
    "act"
   ]
  },
  {
   "cell_type": "code",
   "execution_count": 3,
   "id": "69aa2b2fa49ca85b",
   "metadata": {
    "ExecuteTime": {
     "end_time": "2025-03-19T08:28:36.997403Z",
     "start_time": "2025-03-19T08:28:32.065062Z"
    }
   },
   "outputs": [
    {
     "name": "stdout",
     "output_type": "stream",
     "text": [
      "Identifying eligible exchanges...\n"
     ]
    },
    {
     "name": "stderr",
     "output_type": "stream",
     "text": [
      "100%|██████████████████████████████████████████████████████████████████████████| 51932/51932 [00:16<00:00, 3208.99it/s]\n"
     ]
    },
    {
     "name": "stdout",
     "output_type": "stream",
     "text": [
      "0 processed biosphere edges\n",
      "161 processed technosphere edges\n",
      "Handling static regions...\n"
     ]
    },
    {
     "name": "stderr",
     "output_type": "stream",
     "text": [
      "Processing static groups (pass 1): 0it [00:00, ?it/s]\n",
      "Processing remaining static edges (pass 2): 0it [00:00, ?it/s]\n",
      "Processing static groups (pass 1): 100%|█████████████████████████████████████████████████| 6/6 [00:00<00:00, 87.28it/s]\n",
      "Processing remaining static edges (pass 2): 100%|████████████████████████████████| 37645/37645 [06:55<00:00, 90.60it/s]\n"
     ]
    },
    {
     "name": "stdout",
     "output_type": "stream",
     "text": [
      "0 processed biosphere edges\n",
      "227 processed technosphere edges\n",
      "Handling dynamic regions...\n"
     ]
    },
    {
     "name": "stderr",
     "output_type": "stream",
     "text": [
      "Processing remaining dynamic edges (pass 2): 100%|███████████████████████████████| 67941/67941 [14:33<00:00, 77.75it/s]\n"
     ]
    },
    {
     "name": "stdout",
     "output_type": "stream",
     "text": [
      "0 processed biosphere edges\n",
      "309 processed technosphere edges\n",
      "Handling remaining exchanges...\n"
     ]
    },
    {
     "name": "stderr",
     "output_type": "stream",
     "text": [
      "Processing global groups (pass 1): 100%|█████████████████████████████████████████████████| 5/5 [00:00<00:00, 71.55it/s]\n",
      "Processing remaining global edges (pass 2): 100%|██████████████████████████████| 154786/154786 [34:50<00:00, 74.06it/s]\n"
     ]
    },
    {
     "name": "stdout",
     "output_type": "stream",
     "text": [
      "0 processed biosphere edges\n",
      "624 processed technosphere edges\n"
     ]
    }
   ],
   "source": [
    "method = ('GeoPolRisk', 'paired', '2024')\n",
    "LCA = EdgeLCIA({act: 1}, method)\n",
    "LCA.lci()\n",
    "LCA.map_exchanges()\n",
    "LCA.map_aggregate_locations()\n",
    "LCA.map_dynamic_locations()\n",
    "LCA.map_remaining_locations_to_global()\n",
    "LCA.evaluate_cfs()\n",
    "LCA.lcia()"
   ]
  },
  {
   "cell_type": "code",
   "execution_count": 4,
   "id": "b2a3b6f9e9373ccb",
   "metadata": {
    "ExecuteTime": {
     "end_time": "2025-03-19T08:28:40.518931Z",
     "start_time": "2025-03-19T08:28:40.440962Z"
    }
   },
   "outputs": [],
   "source": [
    "df = LCA.generate_cf_table()"
   ]
  },
  {
   "cell_type": "code",
   "execution_count": 5,
   "id": "8302e1f41ff8c048",
   "metadata": {
    "ExecuteTime": {
     "end_time": "2025-03-19T08:28:41.322884Z",
     "start_time": "2025-03-19T08:28:41.319516Z"
    }
   },
   "outputs": [
    {
     "data": {
      "text/plain": [
       "624"
      ]
     },
     "execution_count": 5,
     "metadata": {},
     "output_type": "execute_result"
    }
   ],
   "source": [
    "len(df)"
   ]
  },
  {
   "cell_type": "code",
   "execution_count": 6,
   "id": "167839e9f16b2d8a",
   "metadata": {
    "ExecuteTime": {
     "end_time": "2025-03-19T08:28:48.962720Z",
     "start_time": "2025-03-19T08:28:48.956412Z"
    }
   },
   "outputs": [
    {
     "data": {
      "text/html": [
       "<div>\n",
       "<style scoped>\n",
       "    .dataframe tbody tr th:only-of-type {\n",
       "        vertical-align: middle;\n",
       "    }\n",
       "\n",
       "    .dataframe tbody tr th {\n",
       "        vertical-align: top;\n",
       "    }\n",
       "\n",
       "    .dataframe thead th {\n",
       "        text-align: right;\n",
       "    }\n",
       "</style>\n",
       "<table border=\"1\" class=\"dataframe\">\n",
       "  <thead>\n",
       "    <tr style=\"text-align: right;\">\n",
       "      <th></th>\n",
       "      <th>supplier name</th>\n",
       "      <th>supplier reference product</th>\n",
       "      <th>supplier location</th>\n",
       "      <th>consumer name</th>\n",
       "      <th>consumer reference product</th>\n",
       "      <th>consumer location</th>\n",
       "      <th>amount</th>\n",
       "      <th>CF</th>\n",
       "      <th>impact</th>\n",
       "    </tr>\n",
       "  </thead>\n",
       "  <tbody>\n",
       "    <tr>\n",
       "      <th>0</th>\n",
       "      <td>antimony production</td>\n",
       "      <td>antimony</td>\n",
       "      <td>CN</td>\n",
       "      <td>market for antimony</td>\n",
       "      <td>antimony</td>\n",
       "      <td>GLO</td>\n",
       "      <td>1.880740e-09</td>\n",
       "      <td>3.035590e-02</td>\n",
       "      <td>5.709157e-11</td>\n",
       "    </tr>\n",
       "    <tr>\n",
       "      <th>1</th>\n",
       "      <td>asbestos production, chrysotile type</td>\n",
       "      <td>asbestos, chrysotile type</td>\n",
       "      <td>GLO</td>\n",
       "      <td>market for asbestos, chrysotile type</td>\n",
       "      <td>asbestos, chrysotile type</td>\n",
       "      <td>GLO</td>\n",
       "      <td>6.218230e-06</td>\n",
       "      <td>2.439718e-01</td>\n",
       "      <td>1.517073e-06</td>\n",
       "    </tr>\n",
       "    <tr>\n",
       "      <th>2</th>\n",
       "      <td>boron carbide production</td>\n",
       "      <td>boron carbide</td>\n",
       "      <td>GLO</td>\n",
       "      <td>market for boron carbide</td>\n",
       "      <td>boron carbide</td>\n",
       "      <td>GLO</td>\n",
       "      <td>2.598466e-07</td>\n",
       "      <td>4.938188e+02</td>\n",
       "      <td>1.283171e-04</td>\n",
       "    </tr>\n",
       "    <tr>\n",
       "      <th>3</th>\n",
       "      <td>cadmium production, primary</td>\n",
       "      <td>cadmium</td>\n",
       "      <td>CA-QC</td>\n",
       "      <td>market for cadmium</td>\n",
       "      <td>cadmium</td>\n",
       "      <td>GLO</td>\n",
       "      <td>2.339500e-12</td>\n",
       "      <td>1.158364e-03</td>\n",
       "      <td>2.709993e-15</td>\n",
       "    </tr>\n",
       "    <tr>\n",
       "      <th>4</th>\n",
       "      <td>hard coal power plant construction, 100MW</td>\n",
       "      <td>hard coal power plant</td>\n",
       "      <td>GLO</td>\n",
       "      <td>market for hard coal power plant</td>\n",
       "      <td>hard coal power plant</td>\n",
       "      <td>GLO</td>\n",
       "      <td>5.877552e-12</td>\n",
       "      <td>1.015435e-01</td>\n",
       "      <td>5.968273e-13</td>\n",
       "    </tr>\n",
       "    <tr>\n",
       "      <th>...</th>\n",
       "      <td>...</td>\n",
       "      <td>...</td>\n",
       "      <td>...</td>\n",
       "      <td>...</td>\n",
       "      <td>...</td>\n",
       "      <td>...</td>\n",
       "      <td>...</td>\n",
       "      <td>...</td>\n",
       "      <td>...</td>\n",
       "    </tr>\n",
       "    <tr>\n",
       "      <th>619</th>\n",
       "      <td>petroleum and gas production, offshore</td>\n",
       "      <td>petroleum</td>\n",
       "      <td>GB</td>\n",
       "      <td>market for petroleum</td>\n",
       "      <td>petroleum</td>\n",
       "      <td>PE</td>\n",
       "      <td>2.348050e-06</td>\n",
       "      <td>1.012638e-03</td>\n",
       "      <td>2.377724e-09</td>\n",
       "    </tr>\n",
       "    <tr>\n",
       "      <th>620</th>\n",
       "      <td>petroleum and gas production, offshore</td>\n",
       "      <td>petroleum</td>\n",
       "      <td>US</td>\n",
       "      <td>market for petroleum</td>\n",
       "      <td>petroleum</td>\n",
       "      <td>RNA</td>\n",
       "      <td>3.110766e-03</td>\n",
       "      <td>2.817661e-03</td>\n",
       "      <td>8.765084e-06</td>\n",
       "    </tr>\n",
       "    <tr>\n",
       "      <th>621</th>\n",
       "      <td>petroleum and gas production, offshore</td>\n",
       "      <td>petroleum</td>\n",
       "      <td>KZ</td>\n",
       "      <td>market for petroleum</td>\n",
       "      <td>petroleum</td>\n",
       "      <td>BR</td>\n",
       "      <td>1.991056e-07</td>\n",
       "      <td>4.411840e-03</td>\n",
       "      <td>8.784221e-10</td>\n",
       "    </tr>\n",
       "    <tr>\n",
       "      <th>622</th>\n",
       "      <td>petroleum and gas production, onshore</td>\n",
       "      <td>natural gas, high pressure</td>\n",
       "      <td>CA</td>\n",
       "      <td>natural gas, burned in gas turbine</td>\n",
       "      <td>natural gas, burned in gas turbine</td>\n",
       "      <td>CA</td>\n",
       "      <td>2.068086e-05</td>\n",
       "      <td>2.119900e-11</td>\n",
       "      <td>4.384135e-16</td>\n",
       "    </tr>\n",
       "    <tr>\n",
       "      <th>623</th>\n",
       "      <td>petroleum and gas production, onshore</td>\n",
       "      <td>petroleum</td>\n",
       "      <td>MY</td>\n",
       "      <td>market for petroleum</td>\n",
       "      <td>petroleum</td>\n",
       "      <td>RNA</td>\n",
       "      <td>1.212857e-07</td>\n",
       "      <td>1.789913e-06</td>\n",
       "      <td>2.170909e-13</td>\n",
       "    </tr>\n",
       "  </tbody>\n",
       "</table>\n",
       "<p>624 rows × 9 columns</p>\n",
       "</div>"
      ],
      "text/plain": [
       "                                 supplier name  supplier reference product  \\\n",
       "0                          antimony production                    antimony   \n",
       "1         asbestos production, chrysotile type   asbestos, chrysotile type   \n",
       "2                     boron carbide production               boron carbide   \n",
       "3                  cadmium production, primary                     cadmium   \n",
       "4    hard coal power plant construction, 100MW       hard coal power plant   \n",
       "..                                         ...                         ...   \n",
       "619     petroleum and gas production, offshore                   petroleum   \n",
       "620     petroleum and gas production, offshore                   petroleum   \n",
       "621     petroleum and gas production, offshore                   petroleum   \n",
       "622      petroleum and gas production, onshore  natural gas, high pressure   \n",
       "623      petroleum and gas production, onshore                   petroleum   \n",
       "\n",
       "    supplier location                         consumer name  \\\n",
       "0                  CN                   market for antimony   \n",
       "1                 GLO  market for asbestos, chrysotile type   \n",
       "2                 GLO              market for boron carbide   \n",
       "3               CA-QC                    market for cadmium   \n",
       "4                 GLO      market for hard coal power plant   \n",
       "..                ...                                   ...   \n",
       "619                GB                  market for petroleum   \n",
       "620                US                  market for petroleum   \n",
       "621                KZ                  market for petroleum   \n",
       "622                CA    natural gas, burned in gas turbine   \n",
       "623                MY                  market for petroleum   \n",
       "\n",
       "             consumer reference product consumer location        amount  \\\n",
       "0                              antimony               GLO  1.880740e-09   \n",
       "1             asbestos, chrysotile type               GLO  6.218230e-06   \n",
       "2                         boron carbide               GLO  2.598466e-07   \n",
       "3                               cadmium               GLO  2.339500e-12   \n",
       "4                 hard coal power plant               GLO  5.877552e-12   \n",
       "..                                  ...               ...           ...   \n",
       "619                           petroleum                PE  2.348050e-06   \n",
       "620                           petroleum               RNA  3.110766e-03   \n",
       "621                           petroleum                BR  1.991056e-07   \n",
       "622  natural gas, burned in gas turbine                CA  2.068086e-05   \n",
       "623                           petroleum               RNA  1.212857e-07   \n",
       "\n",
       "               CF        impact  \n",
       "0    3.035590e-02  5.709157e-11  \n",
       "1    2.439718e-01  1.517073e-06  \n",
       "2    4.938188e+02  1.283171e-04  \n",
       "3    1.158364e-03  2.709993e-15  \n",
       "4    1.015435e-01  5.968273e-13  \n",
       "..            ...           ...  \n",
       "619  1.012638e-03  2.377724e-09  \n",
       "620  2.817661e-03  8.765084e-06  \n",
       "621  4.411840e-03  8.784221e-10  \n",
       "622  2.119900e-11  4.384135e-16  \n",
       "623  1.789913e-06  2.170909e-13  \n",
       "\n",
       "[624 rows x 9 columns]"
      ]
     },
     "execution_count": 6,
     "metadata": {},
     "output_type": "execute_result"
    }
   ],
   "source": [
    "df"
   ]
  },
  {
   "cell_type": "code",
   "execution_count": 7,
   "id": "1daf91e319d5bbf6",
   "metadata": {
    "ExecuteTime": {
     "end_time": "2025-03-19T08:10:43.286005Z",
     "start_time": "2025-03-19T08:10:43.279978Z"
    }
   },
   "outputs": [
    {
     "data": {
      "text/plain": [
       "supplier location  consumer location                 \n",
       "AE                 AE                                    3.023773e-08\n",
       "                   IN                                    4.279602e-07\n",
       "                   RNA                                   3.293058e-09\n",
       "                   RoW                                   8.478851e-08\n",
       "                   ZA                                    1.808944e-08\n",
       "                                                             ...     \n",
       "ZA                 Europe, without Russia and Türkiye    1.457330e-04\n",
       "                   GLO                                   1.611874e-05\n",
       "                   IN                                    8.189199e-08\n",
       "                   ZA                                    1.776043e-05\n",
       "ZM                 GLO                                   2.642485e-06\n",
       "Name: impact, Length: 245, dtype: float64"
      ]
     },
     "execution_count": 7,
     "metadata": {},
     "output_type": "execute_result"
    }
   ],
   "source": [
    "df.groupby([\"supplier location\", \"consumer location\"])[\"impact\"].mean()"
   ]
  },
  {
   "cell_type": "code",
   "execution_count": 8,
   "id": "a49e1726c5aa554c",
   "metadata": {
    "ExecuteTime": {
     "end_time": "2025-03-19T08:07:58.406538Z",
     "start_time": "2025-03-19T08:07:58.401408Z"
    }
   },
   "outputs": [
    {
     "name": "stdout",
     "output_type": "stream",
     "text": [
      "+----------------------+----------------------------------+\n",
      "|       Activity       |         road maintenance         |\n",
      "|     Method name      | ('GeoPolRisk', 'paired', '2024') |\n",
      "|      Data file       |      GeoPolRisk_paired_2024      |\n",
      "|    CFs in method     |              51932               |\n",
      "|       CFs used       |               564                |\n",
      "|  Exc. characterized  |               624                |\n",
      "| Exc. uncharacterized |              154476              |\n",
      "+----------------------+----------------------------------+\n"
     ]
    }
   ],
   "source": [
    "LCA.statistics()"
   ]
  },
  {
   "cell_type": "code",
   "execution_count": 9,
   "id": "9d00bbea6fac2fb4",
   "metadata": {
    "ExecuteTime": {
     "end_time": "2025-03-16T20:12:32.148171Z",
     "start_time": "2025-03-16T20:12:32.141783Z"
    }
   },
   "outputs": [
    {
     "data": {
      "text/plain": [
       "0.013941447552450244"
      ]
     },
     "execution_count": 9,
     "metadata": {},
     "output_type": "execute_result"
    }
   ],
   "source": [
    "LCA.score"
   ]
  },
  {
   "cell_type": "code",
   "execution_count": 10,
   "id": "587d09d00fa686f5",
   "metadata": {
    "ExecuteTime": {
     "end_time": "2025-03-16T20:04:02.366480Z",
     "start_time": "2025-03-16T20:04:02.263092Z"
    }
   },
   "outputs": [],
   "source": [
    "df = LCA.generate_cf_table()"
   ]
  },
  {
   "cell_type": "code",
   "execution_count": 11,
   "id": "f129e5fc4a42bf21",
   "metadata": {
    "ExecuteTime": {
     "end_time": "2025-03-16T20:04:05.921431Z",
     "start_time": "2025-03-16T20:04:05.912183Z"
    }
   },
   "outputs": [
    {
     "data": {
      "text/html": [
       "<div>\n",
       "<style scoped>\n",
       "    .dataframe tbody tr th:only-of-type {\n",
       "        vertical-align: middle;\n",
       "    }\n",
       "\n",
       "    .dataframe tbody tr th {\n",
       "        vertical-align: top;\n",
       "    }\n",
       "\n",
       "    .dataframe thead th {\n",
       "        text-align: right;\n",
       "    }\n",
       "</style>\n",
       "<table border=\"1\" class=\"dataframe\">\n",
       "  <thead>\n",
       "    <tr style=\"text-align: right;\">\n",
       "      <th></th>\n",
       "      <th>supplier name</th>\n",
       "      <th>supplier reference product</th>\n",
       "      <th>supplier location</th>\n",
       "      <th>consumer name</th>\n",
       "      <th>consumer reference product</th>\n",
       "      <th>consumer location</th>\n",
       "      <th>amount</th>\n",
       "      <th>CF</th>\n",
       "      <th>impact</th>\n",
       "    </tr>\n",
       "  </thead>\n",
       "  <tbody>\n",
       "    <tr>\n",
       "      <th>0</th>\n",
       "      <td>antimony production</td>\n",
       "      <td>antimony</td>\n",
       "      <td>CN</td>\n",
       "      <td>market for antimony</td>\n",
       "      <td>antimony</td>\n",
       "      <td>GLO</td>\n",
       "      <td>1.880740e-09</td>\n",
       "      <td>3.035590e-02</td>\n",
       "      <td>5.709157e-11</td>\n",
       "    </tr>\n",
       "    <tr>\n",
       "      <th>1</th>\n",
       "      <td>asbestos production, chrysotile type</td>\n",
       "      <td>asbestos, chrysotile type</td>\n",
       "      <td>GLO</td>\n",
       "      <td>market for asbestos, chrysotile type</td>\n",
       "      <td>asbestos, chrysotile type</td>\n",
       "      <td>GLO</td>\n",
       "      <td>6.218230e-06</td>\n",
       "      <td>2.439718e-01</td>\n",
       "      <td>1.517073e-06</td>\n",
       "    </tr>\n",
       "    <tr>\n",
       "      <th>2</th>\n",
       "      <td>boron carbide production</td>\n",
       "      <td>boron carbide</td>\n",
       "      <td>GLO</td>\n",
       "      <td>market for boron carbide</td>\n",
       "      <td>boron carbide</td>\n",
       "      <td>GLO</td>\n",
       "      <td>2.598466e-07</td>\n",
       "      <td>4.938188e+02</td>\n",
       "      <td>1.283171e-04</td>\n",
       "    </tr>\n",
       "    <tr>\n",
       "      <th>3</th>\n",
       "      <td>cadmium production, primary</td>\n",
       "      <td>cadmium</td>\n",
       "      <td>CA-QC</td>\n",
       "      <td>market for cadmium</td>\n",
       "      <td>cadmium</td>\n",
       "      <td>GLO</td>\n",
       "      <td>2.339500e-12</td>\n",
       "      <td>1.158364e-03</td>\n",
       "      <td>2.709993e-15</td>\n",
       "    </tr>\n",
       "    <tr>\n",
       "      <th>4</th>\n",
       "      <td>hard coal power plant construction, 100MW</td>\n",
       "      <td>hard coal power plant</td>\n",
       "      <td>GLO</td>\n",
       "      <td>market for hard coal power plant</td>\n",
       "      <td>hard coal power plant</td>\n",
       "      <td>GLO</td>\n",
       "      <td>5.877552e-12</td>\n",
       "      <td>1.015435e-01</td>\n",
       "      <td>5.968273e-13</td>\n",
       "    </tr>\n",
       "    <tr>\n",
       "      <th>...</th>\n",
       "      <td>...</td>\n",
       "      <td>...</td>\n",
       "      <td>...</td>\n",
       "      <td>...</td>\n",
       "      <td>...</td>\n",
       "      <td>...</td>\n",
       "      <td>...</td>\n",
       "      <td>...</td>\n",
       "      <td>...</td>\n",
       "    </tr>\n",
       "    <tr>\n",
       "      <th>619</th>\n",
       "      <td>petroleum and gas production, offshore</td>\n",
       "      <td>petroleum</td>\n",
       "      <td>GB</td>\n",
       "      <td>market for petroleum</td>\n",
       "      <td>petroleum</td>\n",
       "      <td>PE</td>\n",
       "      <td>2.348050e-06</td>\n",
       "      <td>1.012638e-03</td>\n",
       "      <td>2.377724e-09</td>\n",
       "    </tr>\n",
       "    <tr>\n",
       "      <th>620</th>\n",
       "      <td>petroleum and gas production, offshore</td>\n",
       "      <td>petroleum</td>\n",
       "      <td>US</td>\n",
       "      <td>market for petroleum</td>\n",
       "      <td>petroleum</td>\n",
       "      <td>RNA</td>\n",
       "      <td>3.110766e-03</td>\n",
       "      <td>2.817661e-03</td>\n",
       "      <td>8.765084e-06</td>\n",
       "    </tr>\n",
       "    <tr>\n",
       "      <th>621</th>\n",
       "      <td>petroleum and gas production, offshore</td>\n",
       "      <td>petroleum</td>\n",
       "      <td>KZ</td>\n",
       "      <td>market for petroleum</td>\n",
       "      <td>petroleum</td>\n",
       "      <td>BR</td>\n",
       "      <td>1.991056e-07</td>\n",
       "      <td>4.411840e-03</td>\n",
       "      <td>8.784221e-10</td>\n",
       "    </tr>\n",
       "    <tr>\n",
       "      <th>622</th>\n",
       "      <td>petroleum and gas production, onshore</td>\n",
       "      <td>natural gas, high pressure</td>\n",
       "      <td>CA</td>\n",
       "      <td>natural gas, burned in gas turbine</td>\n",
       "      <td>natural gas, burned in gas turbine</td>\n",
       "      <td>CA</td>\n",
       "      <td>2.068086e-05</td>\n",
       "      <td>2.119900e-11</td>\n",
       "      <td>4.384135e-16</td>\n",
       "    </tr>\n",
       "    <tr>\n",
       "      <th>623</th>\n",
       "      <td>petroleum and gas production, onshore</td>\n",
       "      <td>petroleum</td>\n",
       "      <td>MY</td>\n",
       "      <td>market for petroleum</td>\n",
       "      <td>petroleum</td>\n",
       "      <td>RNA</td>\n",
       "      <td>1.212857e-07</td>\n",
       "      <td>1.789913e-06</td>\n",
       "      <td>2.170909e-13</td>\n",
       "    </tr>\n",
       "  </tbody>\n",
       "</table>\n",
       "<p>624 rows × 9 columns</p>\n",
       "</div>"
      ],
      "text/plain": [
       "                                 supplier name  supplier reference product  \\\n",
       "0                          antimony production                    antimony   \n",
       "1         asbestos production, chrysotile type   asbestos, chrysotile type   \n",
       "2                     boron carbide production               boron carbide   \n",
       "3                  cadmium production, primary                     cadmium   \n",
       "4    hard coal power plant construction, 100MW       hard coal power plant   \n",
       "..                                         ...                         ...   \n",
       "619     petroleum and gas production, offshore                   petroleum   \n",
       "620     petroleum and gas production, offshore                   petroleum   \n",
       "621     petroleum and gas production, offshore                   petroleum   \n",
       "622      petroleum and gas production, onshore  natural gas, high pressure   \n",
       "623      petroleum and gas production, onshore                   petroleum   \n",
       "\n",
       "    supplier location                         consumer name  \\\n",
       "0                  CN                   market for antimony   \n",
       "1                 GLO  market for asbestos, chrysotile type   \n",
       "2                 GLO              market for boron carbide   \n",
       "3               CA-QC                    market for cadmium   \n",
       "4                 GLO      market for hard coal power plant   \n",
       "..                ...                                   ...   \n",
       "619                GB                  market for petroleum   \n",
       "620                US                  market for petroleum   \n",
       "621                KZ                  market for petroleum   \n",
       "622                CA    natural gas, burned in gas turbine   \n",
       "623                MY                  market for petroleum   \n",
       "\n",
       "             consumer reference product consumer location        amount  \\\n",
       "0                              antimony               GLO  1.880740e-09   \n",
       "1             asbestos, chrysotile type               GLO  6.218230e-06   \n",
       "2                         boron carbide               GLO  2.598466e-07   \n",
       "3                               cadmium               GLO  2.339500e-12   \n",
       "4                 hard coal power plant               GLO  5.877552e-12   \n",
       "..                                  ...               ...           ...   \n",
       "619                           petroleum                PE  2.348050e-06   \n",
       "620                           petroleum               RNA  3.110766e-03   \n",
       "621                           petroleum                BR  1.991056e-07   \n",
       "622  natural gas, burned in gas turbine                CA  2.068086e-05   \n",
       "623                           petroleum               RNA  1.212857e-07   \n",
       "\n",
       "               CF        impact  \n",
       "0    3.035590e-02  5.709157e-11  \n",
       "1    2.439718e-01  1.517073e-06  \n",
       "2    4.938188e+02  1.283171e-04  \n",
       "3    1.158364e-03  2.709993e-15  \n",
       "4    1.015435e-01  5.968273e-13  \n",
       "..            ...           ...  \n",
       "619  1.012638e-03  2.377724e-09  \n",
       "620  2.817661e-03  8.765084e-06  \n",
       "621  4.411840e-03  8.784221e-10  \n",
       "622  2.119900e-11  4.384135e-16  \n",
       "623  1.789913e-06  2.170909e-13  \n",
       "\n",
       "[624 rows x 9 columns]"
      ]
     },
     "execution_count": 11,
     "metadata": {},
     "output_type": "execute_result"
    }
   ],
   "source": [
    "df"
   ]
  },
  {
   "cell_type": "code",
   "execution_count": 12,
   "id": "2fe1fc0887594867",
   "metadata": {
    "ExecuteTime": {
     "end_time": "2025-03-16T20:03:51.537925Z",
     "start_time": "2025-03-16T20:03:51.487389Z"
    }
   },
   "outputs": [
    {
     "name": "stdout",
     "output_type": "stream",
     "text": [
      "+----------------------+----------------------------------+\n",
      "|       Activity       |         road maintenance         |\n",
      "|     Method name      | ('GeoPolRisk', 'paired', '2024') |\n",
      "|      Data file       |      GeoPolRisk_paired_2024      |\n",
      "|    CFs in method     |              51932               |\n",
      "|       CFs used       |               564                |\n",
      "|  Exc. characterized  |               624                |\n",
      "| Exc. uncharacterized |              154476              |\n",
      "+----------------------+----------------------------------+\n"
     ]
    }
   ],
   "source": [
    "LCA.statistics()"
   ]
  },
  {
   "cell_type": "code",
   "execution_count": 13,
   "id": "34fbc8a561ae57cb",
   "metadata": {
    "ExecuteTime": {
     "end_time": "2025-03-19T08:27:21.541570Z",
     "start_time": "2025-03-19T08:27:16.024163Z"
    }
   },
   "outputs": [
    {
     "name": "stderr",
     "output_type": "stream",
     "text": [
      "C:\\Users\\Ploubet001\\.conda\\envs\\ab2\\Lib\\site-packages\\bw2data\\backends\\peewee\\database.py:127: UserWarning: This database is empty\n",
      "  warnings.warn(\"This database is empty\")\n"
     ]
    },
    {
     "name": "stdout",
     "output_type": "stream",
     "text": [
      "None\n"
     ]
    },
    {
     "ename": "ValueError",
     "evalue": "Invalid demand dictionary",
     "output_type": "error",
     "traceback": [
      "\u001b[1;31m---------------------------------------------------------------------------\u001b[0m",
      "\u001b[1;31mValueError\u001b[0m                                Traceback (most recent call last)",
      "Cell \u001b[1;32mIn[13], line 7\u001b[0m\n\u001b[0;32m      5\u001b[0m \u001b[38;5;28mprint\u001b[39m(act)\n\u001b[0;32m      6\u001b[0m \u001b[38;5;28;01mfor\u001b[39;00m method \u001b[38;5;129;01min\u001b[39;00m methods:\n\u001b[1;32m----> 7\u001b[0m     LCA \u001b[38;5;241m=\u001b[39m \u001b[43mEdgeLCIA\u001b[49m\u001b[43m(\u001b[49m\u001b[43m{\u001b[49m\u001b[43mact\u001b[49m\u001b[43m:\u001b[49m\u001b[43m \u001b[49m\u001b[38;5;241;43m1\u001b[39;49m\u001b[43m}\u001b[49m\u001b[43m,\u001b[49m\u001b[43m \u001b[49m\u001b[43mmethod\u001b[49m\u001b[43m)\u001b[49m\n\u001b[0;32m      8\u001b[0m     LCA\u001b[38;5;241m.\u001b[39mlci()\n\u001b[0;32m      9\u001b[0m     LCA\u001b[38;5;241m.\u001b[39mmap_exchanges()\n",
      "File \u001b[1;32m~\\.conda\\envs\\ab2\\Lib\\site-packages\\edges\\edgelcia.py:529\u001b[0m, in \u001b[0;36mEdgeLCIA.__init__\u001b[1;34m(self, demand, method, weight, parameters, scenario, filepath, allowed_functions, use_distributions, random_seed, iterations)\u001b[0m\n\u001b[0;32m    526\u001b[0m \u001b[38;5;28mself\u001b[39m\u001b[38;5;241m.\u001b[39mrandom_seed \u001b[38;5;241m=\u001b[39m random_seed \u001b[38;5;28;01mif\u001b[39;00m random_seed \u001b[38;5;129;01mis\u001b[39;00m \u001b[38;5;129;01mnot\u001b[39;00m \u001b[38;5;28;01mNone\u001b[39;00m \u001b[38;5;28;01melse\u001b[39;00m \u001b[38;5;241m42\u001b[39m\n\u001b[0;32m    527\u001b[0m \u001b[38;5;28mself\u001b[39m\u001b[38;5;241m.\u001b[39mrandom_state \u001b[38;5;241m=\u001b[39m np\u001b[38;5;241m.\u001b[39mrandom\u001b[38;5;241m.\u001b[39mdefault_rng(\u001b[38;5;28mself\u001b[39m\u001b[38;5;241m.\u001b[39mrandom_seed)\n\u001b[1;32m--> 529\u001b[0m \u001b[38;5;28mself\u001b[39m\u001b[38;5;241m.\u001b[39mlca \u001b[38;5;241m=\u001b[39m \u001b[43mbw2calc\u001b[49m\u001b[38;5;241;43m.\u001b[39;49m\u001b[43mLCA\u001b[49m\u001b[43m(\u001b[49m\u001b[43mdemand\u001b[49m\u001b[38;5;241;43m=\u001b[39;49m\u001b[38;5;28;43mself\u001b[39;49m\u001b[38;5;241;43m.\u001b[39;49m\u001b[43mdemand\u001b[49m\u001b[43m)\u001b[49m\n\u001b[0;32m    530\u001b[0m \u001b[38;5;28mself\u001b[39m\u001b[38;5;241m.\u001b[39mload_raw_lcia_data()\n\u001b[0;32m    531\u001b[0m \u001b[38;5;28mself\u001b[39m\u001b[38;5;241m.\u001b[39mcfs_mapping \u001b[38;5;241m=\u001b[39m []\n",
      "File \u001b[1;32m~\\.conda\\envs\\ab2\\Lib\\site-packages\\bw2calc\\lca.py:73\u001b[0m, in \u001b[0;36mLCA.__init__\u001b[1;34m(self, demand, method, weighting, normalization, database_filepath, log_config, presamples, seed, override_presamples_seed)\u001b[0m\n\u001b[0;32m     71\u001b[0m \u001b[38;5;28;01mfor\u001b[39;00m key \u001b[38;5;129;01min\u001b[39;00m demand:\n\u001b[0;32m     72\u001b[0m     \u001b[38;5;28;01mif\u001b[39;00m \u001b[38;5;129;01mnot\u001b[39;00m key:\n\u001b[1;32m---> 73\u001b[0m         \u001b[38;5;28;01mraise\u001b[39;00m \u001b[38;5;167;01mValueError\u001b[39;00m(\u001b[38;5;124m\"\u001b[39m\u001b[38;5;124mInvalid demand dictionary\u001b[39m\u001b[38;5;124m\"\u001b[39m)\n\u001b[0;32m     75\u001b[0m \u001b[38;5;28;01mif\u001b[39;00m log_config:\n\u001b[0;32m     76\u001b[0m     create_logger(\u001b[38;5;241m*\u001b[39m\u001b[38;5;241m*\u001b[39mlog_config)\n",
      "\u001b[1;31mValueError\u001b[0m: Invalid demand dictionary"
     ]
    }
   ],
   "source": [
    "import matplotlib.pyplot as plt\n",
    "methods = [('GeoPolRisk', 'paired', '2024'),]\n",
    "bw2data.projects.set_current(\"ecoinvent-3.10-cutoff\")\n",
    "act = bw2data.Database(\"ecoinvent-3.10.1-cutoff\").random()\n",
    "print(act)\n",
    "for method in methods:\n",
    "    LCA = EdgeLCIA({act: 1}, method)\n",
    "    LCA.lci()\n",
    "    LCA.map_exchanges()\n",
    "    LCA.map_aggregate_locations()\n",
    "    LCA.map_dynamic_locations()\n",
    "    LCA.map_remaining_locations_to_global()\n",
    "    LCA.evaluate_cfs()\n",
    "    LCA.lcia()\n",
    "    df = LCA.generate_cf_table()\n",
    "\n",
    "    cutoff = 0.01\n",
    "\n",
    "    # remove rows for which \"amount\" is below the cutoff\n",
    "    total = df[\"impact\"].sum()\n",
    "    df = df[df[\"impact\"] > cutoff * total]\n",
    "\n",
    "    # Plotting\n",
    "    fig, axes = plt.subplots(3, 2, figsize=(10, 12))\n",
    "\n",
    "    # 1. Bar plot of \"amount\" by \"supplier name\"\n",
    "    df.groupby(\"supplier name\")[\"impact\"].sum().plot(kind=\"bar\", ax=axes[0, 0])\n",
    "    axes[0, 0].set_title(\"Impact by Supplier Name\")\n",
    "    axes[0, 0].set_ylabel(\"Impact\")\n",
    "    axes[0, 0].tick_params(axis=\"x\", rotation=45)\n",
    "\n",
    "    # 2. Bar plot of \"amount\" by \"consumer name\"\n",
    "    df.groupby(\"consumer name\")[\"impact\"].sum().plot(kind=\"bar\", ax=axes[0, 1])\n",
    "    axes[0, 1].set_title(\"Impact by Consumer Name\")\n",
    "    axes[0, 1].set_ylabel(\"Impact\")\n",
    "    axes[0, 1].set_xticklabels(\n",
    "        [label.get_text().replace(\", \", \"\\n\") for label in axes[0, 1].get_xticklabels()],\n",
    "        rotation=45,\n",
    "        ha=\"right\",\n",
    "    )\n",
    "\n",
    "    # 3. Bar plot of \"impact\" by \"consumer location\"\n",
    "    df.groupby(\"consumer location\")[\"impact\"].sum().plot(kind=\"bar\", ax=axes[1, 0])\n",
    "    axes[1, 0].set_title(\"Impact by Consumer Location\")\n",
    "    axes[1, 0].set_ylabel(\"Impact\")\n",
    "    axes[1, 0].tick_params(axis=\"x\", rotation=45)\n",
    "\n",
    "\n",
    "    # 3. Bar plot of \"impact\" by \"supplier location\"\n",
    "    df.groupby(\"supplier location\")[\"impact\"].sum().plot(kind=\"bar\", ax=axes[1, 1])\n",
    "    axes[1, 1].set_title(\"Impact by Supplier Location\")\n",
    "    axes[1, 1].set_ylabel(\"Impact\")\n",
    "    axes[1, 1].tick_params(axis=\"x\", rotation=45)\n",
    "\n",
    "\n",
    "    # 4. Stacked bar plot for \"amount\" by \"consumer name\" and \"consumer location\"\n",
    "    df_grouped = df.groupby([\"supplier name\", \"supplier location\"])[\"impact\"].sum().unstack()\n",
    "    df_grouped.plot(kind=\"bar\", stacked=True, ax=axes[2, 0])\n",
    "    axes[2, 0].set_title(\"Impact by Supplier Name & Location (Stacked)\")\n",
    "    axes[2, 0].set_ylabel(\"Impact\")\n",
    "    axes[2, 0].set_xticklabels(\n",
    "        [label.get_text().replace(\", \", \"\\n\") for label in axes[2, 0].get_xticklabels()],\n",
    "        rotation=45,\n",
    "        ha=\"right\",\n",
    "    )\n",
    "    axes[2, 0].legend(title=\"Supplier Location\", loc=\"center left\", ncol=2)\n",
    "\n",
    "    # 5. Bar plot of average \"CF\" by \"consumer location\"\n",
    "    df.groupby([\"supplier name\", \"supplier location\"])[\"CF\"].mean().plot(kind=\"bar\", ax=axes[2, 1])\n",
    "    axes[2, 1].set_title(\"Average CF by Supplier Location\")\n",
    "    axes[2, 1].set_ylabel(\"CF\")\n",
    "    axes[2, 1].tick_params(axis=\"x\", rotation=45)\n",
    "\n",
    "\n",
    "    plt.tight_layout()\n",
    "    plt.show()\n",
    "\n",
    "    \n",
    "\n",
    "  #LCA.score"
   ]
  },
  {
   "cell_type": "code",
   "execution_count": 14,
   "id": "9c27d5f8-fbf1-469f-8daa-7ce8f5eb4480",
   "metadata": {
    "ExecuteTime": {
     "end_time": "2025-03-19T08:25:07.168564Z",
     "start_time": "2025-03-19T08:25:07.156602Z"
    }
   },
   "outputs": [
    {
     "data": {
      "text/plain": [
       "326    hard coal mine operation and hard coal prepara...\n",
       "378    market for sulfidic tailings, from silver mine...\n",
       "576    treatment of sulfidic tailings, from silver mi...\n",
       "323                petroleum and gas production, onshore\n",
       "126                petroleum and gas production, onshore\n",
       "                             ...                        \n",
       "463               petroleum and gas production, offshore\n",
       "110                petroleum and gas production, onshore\n",
       "381    treatment of residues, MSWI[F]-WWT, WW from pi...\n",
       "550    market for residues, MSWI[F]-WWT, WW from pig ...\n",
       "568               petroleum and gas production, offshore\n",
       "Name: supplier name, Length: 624, dtype: object"
      ]
     },
     "execution_count": 14,
     "metadata": {},
     "output_type": "execute_result"
    }
   ],
   "source": [
    "df.sort_values(by=\"impact\", ascending=False).loc[:, \"supplier name\"]"
   ]
  },
  {
   "cell_type": "code",
   "execution_count": 15,
   "id": "2c2841e9-ba9f-4536-82a0-5972d84ba459",
   "metadata": {},
   "outputs": [
    {
     "data": {
      "text/html": [
       "<div>\n",
       "<style scoped>\n",
       "    .dataframe tbody tr th:only-of-type {\n",
       "        vertical-align: middle;\n",
       "    }\n",
       "\n",
       "    .dataframe tbody tr th {\n",
       "        vertical-align: top;\n",
       "    }\n",
       "\n",
       "    .dataframe thead th {\n",
       "        text-align: right;\n",
       "    }\n",
       "</style>\n",
       "<table border=\"1\" class=\"dataframe\">\n",
       "  <thead>\n",
       "    <tr style=\"text-align: right;\">\n",
       "      <th></th>\n",
       "      <th>supplier name</th>\n",
       "      <th>supplier reference product</th>\n",
       "      <th>supplier location</th>\n",
       "      <th>consumer name</th>\n",
       "      <th>consumer reference product</th>\n",
       "      <th>consumer location</th>\n",
       "      <th>amount</th>\n",
       "      <th>CF</th>\n",
       "      <th>impact</th>\n",
       "    </tr>\n",
       "  </thead>\n",
       "  <tbody>\n",
       "  </tbody>\n",
       "</table>\n",
       "</div>"
      ],
      "text/plain": [
       "Empty DataFrame\n",
       "Columns: [supplier name, supplier reference product, supplier location, consumer name, consumer reference product, consumer location, amount, CF, impact]\n",
       "Index: []"
      ]
     },
     "execution_count": 15,
     "metadata": {},
     "output_type": "execute_result"
    }
   ],
   "source": [
    "df.loc[df[\"consumer name\"] == \"soybean production\"]"
   ]
  },
  {
   "cell_type": "code",
   "execution_count": 16,
   "id": "dc28b7a7-ed66-4e0b-ae43-116ea78b61c4",
   "metadata": {},
   "outputs": [
    {
     "data": {
      "text/html": [
       "<div>\n",
       "<style scoped>\n",
       "    .dataframe tbody tr th:only-of-type {\n",
       "        vertical-align: middle;\n",
       "    }\n",
       "\n",
       "    .dataframe tbody tr th {\n",
       "        vertical-align: top;\n",
       "    }\n",
       "\n",
       "    .dataframe thead th {\n",
       "        text-align: right;\n",
       "    }\n",
       "</style>\n",
       "<table border=\"1\" class=\"dataframe\">\n",
       "  <thead>\n",
       "    <tr style=\"text-align: right;\">\n",
       "      <th></th>\n",
       "      <th>supplier name</th>\n",
       "      <th>supplier reference product</th>\n",
       "      <th>supplier location</th>\n",
       "      <th>consumer name</th>\n",
       "      <th>consumer reference product</th>\n",
       "      <th>consumer location</th>\n",
       "      <th>amount</th>\n",
       "      <th>CF</th>\n",
       "      <th>impact</th>\n",
       "    </tr>\n",
       "  </thead>\n",
       "  <tbody>\n",
       "    <tr>\n",
       "      <th>326</th>\n",
       "      <td>hard coal mine operation and hard coal prepara...</td>\n",
       "      <td>hard coal</td>\n",
       "      <td>RU</td>\n",
       "      <td>market for hard coal</td>\n",
       "      <td>hard coal</td>\n",
       "      <td>RU</td>\n",
       "      <td>1.558913e-01</td>\n",
       "      <td>2.657538e-02</td>\n",
       "      <td>4.142872e-03</td>\n",
       "    </tr>\n",
       "    <tr>\n",
       "      <th>466</th>\n",
       "      <td>hard coal mine operation and hard coal prepara...</td>\n",
       "      <td>hard coal</td>\n",
       "      <td>CN</td>\n",
       "      <td>market for hard coal</td>\n",
       "      <td>hard coal</td>\n",
       "      <td>CN</td>\n",
       "      <td>1.500573e-01</td>\n",
       "      <td>1.073166e-03</td>\n",
       "      <td>1.610364e-04</td>\n",
       "    </tr>\n",
       "    <tr>\n",
       "      <th>569</th>\n",
       "      <td>petroleum and gas production, onshore</td>\n",
       "      <td>natural gas, high pressure</td>\n",
       "      <td>RU</td>\n",
       "      <td>natural gas, high pressure, import from RU</td>\n",
       "      <td>natural gas, high pressure</td>\n",
       "      <td>RoE</td>\n",
       "      <td>7.427591e-02</td>\n",
       "      <td>4.424862e-03</td>\n",
       "      <td>3.286607e-04</td>\n",
       "    </tr>\n",
       "    <tr>\n",
       "      <th>447</th>\n",
       "      <td>hard coal mine operation and hard coal prepara...</td>\n",
       "      <td>hard coal</td>\n",
       "      <td>AU</td>\n",
       "      <td>market for hard coal</td>\n",
       "      <td>hard coal</td>\n",
       "      <td>AU</td>\n",
       "      <td>6.788713e-02</td>\n",
       "      <td>1.644236e-03</td>\n",
       "      <td>1.116225e-04</td>\n",
       "    </tr>\n",
       "    <tr>\n",
       "      <th>591</th>\n",
       "      <td>petroleum and gas production, offshore</td>\n",
       "      <td>natural gas, high pressure</td>\n",
       "      <td>GB</td>\n",
       "      <td>natural gas, high pressure, domestic supply wi...</td>\n",
       "      <td>natural gas, high pressure</td>\n",
       "      <td>GB</td>\n",
       "      <td>5.995618e-02</td>\n",
       "      <td>1.877126e-04</td>\n",
       "      <td>1.125453e-05</td>\n",
       "    </tr>\n",
       "    <tr>\n",
       "      <th>...</th>\n",
       "      <td>...</td>\n",
       "      <td>...</td>\n",
       "      <td>...</td>\n",
       "      <td>...</td>\n",
       "      <td>...</td>\n",
       "      <td>...</td>\n",
       "      <td>...</td>\n",
       "      <td>...</td>\n",
       "      <td>...</td>\n",
       "    </tr>\n",
       "    <tr>\n",
       "      <th>381</th>\n",
       "      <td>treatment of residues, MSWI[F]-WWT, WW from pi...</td>\n",
       "      <td>residues, MSWI[F]-WWT, WW from pig iron produc...</td>\n",
       "      <td>CH</td>\n",
       "      <td>treatment of residues, MSWI[F]-WWT, WW from pi...</td>\n",
       "      <td>residues, MSWI[F]-WWT, WW from pig iron produc...</td>\n",
       "      <td>CH</td>\n",
       "      <td>2.307849e-12</td>\n",
       "      <td>5.504342e-07</td>\n",
       "      <td>1.270319e-18</td>\n",
       "    </tr>\n",
       "    <tr>\n",
       "      <th>550</th>\n",
       "      <td>market for residues, MSWI[F]-WWT, WW from pig ...</td>\n",
       "      <td>residues, MSWI[F]-WWT, WW from pig iron produc...</td>\n",
       "      <td>CH</td>\n",
       "      <td>market for residues, MSWI[F]-WWT, WW from pig ...</td>\n",
       "      <td>residues, MSWI[F]-WWT, WW from pig iron produc...</td>\n",
       "      <td>CH</td>\n",
       "      <td>2.307849e-12</td>\n",
       "      <td>5.504342e-07</td>\n",
       "      <td>1.270319e-18</td>\n",
       "    </tr>\n",
       "    <tr>\n",
       "      <th>6</th>\n",
       "      <td>hard coal preparation plant construction</td>\n",
       "      <td>hard coal preparation plant</td>\n",
       "      <td>GLO</td>\n",
       "      <td>market for hard coal preparation plant</td>\n",
       "      <td>hard coal preparation plant</td>\n",
       "      <td>GLO</td>\n",
       "      <td>5.415199e-13</td>\n",
       "      <td>1.015435e-01</td>\n",
       "      <td>5.498784e-14</td>\n",
       "    </tr>\n",
       "    <tr>\n",
       "      <th>119</th>\n",
       "      <td>gallium production, semiconductor-grade</td>\n",
       "      <td>gallium, semiconductor-grade</td>\n",
       "      <td>GLO</td>\n",
       "      <td>market for gallium, semiconductor-grade</td>\n",
       "      <td>gallium, semiconductor-grade</td>\n",
       "      <td>GLO</td>\n",
       "      <td>6.714523e-14</td>\n",
       "      <td>1.499116e+02</td>\n",
       "      <td>1.006585e-11</td>\n",
       "    </tr>\n",
       "    <tr>\n",
       "      <th>160</th>\n",
       "      <td>zirconium oxide production</td>\n",
       "      <td>zirconium oxide</td>\n",
       "      <td>AU</td>\n",
       "      <td>market for zirconium oxide</td>\n",
       "      <td>zirconium oxide</td>\n",
       "      <td>GLO</td>\n",
       "      <td>6.653300e-14</td>\n",
       "      <td>1.064630e-01</td>\n",
       "      <td>7.083305e-15</td>\n",
       "    </tr>\n",
       "  </tbody>\n",
       "</table>\n",
       "<p>624 rows × 9 columns</p>\n",
       "</div>"
      ],
      "text/plain": [
       "                                         supplier name  \\\n",
       "326  hard coal mine operation and hard coal prepara...   \n",
       "466  hard coal mine operation and hard coal prepara...   \n",
       "569              petroleum and gas production, onshore   \n",
       "447  hard coal mine operation and hard coal prepara...   \n",
       "591             petroleum and gas production, offshore   \n",
       "..                                                 ...   \n",
       "381  treatment of residues, MSWI[F]-WWT, WW from pi...   \n",
       "550  market for residues, MSWI[F]-WWT, WW from pig ...   \n",
       "6             hard coal preparation plant construction   \n",
       "119            gallium production, semiconductor-grade   \n",
       "160                         zirconium oxide production   \n",
       "\n",
       "                            supplier reference product supplier location  \\\n",
       "326                                          hard coal                RU   \n",
       "466                                          hard coal                CN   \n",
       "569                         natural gas, high pressure                RU   \n",
       "447                                          hard coal                AU   \n",
       "591                         natural gas, high pressure                GB   \n",
       "..                                                 ...               ...   \n",
       "381  residues, MSWI[F]-WWT, WW from pig iron produc...                CH   \n",
       "550  residues, MSWI[F]-WWT, WW from pig iron produc...                CH   \n",
       "6                          hard coal preparation plant               GLO   \n",
       "119                       gallium, semiconductor-grade               GLO   \n",
       "160                                    zirconium oxide                AU   \n",
       "\n",
       "                                         consumer name  \\\n",
       "326                               market for hard coal   \n",
       "466                               market for hard coal   \n",
       "569         natural gas, high pressure, import from RU   \n",
       "447                               market for hard coal   \n",
       "591  natural gas, high pressure, domestic supply wi...   \n",
       "..                                                 ...   \n",
       "381  treatment of residues, MSWI[F]-WWT, WW from pi...   \n",
       "550  market for residues, MSWI[F]-WWT, WW from pig ...   \n",
       "6               market for hard coal preparation plant   \n",
       "119            market for gallium, semiconductor-grade   \n",
       "160                         market for zirconium oxide   \n",
       "\n",
       "                            consumer reference product consumer location  \\\n",
       "326                                          hard coal                RU   \n",
       "466                                          hard coal                CN   \n",
       "569                         natural gas, high pressure               RoE   \n",
       "447                                          hard coal                AU   \n",
       "591                         natural gas, high pressure                GB   \n",
       "..                                                 ...               ...   \n",
       "381  residues, MSWI[F]-WWT, WW from pig iron produc...                CH   \n",
       "550  residues, MSWI[F]-WWT, WW from pig iron produc...                CH   \n",
       "6                          hard coal preparation plant               GLO   \n",
       "119                       gallium, semiconductor-grade               GLO   \n",
       "160                                    zirconium oxide               GLO   \n",
       "\n",
       "           amount            CF        impact  \n",
       "326  1.558913e-01  2.657538e-02  4.142872e-03  \n",
       "466  1.500573e-01  1.073166e-03  1.610364e-04  \n",
       "569  7.427591e-02  4.424862e-03  3.286607e-04  \n",
       "447  6.788713e-02  1.644236e-03  1.116225e-04  \n",
       "591  5.995618e-02  1.877126e-04  1.125453e-05  \n",
       "..            ...           ...           ...  \n",
       "381  2.307849e-12  5.504342e-07  1.270319e-18  \n",
       "550  2.307849e-12  5.504342e-07  1.270319e-18  \n",
       "6    5.415199e-13  1.015435e-01  5.498784e-14  \n",
       "119  6.714523e-14  1.499116e+02  1.006585e-11  \n",
       "160  6.653300e-14  1.064630e-01  7.083305e-15  \n",
       "\n",
       "[624 rows x 9 columns]"
      ]
     },
     "execution_count": 16,
     "metadata": {},
     "output_type": "execute_result"
    }
   ],
   "source": [
    "df.sort_values(\"amount\", ascending=False)"
   ]
  },
  {
   "cell_type": "code",
   "execution_count": 8,
   "id": "cf52fe08-b6a8-4c48-9ef0-4a68164c6e12",
   "metadata": {},
   "outputs": [
    {
     "data": {
      "text/plain": [
       "array([150.87843498, 150.70848584, 314.37457713,  62.9329279 ,\n",
       "       166.60068556, 108.9416093 , 170.95081809])"
      ]
     },
     "execution_count": 8,
     "metadata": {},
     "output_type": "execute_result"
    }
   ],
   "source": [
    "df[\"CF\"].unique()"
   ]
  },
  {
   "cell_type": "code",
   "execution_count": 16,
   "id": "b0d04e502fddab85",
   "metadata": {
    "ExecuteTime": {
     "end_time": "2025-03-14T12:57:31.989343Z",
     "start_time": "2025-03-14T12:57:31.985563Z"
    }
   },
   "outputs": [
    {
     "data": {
      "text/plain": [
       "supplier name   consumer location         \n",
       "Sulfur dioxide  Europe without Switzerland     4.368280\n",
       "                GLO                            2.481095\n",
       "                RU                            24.675845\n",
       "Name: CF, dtype: float64"
      ]
     },
     "execution_count": 16,
     "metadata": {},
     "output_type": "execute_result"
    }
   ],
   "source": [
    "df.groupby([\"supplier name\", \"consumer location\"])[\"CF\"].mean()"
   ]
  },
  {
   "cell_type": "code",
   "execution_count": 21,
   "id": "bc3b8566460bf0f",
   "metadata": {
    "ExecuteTime": {
     "end_time": "2025-03-14T12:21:26.350483Z",
     "start_time": "2025-03-14T12:21:26.348120Z"
    }
   },
   "outputs": [
    {
     "data": {
      "text/plain": [
       "124526838126026753"
      ]
     },
     "execution_count": 21,
     "metadata": {},
     "output_type": "execute_result"
    }
   ],
   "source": [
    "list(LCA.demand.keys())[0]"
   ]
  },
  {
   "cell_type": "code",
   "execution_count": 1,
   "id": "10e5992c6e7da7a5",
   "metadata": {
    "ExecuteTime": {
     "end_time": "2025-03-13T18:44:05.856654Z",
     "start_time": "2025-03-13T18:44:05.790055Z"
    }
   },
   "outputs": [
    {
     "data": {
      "text/plain": [
       "['PG', ('ecoinvent', 'UN-MELANESIA'), ('ecoinvent', 'UN-OCEANIA'), 'GLO']"
      ]
     },
     "execution_count": 1,
     "metadata": {},
     "output_type": "execute_result"
    }
   ],
   "source": [
    "from constructive_geometries import geomatcher\n",
    "geo = geomatcher.Geomatcher()\n",
    "\n",
    "geo.within(\"PG\", biggest_first=False)"
   ]
  },
  {
   "cell_type": "code",
   "execution_count": 2,
   "id": "dfb2406d-779e-4dc0-aa90-495c900003b8",
   "metadata": {},
   "outputs": [
    {
     "data": {
      "text/plain": [
       "['PG']"
      ]
     },
     "execution_count": 2,
     "metadata": {},
     "output_type": "execute_result"
    }
   ],
   "source": [
    "geo.contained(\"PG\", biggest_first=False)"
   ]
  },
  {
   "cell_type": "code",
   "execution_count": 6,
   "id": "791d371ddd317c5f",
   "metadata": {
    "ExecuteTime": {
     "end_time": "2025-03-13T11:32:15.968542Z",
     "start_time": "2025-03-13T11:32:15.903143Z"
    }
   },
   "outputs": [
    {
     "data": {
      "text/plain": [
       "{'Water',\n",
       " 'Water, cooling, unspecified natural origin',\n",
       " 'Water, in air',\n",
       " 'Water, lake',\n",
       " 'Water, river',\n",
       " 'Water, turbine use, unspecified natural origin',\n",
       " 'Water, unspecified natural origin',\n",
       " 'Water, well, in ground'}"
      ]
     },
     "execution_count": 6,
     "metadata": {},
     "output_type": "execute_result"
    }
   ],
   "source": [
    "set([x[\"supplier\"][\"name\"] for x in LCA.ignored_method_exchanges])"
   ]
  },
  {
   "cell_type": "code",
   "execution_count": 7,
   "id": "a6184f20f6cb9f89",
   "metadata": {
    "ExecuteTime": {
     "end_time": "2025-03-13T11:24:29.740003Z",
     "start_time": "2025-03-13T11:24:27.371772Z"
    }
   },
   "outputs": [
    {
     "name": "stdout",
     "output_type": "stream",
     "text": [
      "Matrix type: biosphere\n"
     ]
    },
    {
     "data": {
      "text/html": [
       "<div>\n",
       "<style scoped>\n",
       "    .dataframe tbody tr th:only-of-type {\n",
       "        vertical-align: middle;\n",
       "    }\n",
       "\n",
       "    .dataframe tbody tr th {\n",
       "        vertical-align: top;\n",
       "    }\n",
       "\n",
       "    .dataframe thead th {\n",
       "        text-align: right;\n",
       "    }\n",
       "</style>\n",
       "<table border=\"1\" class=\"dataframe\">\n",
       "  <thead>\n",
       "    <tr style=\"text-align: right;\">\n",
       "      <th></th>\n",
       "      <th>supplier name</th>\n",
       "      <th>supplier categories</th>\n",
       "      <th>consumer name</th>\n",
       "      <th>consumer reference product</th>\n",
       "      <th>consumer location</th>\n",
       "      <th>amount</th>\n",
       "      <th>CF</th>\n",
       "      <th>impact</th>\n",
       "    </tr>\n",
       "  </thead>\n",
       "  <tbody>\n",
       "    <tr>\n",
       "      <th>0</th>\n",
       "      <td>Water, cooling, unspecified natural origin</td>\n",
       "      <td>(natural resource, in water)</td>\n",
       "      <td>particleboard production, uncoated, from virgi...</td>\n",
       "      <td>particleboard, uncoated</td>\n",
       "      <td>RoW</td>\n",
       "      <td>6.544631e-11</td>\n",
       "      <td>20.179399</td>\n",
       "      <td>1.320667e-09</td>\n",
       "    </tr>\n",
       "    <tr>\n",
       "      <th>1</th>\n",
       "      <td>Water, cooling, unspecified natural origin</td>\n",
       "      <td>(natural resource, in water)</td>\n",
       "      <td>heat and power co-generation, lignite</td>\n",
       "      <td>electricity, high voltage</td>\n",
       "      <td>SI</td>\n",
       "      <td>1.453419e-07</td>\n",
       "      <td>1.087201</td>\n",
       "      <td>1.580158e-07</td>\n",
       "    </tr>\n",
       "    <tr>\n",
       "      <th>2</th>\n",
       "      <td>Water, cooling, unspecified natural origin</td>\n",
       "      <td>(natural resource, in water)</td>\n",
       "      <td>atrazine production</td>\n",
       "      <td>atrazine</td>\n",
       "      <td>RoW</td>\n",
       "      <td>4.228744e-12</td>\n",
       "      <td>19.819034</td>\n",
       "      <td>8.380961e-11</td>\n",
       "    </tr>\n",
       "    <tr>\n",
       "      <th>3</th>\n",
       "      <td>Water, cooling, unspecified natural origin</td>\n",
       "      <td>(natural resource, in water)</td>\n",
       "      <td>sheet rolling, copper</td>\n",
       "      <td>sheet rolling, copper</td>\n",
       "      <td>RoW</td>\n",
       "      <td>1.290820e-10</td>\n",
       "      <td>19.819034</td>\n",
       "      <td>2.558280e-09</td>\n",
       "    </tr>\n",
       "    <tr>\n",
       "      <th>4</th>\n",
       "      <td>Water, cooling, unspecified natural origin</td>\n",
       "      <td>(natural resource, in water)</td>\n",
       "      <td>phosphoric acid production, dihydrate process</td>\n",
       "      <td>phosphoric acid, fertiliser grade, without wat...</td>\n",
       "      <td>MA</td>\n",
       "      <td>5.123237e-08</td>\n",
       "      <td>54.031045</td>\n",
       "      <td>2.768139e-06</td>\n",
       "    </tr>\n",
       "    <tr>\n",
       "      <th>...</th>\n",
       "      <td>...</td>\n",
       "      <td>...</td>\n",
       "      <td>...</td>\n",
       "      <td>...</td>\n",
       "      <td>...</td>\n",
       "      <td>...</td>\n",
       "      <td>...</td>\n",
       "      <td>...</td>\n",
       "    </tr>\n",
       "    <tr>\n",
       "      <th>4923</th>\n",
       "      <td>Water, in air</td>\n",
       "      <td>(natural resource, in air)</td>\n",
       "      <td>soy-based resin production</td>\n",
       "      <td>polyester resin, unsaturated</td>\n",
       "      <td>US</td>\n",
       "      <td>4.729868e-16</td>\n",
       "      <td>9.087076</td>\n",
       "      <td>4.298067e-15</td>\n",
       "    </tr>\n",
       "    <tr>\n",
       "      <th>4924</th>\n",
       "      <td>Water, in air</td>\n",
       "      <td>(natural resource, in air)</td>\n",
       "      <td>soy-based resin production</td>\n",
       "      <td>polyester resin, unsaturated</td>\n",
       "      <td>RoW</td>\n",
       "      <td>1.378576e-15</td>\n",
       "      <td>20.175187</td>\n",
       "      <td>2.781303e-14</td>\n",
       "    </tr>\n",
       "    <tr>\n",
       "      <th>4925</th>\n",
       "      <td>Water, in air</td>\n",
       "      <td>(natural resource, in air)</td>\n",
       "      <td>clinker production</td>\n",
       "      <td>clinker</td>\n",
       "      <td>RoW</td>\n",
       "      <td>1.625316e-09</td>\n",
       "      <td>20.627229</td>\n",
       "      <td>3.352577e-08</td>\n",
       "    </tr>\n",
       "    <tr>\n",
       "      <th>4926</th>\n",
       "      <td>Water, in air</td>\n",
       "      <td>(natural resource, in air)</td>\n",
       "      <td>particleboard production, cement bonded</td>\n",
       "      <td>particleboard, cement bonded</td>\n",
       "      <td>RER</td>\n",
       "      <td>8.635607e-19</td>\n",
       "      <td>6.750246</td>\n",
       "      <td>5.829247e-18</td>\n",
       "    </tr>\n",
       "    <tr>\n",
       "      <th>4927</th>\n",
       "      <td>Water, in air</td>\n",
       "      <td>(natural resource, in air)</td>\n",
       "      <td>liquid packaging board production</td>\n",
       "      <td>bark</td>\n",
       "      <td>RoW</td>\n",
       "      <td>2.185130e-18</td>\n",
       "      <td>19.819034</td>\n",
       "      <td>4.330716e-17</td>\n",
       "    </tr>\n",
       "  </tbody>\n",
       "</table>\n",
       "<p>4928 rows × 8 columns</p>\n",
       "</div>"
      ],
      "text/plain": [
       "                                   supplier name  \\\n",
       "0     Water, cooling, unspecified natural origin   \n",
       "1     Water, cooling, unspecified natural origin   \n",
       "2     Water, cooling, unspecified natural origin   \n",
       "3     Water, cooling, unspecified natural origin   \n",
       "4     Water, cooling, unspecified natural origin   \n",
       "...                                          ...   \n",
       "4923                               Water, in air   \n",
       "4924                               Water, in air   \n",
       "4925                               Water, in air   \n",
       "4926                               Water, in air   \n",
       "4927                               Water, in air   \n",
       "\n",
       "               supplier categories  \\\n",
       "0     (natural resource, in water)   \n",
       "1     (natural resource, in water)   \n",
       "2     (natural resource, in water)   \n",
       "3     (natural resource, in water)   \n",
       "4     (natural resource, in water)   \n",
       "...                            ...   \n",
       "4923    (natural resource, in air)   \n",
       "4924    (natural resource, in air)   \n",
       "4925    (natural resource, in air)   \n",
       "4926    (natural resource, in air)   \n",
       "4927    (natural resource, in air)   \n",
       "\n",
       "                                          consumer name  \\\n",
       "0     particleboard production, uncoated, from virgi...   \n",
       "1                 heat and power co-generation, lignite   \n",
       "2                                   atrazine production   \n",
       "3                                 sheet rolling, copper   \n",
       "4         phosphoric acid production, dihydrate process   \n",
       "...                                                 ...   \n",
       "4923                         soy-based resin production   \n",
       "4924                         soy-based resin production   \n",
       "4925                                 clinker production   \n",
       "4926            particleboard production, cement bonded   \n",
       "4927                  liquid packaging board production   \n",
       "\n",
       "                             consumer reference product consumer location  \\\n",
       "0                               particleboard, uncoated               RoW   \n",
       "1                             electricity, high voltage                SI   \n",
       "2                                              atrazine               RoW   \n",
       "3                                 sheet rolling, copper               RoW   \n",
       "4     phosphoric acid, fertiliser grade, without wat...                MA   \n",
       "...                                                 ...               ...   \n",
       "4923                       polyester resin, unsaturated                US   \n",
       "4924                       polyester resin, unsaturated               RoW   \n",
       "4925                                            clinker               RoW   \n",
       "4926                       particleboard, cement bonded               RER   \n",
       "4927                                               bark               RoW   \n",
       "\n",
       "            amount         CF        impact  \n",
       "0     6.544631e-11  20.179399  1.320667e-09  \n",
       "1     1.453419e-07   1.087201  1.580158e-07  \n",
       "2     4.228744e-12  19.819034  8.380961e-11  \n",
       "3     1.290820e-10  19.819034  2.558280e-09  \n",
       "4     5.123237e-08  54.031045  2.768139e-06  \n",
       "...            ...        ...           ...  \n",
       "4923  4.729868e-16   9.087076  4.298067e-15  \n",
       "4924  1.378576e-15  20.175187  2.781303e-14  \n",
       "4925  1.625316e-09  20.627229  3.352577e-08  \n",
       "4926  8.635607e-19   6.750246  5.829247e-18  \n",
       "4927  2.185130e-18  19.819034  4.330716e-17  \n",
       "\n",
       "[4928 rows x 8 columns]"
      ]
     },
     "execution_count": 7,
     "metadata": {},
     "output_type": "execute_result"
    }
   ],
   "source": [
    "LCA.generate_cf_table()"
   ]
  },
  {
   "cell_type": "code",
   "execution_count": 7,
   "id": "7961940618b7aca6",
   "metadata": {
    "ExecuteTime": {
     "end_time": "2024-12-15T17:50:34.701932Z",
     "start_time": "2024-12-15T17:50:34.696160Z"
    }
   },
   "outputs": [
    {
     "data": {
      "text/plain": [
       "set()"
      ]
     },
     "execution_count": 7,
     "metadata": {},
     "output_type": "execute_result"
    }
   ],
   "source": [
    "LCA.ignored_locations"
   ]
  },
  {
   "cell_type": "code",
   "execution_count": 9,
   "id": "92b1b43be6023d7a",
   "metadata": {
    "ExecuteTime": {
     "end_time": "2025-03-12T15:31:19.780115Z",
     "start_time": "2025-03-12T15:31:19.775152Z"
    }
   },
   "outputs": [],
   "source": [
    "method = ('AWARE 1.2c', 'Country', 'mixed', 'yearly')\n",
    "convmethod = (\n",
    "  # 'ecoinvent-3.10',\n",
    "  'EF v3.1 EN15804',\n",
    "  'water use',\n",
    "  'user deprivation potential (deprivation-weighted water consumption)')"
   ]
  },
  {
   "cell_type": "code",
   "execution_count": 10,
   "id": "e4bc7f7d309a36bf",
   "metadata": {
    "ExecuteTime": {
     "end_time": "2025-03-12T15:31:21.118432Z",
     "start_time": "2025-03-12T15:31:20.271537Z"
    }
   },
   "outputs": [
    {
     "name": "stderr",
     "output_type": "stream",
     "text": [
      "/opt/homebrew/Caskroom/miniforge/base/envs/bw2/lib/python3.11/site-packages/scikits/umfpack/umfpack.py:736: UmfpackWarning: (almost) singular matrix! (estimated cond. number: 4.83e+13)\n",
      "  warnings.warn(msg, UmfpackWarning)\n"
     ]
    },
    {
     "data": {
      "text/plain": [
       "0.06176615560312869"
      ]
     },
     "execution_count": 10,
     "metadata": {},
     "output_type": "execute_result"
    }
   ],
   "source": [
    "import bw2calc\n",
    "\n",
    "convLCA = bw2calc.LCA({act: 1}, convmethod)\n",
    "convLCA.lci()\n",
    "convLCA.lcia()\n",
    "convLCA.score"
   ]
  },
  {
   "cell_type": "code",
   "execution_count": null,
   "id": "693d8b4bbb10bedb",
   "metadata": {},
   "outputs": [],
   "source": []
  }
 ],
 "metadata": {
  "kernelspec": {
   "display_name": "Python 3 (ipykernel)",
   "language": "python",
   "name": "python3"
  },
  "language_info": {
   "codemirror_mode": {
    "name": "ipython",
    "version": 3
   },
   "file_extension": ".py",
   "mimetype": "text/x-python",
   "name": "python",
   "nbconvert_exporter": "python",
   "pygments_lexer": "ipython3",
   "version": "3.11.11"
  }
 },
 "nbformat": 4,
 "nbformat_minor": 5
}
