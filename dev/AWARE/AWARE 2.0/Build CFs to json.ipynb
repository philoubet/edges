{
 "cells": [
  {
   "metadata": {},
   "cell_type": "markdown",
   "source": "1. Load official country-specific AWARE 2.0 CFs",
   "id": "b15b884809fde046"
  },
  {
   "metadata": {
    "ExecuteTime": {
     "end_time": "2025-05-21T10:58:39.440236Z",
     "start_time": "2025-05-21T10:58:39.198132Z"
    }
   },
   "cell_type": "code",
   "source": [
    "import csv\n",
    "import pandas as pd\n",
    "fp = \"aware_cf_2.0.csv\"\n",
    "\n",
    "with open(fp) as f:\n",
    "    reader = csv.reader(f)\n",
    "    data = [row for row in reader]"
   ],
   "id": "8aa2f92e784ad7f6",
   "outputs": [],
   "execution_count": 1
  },
  {
   "metadata": {},
   "cell_type": "markdown",
   "source": "2. Build a dictionary of CFs",
   "id": "ce761083cf16e52"
  },
  {
   "cell_type": "code",
   "id": "f04326c0cb3e2bf5",
   "metadata": {
    "ExecuteTime": {
     "end_time": "2025-05-21T10:58:39.577411Z",
     "start_time": "2025-05-21T10:58:39.575364Z"
    }
   },
   "source": [
    "cfs = {}\n",
    "categories = [\n",
    "    'Agg_CF_irri_yearly',\n",
    "    'Agg_CF_non_irri_yearly',\n",
    "    'Agg_CF_unspecified_yearly',\n",
    "]"
   ],
   "outputs": [],
   "execution_count": 2
  },
  {
   "cell_type": "code",
   "id": "a9b4d8225cf08c3e",
   "metadata": {
    "ExecuteTime": {
     "end_time": "2025-05-21T10:58:40.427863Z",
     "start_time": "2025-05-21T10:58:40.418366Z"
    }
   },
   "source": [
    "for c, category in enumerate(categories):\n",
    "    cfs[category] = []\n",
    "    for row in data[1:]:\n",
    "        val = row[c+2]\n",
    "        \n",
    "        if val == 0 or val=='':\n",
    "            continue\n",
    "\n",
    "        val = float(val)\n",
    "            \n",
    "        cfs[category].extend([\n",
    "            {\n",
    "                \"supplier\": {\n",
    "                    \"name\": \"Water\", \"categories\": ('water',), \"matrix\": \"biosphere\"\n",
    "                }, \"consumer\": {\n",
    "                    \"location\": row[1], \"matrix\": \"technosphere\"\n",
    "                }, \"value\": val * -1\n",
    "            },\n",
    "            {\n",
    "                \"supplier\": {\n",
    "                    \"name\": \"Water\", \"categories\":\t('water', 'surface water'), \"matrix\": \"biosphere\"\n",
    "                }, \"consumer\": {\n",
    "                    \"location\": row[1], \"matrix\": \"technosphere\"\n",
    "                }, \"value\": val * -1\n",
    "            },\n",
    "            {\n",
    "                \"supplier\": {\n",
    "                    \"name\": \"Water\", \"categories\":\t('water', 'ground-'), \"matrix\": \"biosphere\"\n",
    "                }, \"consumer\": {\n",
    "                    \"location\": row[1], \"matrix\": \"technosphere\"\n",
    "                }, \"value\": val * -1\n",
    "            },\n",
    "            {\n",
    "                \"supplier\": {\n",
    "                    \"name\": \"Water, cooling, unspecified natural origin\", \"categories\": ('natural resource', 'in water'), \"matrix\": \"biosphere\"\n",
    "                }, \"consumer\": {\n",
    "                    \"location\": row[1], \"matrix\": \"technosphere\"\n",
    "                }, \"value\": val\n",
    "            },\n",
    "            {\n",
    "                \"supplier\": {\n",
    "                    \"name\": \"Water, lake\", \"categories\":\t('natural resource', 'in water'), \"matrix\": \"biosphere\"\n",
    "                }, \"consumer\": {\n",
    "                    \"location\": row[1], \"matrix\": \"technosphere\"\n",
    "                }, \"value\": val\n",
    "            },\n",
    "            {\n",
    "                \"supplier\": {\n",
    "                    \"name\": \"Water, river\", \"categories\":\t('natural resource', 'in water'), \"matrix\": \"biosphere\"\n",
    "                }, \"consumer\": {\n",
    "                    \"location\": row[1], \"matrix\": \"technosphere\"\n",
    "                }, \"value\": val\n",
    "            },\n",
    "            {\n",
    "                \"supplier\": {\n",
    "                    \"name\": \"Water, turbine use, unspecified natural origin\", \"categories\": \t('natural resource', 'in water'), \"matrix\": \"biosphere\"\n",
    "                }, \"consumer\": {\n",
    "                    \"location\": row[1], \"matrix\": \"technosphere\"\n",
    "                }, \"value\": val\n",
    "            },\n",
    "            {\n",
    "                \"supplier\": {\n",
    "                    \"name\": \"Water, unspecified natural origin\", \"categories\": \t('natural resource', 'in water'), \"matrix\": \"biosphere\"\n",
    "                }, \"consumer\": {\n",
    "                    \"location\": row[1], \"matrix\": \"technosphere\"\n",
    "                }, \"value\": val\n",
    "            },\n",
    "            {\n",
    "                \"supplier\": {\n",
    "                    \"name\": \"Water, well, in ground\", \"categories\": ('natural resource', 'in water'), \"matrix\": \"biosphere\"\n",
    "                }, \"consumer\": {\n",
    "                    \"location\": row[1], \"matrix\": \"technosphere\"\n",
    "                }, \"value\": val\n",
    "            },\n",
    "        ])\n"
   ],
   "outputs": [],
   "execution_count": 3
  },
  {
   "metadata": {},
   "cell_type": "markdown",
   "source": "3. Add weights (region-specific annual consumption) to each CF",
   "id": "71fbe77f3e9732ef"
  },
  {
   "cell_type": "code",
   "id": "216664156f2aaa8b",
   "metadata": {
    "ExecuteTime": {
     "end_time": "2025-05-21T10:58:44.006355Z",
     "start_time": "2025-05-21T10:58:43.730539Z"
    }
   },
   "source": [
    "pd.set_option('future.no_silent_downcasting', True)\n",
    "worksheets = {\n",
    "    \"Agg_CF_irri\": \"pHWC_agri\",\n",
    "    \"Agg_CF_non_irri\": \"pHWC_nonagri\",\n",
    "    \"Agg_CF_unspecified\": \"pHWC_all\",\n",
    "}\n",
    "\n",
    "column_names = {\n",
    "    \"yearly\":\"Annual\",\n",
    "}\n",
    "\n",
    "for category, cf in cfs.items():\n",
    "\n",
    "    sheet_name = [v for k, v in worksheets.items() if category.startswith(k)][0]\n",
    "\n",
    "    # read Excel, but ignore 5 first columns\n",
    "    weight = pd.read_excel(\n",
    "        \"AWARE20_Countries_and_Regions.xlsx\",\n",
    "        sheet_name=sheet_name,\n",
    "        usecols=[i for i in range(5, 19)],\n",
    "    )\n",
    "\n",
    "    weight.set_index(\"ecoinvent_shortname\", inplace=True)\n",
    "\n",
    "    weight = weight.replace(\"NotDefined\", 0.0)\n",
    "\n",
    "    col_name = column_names[category.split(\"_\")[-1]]\n",
    "    weight = weight.loc[:, col_name]\n",
    "\n",
    "    # turn dataframe to dictionary, using index as keys\n",
    "    water_use_dict = weight.to_dict()\n",
    "\n",
    "    for c in cf:\n",
    "        c[\"weight\"] = water_use_dict.get(c[\"consumer\"][\"location\"], 0)\n"
   ],
   "outputs": [],
   "execution_count": 4
  },
  {
   "metadata": {},
   "cell_type": "markdown",
   "source": "4. Load uncertainty data (see uncertainty.ipynb)",
   "id": "681c455b75a1d2e9"
  },
  {
   "metadata": {
    "ExecuteTime": {
     "end_time": "2025-05-21T10:58:47.346440Z",
     "start_time": "2025-05-21T10:58:47.227877Z"
    }
   },
   "cell_type": "code",
   "source": [
    "# load uncertainty distributions\n",
    "df_uncertainty = pd.read_csv(\"distribution_summary_per_country_per_type.csv\")\n",
    "\n",
    "# Initialize the output dictionary\n",
    "country_distributions = {}\n",
    "\n",
    "for _, row in df_uncertainty.iterrows():\n",
    "    country = row[\"country\"]\n",
    "    water_type = row[\"type\"]\n",
    "    dist = row[\"distribution\"]\n",
    "\n",
    "    # Gather the parameters depending on distribution type\n",
    "    if dist == \"uniform\":\n",
    "        params = {\n",
    "            \"minimum\": row[\"minimum\"],\n",
    "            \"maximum\": row[\"maximum\"]\n",
    "        }\n",
    "    elif dist == \"discrete_empirical\":\n",
    "        params = {\n",
    "        \"values\": [round(v, 3) for v in eval(row[\"values\"])],\n",
    "        \"weights\": [round(w, 3) for w in eval(row[\"weights\"])]\n",
    "    }\n",
    "    else:\n",
    "        # Continuous distributions\n",
    "        params={}\n",
    "        for p in [\"shape_a\", \"shape_b\", \"loc\", \"scale\", \"minimum\", \"maximum\"]:\n",
    "            if not pd.isna(row[p]):\n",
    "                params[p] = row[p]\n",
    "\n",
    "    # Create inner dict\n",
    "    entry = {\n",
    "        \"distribution\": dist,\n",
    "        \"parameters\": params\n",
    "    }\n",
    "\n",
    "    # Store under country → type → entry\n",
    "    if country not in country_distributions:\n",
    "        country_distributions[country] = {}\n",
    "    country_distributions[country][water_type] = entry\n"
   ],
   "id": "87fb31e16e38f8e6",
   "outputs": [],
   "execution_count": 5
  },
  {
   "metadata": {
    "ExecuteTime": {
     "end_time": "2025-05-21T10:58:49.476063Z",
     "start_time": "2025-05-21T10:58:49.348421Z"
    }
   },
   "cell_type": "code",
   "source": [
    "import copy\n",
    "import numpy as np\n",
    "from pprint import pprint\n",
    "\n",
    "mapping = {\n",
    "    'Agg_CF_irri_yearly': 'agri',\n",
    "    'Agg_CF_non_irri_yearly': 'nonagri',\n",
    "    'Agg_CF_unspecified_yearly': 'unspecified',\n",
    "}\n",
    "\n",
    "for category, cf in cfs.items():\n",
    "    for c in cf:\n",
    "        if c[\"consumer\"][\"location\"] in country_distributions:\n",
    "            country = c[\"consumer\"][\"location\"]\n",
    "            if mapping[category] in country_distributions[country]:\n",
    "\n",
    "                uncertainty = country_distributions[country][mapping[category]]\n",
    "\n",
    "                if uncertainty[\"distribution\"] == \"discrete_empirical\":\n",
    "                    vals = np.array(uncertainty[\"parameters\"][\"values\"])\n",
    "                    weights = np.array(uncertainty[\"parameters\"][\"weights\"])\n",
    "                    average = np.average(vals, weights=weights)\n",
    "                    if abs(average) < (abs(c[\"value\"]) * 0.2) or abs(average) > (abs(c[\"value\"]) * 1.2):\n",
    "                        pass\n",
    "                    else:\n",
    "                        c[\"uncertainty\"] = copy.deepcopy(uncertainty)\n",
    "                else:\n",
    "                     c[\"uncertainty\"] = copy.deepcopy(uncertainty)"
   ],
   "id": "37d99833ea8d1193",
   "outputs": [],
   "execution_count": 6
  },
  {
   "metadata": {},
   "cell_type": "markdown",
   "source": "5. Save each category as a separate json file",
   "id": "bd9ab41daa0ed1ac"
  },
  {
   "cell_type": "code",
   "id": "535f1ad518615c5b",
   "metadata": {
    "ExecuteTime": {
     "end_time": "2025-05-21T10:58:51.801268Z",
     "start_time": "2025-05-21T10:58:51.607099Z"
    }
   },
   "source": [
    "# save each category as a separate json file\n",
    "import json\n",
    "\n",
    "for category in categories:\n",
    "    with open(f\"/Users/romain/GitHub/edges/edges/data/AWARE 2.0_{category.replace('_CF', '').replace('Agg', 'Country')}.json\", \"w\") as f:\n",
    "        print(f\"Saving {category.replace('_CF', '').replace('Agg', 'Country')}\")\n",
    "        json.dump(\n",
    "            {\n",
    "                \"name\": category.replace('_CF', '').replace('Agg', 'Country'),\n",
    "                \"unit\": \"m3 deprived water-eq.\",\n",
    "                \"version\": \"2.0\",\n",
    "                \"exchanges\": cfs[category]\n",
    "            },\n",
    "            f,\n",
    "            indent=3\n",
    "        )"
   ],
   "outputs": [
    {
     "name": "stdout",
     "output_type": "stream",
     "text": [
      "Saving Country_irri_yearly\n",
      "Saving Country_non_irri_yearly\n",
      "Saving Country_unspecified_yearly\n"
     ]
    }
   ],
   "execution_count": 7
  },
  {
   "metadata": {},
   "cell_type": "markdown",
   "source": "6. Build a method file that combines agricultural, non-agricultural and unspecified water use",
   "id": "9331c60355d78074"
  },
  {
   "cell_type": "code",
   "id": "223fc25bf456e2c8",
   "metadata": {
    "ExecuteTime": {
     "end_time": "2025-05-21T10:58:53.426909Z",
     "start_time": "2025-05-21T10:58:53.424380Z"
    }
   },
   "source": [
    "yearly_irri = cfs['Agg_CF_irri_yearly']\n",
    "yearly_non_irri = cfs['Agg_CF_non_irri_yearly']\n",
    "yearly_unspecified = cfs['Agg_CF_unspecified_yearly']"
   ],
   "outputs": [],
   "execution_count": 8
  },
  {
   "cell_type": "code",
   "id": "df6a0085e5f56441",
   "metadata": {
    "ExecuteTime": {
     "end_time": "2025-05-21T10:58:54.522536Z",
     "start_time": "2025-05-21T10:58:54.460254Z"
    }
   },
   "source": [
    "import copy\n",
    "\n",
    "for cf in yearly_irri:\n",
    "    cf[\"consumer\"][\"classifications\"] = {\n",
    "        \"CPC\": [\n",
    "            '01',\n",
    "        ]\n",
    "    }\n",
    "\n",
    "    country = cf[\"consumer\"][\"location\"]\n",
    "    if country in country_distributions:\n",
    "        if mapping[\"Agg_CF_irri_yearly\"] in country_distributions[country]:\n",
    "            uncertainty = country_distributions[country][mapping[\"Agg_CF_irri_yearly\"]]\n",
    "\n",
    "            if uncertainty[\"distribution\"] == \"discrete_empirical\":\n",
    "                vals = np.array(uncertainty[\"parameters\"][\"values\"])\n",
    "                weights = np.array(uncertainty[\"parameters\"][\"weights\"])\n",
    "                average = np.average(vals, weights=weights)\n",
    "                if abs(average) < (abs(c[\"value\"]) * 0.9) or abs(average) > (abs(c[\"value\"]) * 1.1):\n",
    "                    pass\n",
    "                else:\n",
    "                    c[\"uncertainty\"] = copy.deepcopy(uncertainty)\n",
    "            else:\n",
    "                 c[\"uncertainty\"] = copy.deepcopy(uncertainty)\n",
    "\n",
    "\n",
    "for cf in yearly_irri:\n",
    "    if \"uncertainty\" in cf:\n",
    "        cf[\"uncertainty\"][\"negative\"] = int(float(cf[\"value\"]) < 0)\n",
    "        \n",
    "\n",
    "for cf in yearly_non_irri:\n",
    "    cf[\"consumer\"][\"classifications\"] = {\n",
    "        \"CPC\": [\n",
    "            '02',\n",
    "            '03',\n",
    "            '04',\n",
    "            '1',\n",
    "            '2',\n",
    "            '3',\n",
    "            '4',\n",
    "            '5',\n",
    "            '6',\n",
    "            '7',\n",
    "            '8',\n",
    "            '9',\n",
    "        ]\n",
    "    }\n",
    "    country = cf[\"consumer\"][\"location\"]\n",
    "    if country in country_distributions:\n",
    "        if mapping[\"Agg_CF_non_irri_yearly\"] in country_distributions[country]:\n",
    "            uncertainty = country_distributions[country][mapping[\"Agg_CF_non_irri_yearly\"]]\n",
    "\n",
    "            if uncertainty[\"distribution\"] == \"discrete_empirical\":\n",
    "                vals = np.array(uncertainty[\"parameters\"][\"values\"])\n",
    "                weights = np.array(uncertainty[\"parameters\"][\"weights\"])\n",
    "                average = np.average(vals, weights=weights)\n",
    "                if abs(average) < (abs(c[\"value\"]) * 0.9) or abs(average) > (abs(c[\"value\"]) * 1.1):\n",
    "                    pass\n",
    "                else:\n",
    "                    c[\"uncertainty\"] = copy.deepcopy(uncertainty)\n",
    "            else:\n",
    "                 c[\"uncertainty\"] = copy.deepcopy(uncertainty)\n",
    "        \n",
    "for cf in yearly_non_irri:\n",
    "    if \"uncertainty\" in cf:\n",
    "        cf[\"uncertainty\"][\"negative\"] = int(float(cf[\"value\"]) < 0)\n",
    "\n",
    "for cf in yearly_unspecified:\n",
    "    country = cf[\"consumer\"][\"location\"]\n",
    "    if country in country_distributions:\n",
    "        if mapping[\"Agg_CF_unspecified_yearly\"] in country_distributions[country]:\n",
    "            uncertainty = country_distributions[country][mapping[\"Agg_CF_unspecified_yearly\"]]\n",
    "\n",
    "            if uncertainty[\"distribution\"] == \"discrete_empirical\":\n",
    "                vals = np.array(uncertainty[\"parameters\"][\"values\"])\n",
    "                weights = np.array(uncertainty[\"parameters\"][\"weights\"])\n",
    "                average = np.average(vals, weights=weights)\n",
    "                if abs(average) < (abs(c[\"value\"]) * 0.9) or abs(average) > (abs(c[\"value\"]) * 1.1):\n",
    "                    pass\n",
    "                else:\n",
    "                    c[\"uncertainty\"] = copy.deepcopy(uncertainty)\n",
    "            else:\n",
    "                 c[\"uncertainty\"] = copy.deepcopy(uncertainty)\n",
    "\n",
    "for cf in yearly_unspecified:\n",
    "    if \"uncertainty\" in cf:\n",
    "        cf[\"uncertainty\"][\"negative\"] = int(float(cf[\"value\"]) < 0)"
   ],
   "outputs": [],
   "execution_count": 9
  },
  {
   "cell_type": "code",
   "id": "f6fffd53615c306b",
   "metadata": {
    "ExecuteTime": {
     "end_time": "2025-05-21T10:58:59.168740Z",
     "start_time": "2025-05-21T10:58:58.944382Z"
    }
   },
   "source": [
    "# save each category as a separate json file\n",
    "import json\n",
    "\n",
    "\n",
    "with open(f\"/Users/romain/GitHub/edges/edges/data/AWARE 2.0_Country_all_yearly.json\", \"w\") as f:\n",
    "    json.dump(\n",
    "        {\n",
    "            \"name\": \"AWARE 2.0_Country_all_yearly\",\n",
    "            \"unit\": \"m3 deprived water-eq.\",\n",
    "            \"version\": \"2.0\",\n",
    "            \"exchanges\": yearly_irri + yearly_non_irri + yearly_unspecified,\n",
    "        },\n",
    "        f,\n",
    "        indent=3\n",
    "    )"
   ],
   "outputs": [],
   "execution_count": 10
  },
  {
   "cell_type": "code",
   "execution_count": null,
   "id": "7a9f6184-8df8-43e0-ab6c-19b4f6982f13",
   "metadata": {},
   "outputs": [],
   "source": []
  }
 ],
 "metadata": {
  "kernelspec": {
   "display_name": "Python 3 (ipykernel)",
   "language": "python",
   "name": "python3"
  },
  "language_info": {
   "codemirror_mode": {
    "name": "ipython",
    "version": 3
   },
   "file_extension": ".py",
   "mimetype": "text/x-python",
   "name": "python",
   "nbconvert_exporter": "python",
   "pygments_lexer": "ipython3",
   "version": "3.11.11"
  }
 },
 "nbformat": 4,
 "nbformat_minor": 5
}
